{
 "cells": [
  {
   "cell_type": "markdown",
   "id": "f2c56753",
   "metadata": {},
   "source": [
    "# 분류모델 평가 방법"
   ]
  },
  {
   "cell_type": "markdown",
   "id": "c4c43fe7",
   "metadata": {},
   "source": [
    "## 정확도"
   ]
  },
  {
   "cell_type": "markdown",
   "id": "b21e8778",
   "metadata": {},
   "source": [
    "### MNIST 손글씨 데이터 활용"
   ]
  },
  {
   "cell_type": "code",
   "execution_count": 7,
   "id": "1a641b2b",
   "metadata": {},
   "outputs": [],
   "source": [
    "from sklearn.datasets import load_digits\n",
    "from sklearn.model_selection import train_test_split\n",
    "from sklearn.base import BaseEstimator\n",
    "from sklearn.metrics import accuracy_score\n",
    "import numpy as np\n",
    "import pandas as pd\n",
    "import matplotlib.pyplot as plt\n",
    "import matplotlib as mpl"
   ]
  },
  {
   "cell_type": "code",
   "execution_count": 6,
   "id": "1cb412f6",
   "metadata": {},
   "outputs": [
    {
     "data": {
      "text/plain": [
       "((1797, 64), (1797,))"
      ]
     },
     "execution_count": 6,
     "metadata": {},
     "output_type": "execute_result"
    }
   ],
   "source": [
    "# 숫자 손글씨 데이터 로드\n",
    "\n",
    "digits = load_digits()\n",
    "\n",
    "# x y 데이터 객체화\n",
    "x_datas = digits.data\n",
    "y_datas = digits.target\n",
    "\n",
    "x_datas.shape, y_datas.shape"
   ]
  },
  {
   "cell_type": "code",
   "execution_count": 27,
   "id": "f5635882",
   "metadata": {},
   "outputs": [
    {
     "data": {
      "text/plain": [
       "3    183\n",
       "1    182\n",
       "5    182\n",
       "4    181\n",
       "6    181\n",
       "9    180\n",
       "7    179\n",
       "0    178\n",
       "2    177\n",
       "8    174\n",
       "dtype: int64"
      ]
     },
     "execution_count": 27,
     "metadata": {},
     "output_type": "execute_result"
    }
   ],
   "source": [
    "# y_data의 숫자 개수 확인\n",
    "pd.Series(y_datas).value_counts()"
   ]
  },
  {
   "cell_type": "code",
   "execution_count": 25,
   "id": "08253a25",
   "metadata": {},
   "outputs": [
    {
     "data": {
      "image/png": "[encoded data removed]",
      "text/plain": [
       "<Figure size 432x288 with 1 Axes>"
      ]
     },
     "metadata": {
      "needs_background": "light"
     },
     "output_type": "display_data"
    }
   ],
   "source": [
    "# 시각화\n",
    "# 한글 쓸 때 활용\n",
    "mpl.rc('font', family = 'Malgun Gothic')\n",
    "\n",
    "plt.imshow(x_datas[1000].reshape(8,8))\n",
    "plt.title(f'예측: {y_datas[1000]}')\n",
    "plt.show()"
   ]
  },
  {
   "cell_type": "code",
   "execution_count": 24,
   "id": "9f75cc17",
   "metadata": {},
   "outputs": [
    {
     "data": {
      "image/png": "[encoded data removed]",
      "text/plain": [
       "<Figure size 1080x1080 with 15 Axes>"
      ]
     },
     "metadata": {
      "needs_background": "light"
     },
     "output_type": "display_data"
    }
   ],
   "source": [
    "# 여러개 시각화\n",
    "\n",
    "plt.figure(figsize = (15, 15))\n",
    "\n",
    "# 여러개 서브플랏 만들 때 활용\n",
    "for i in range(15):\n",
    "    plt.subplot(6, 5, i + 1)\n",
    "    plt.imshow(x_datas[(i+1) * 5].reshape(8,8), cmap = 'gray')\n",
    "    plt.title(f'target = {y_datas[(i+1) * 5]}')\n",
    "    # x축 y축 표시 안함\n",
    "    plt.axis('off')\n",
    "    \n",
    "# 마지막에 써야함\n",
    "plt.show()"
   ]
  },
  {
   "cell_type": "code",
   "execution_count": 33,
   "id": "6bdd660c",
   "metadata": {},
   "outputs": [],
   "source": [
    "class MyFakeClassifier(BaseEstimator):\n",
    "    def fit(sef, X, y):\n",
    "        pass\n",
    "    \n",
    "    # 입력값으로 들어오는 x데이터 세트의 크기만큼 모두 0으로 만들어서 반환\n",
    "    def predict(self, X):\n",
    "        return np.zeros((len(X), 1), dtype = bool)"
   ]
  },
  {
   "cell_type": "code",
   "execution_count": 36,
   "id": "86caed18",
   "metadata": {},
   "outputs": [
    {
     "name": "stdout",
     "output_type": "stream",
     "text": [
      "0    1618\n",
      "1     179\n",
      "dtype: int64\n",
      "0    405\n",
      "1     45\n",
      "dtype: int64\n"
     ]
    },
    {
     "data": {
      "text/plain": [
       "0.9"
      ]
     },
     "execution_count": 36,
     "metadata": {},
     "output_type": "execute_result"
    }
   ],
   "source": [
    "# 7 여부를 배열로 반환해서 불균형한 데이터로 변환\n",
    "y = (y_datas == 7).astype(int)\n",
    "\n",
    "print(pd.Series(y).value_counts())\n",
    "\n",
    "# 학습/테스트용 데이터 나누기\n",
    "X_train, X_test, y_train, y_test = train_test_split(x_datas, y, \n",
    "                                                    random_state = 11)\n",
    "\n",
    "# dummy classifier로 학습/예측/정확도 평가\n",
    "fakeclf = MyFakeClassifier()\n",
    "fakeclf.fit(X_train, y_train)\n",
    "\n",
    "fakepred = fakeclf.predict(X_test)\n",
    "\n",
    "print(pd.Series(y_test).value_counts())\n",
    "# 모든 예측을 0으로 해도 예측 정확도는 90프로가 나옴-> 불균형 데이터셋에 대한 분류 평가기준은 정확도로만은 안됨!\n",
    "accuracy_score(y_test, fakepred)"
   ]
  },
  {
   "cell_type": "markdown",
   "id": "810c8274",
   "metadata": {},
   "source": [
    "## 오차 행렬"
   ]
  },
  {
   "cell_type": "code",
   "execution_count": 37,
   "id": "5aca4d9b",
   "metadata": {},
   "outputs": [],
   "source": [
    "from sklearn.metrics import confusion_matrix"
   ]
  },
  {
   "cell_type": "code",
   "execution_count": 38,
   "id": "10ba4718",
   "metadata": {},
   "outputs": [
    {
     "data": {
      "text/plain": [
       "array([[405,   0],\n",
       "       [ 45,   0]], dtype=int64)"
      ]
     },
     "execution_count": 38,
     "metadata": {},
     "output_type": "execute_result"
    }
   ],
   "source": [
    "# [[TN, FP], [FN, TP]]\n",
    "# [[실제 N/예측 N, 실제 N/예측 P], [실제 P/예측 N, 실제 P/예측 P]]\n",
    "\n",
    "confusion_matrix(y_test, fakepred)"
   ]
  },
  {
   "cell_type": "markdown",
   "id": "3659af35",
   "metadata": {},
   "source": [
    "## 정밀도와 재현율"
   ]
  },
  {
   "cell_type": "markdown",
   "id": "a09afc23",
   "metadata": {},
   "source": [
    "### 타이타닉 활용"
   ]
  },
  {
   "cell_type": "code",
   "execution_count": 42,
   "id": "ac54078f",
   "metadata": {},
   "outputs": [],
   "source": [
    "from sklearn.metrics import accuracy_score, precision_score, recall_score, confusion_matrix\n",
    "import pandas as pd"
   ]
  },
  {
   "cell_type": "code",
   "execution_count": 78,
   "id": "3199ee22",
   "metadata": {},
   "outputs": [],
   "source": [
    "# 평가 결과 반환하는 사용자함수 생성\n",
    "\n",
    "def get_clf_eval(y_test, pred):\n",
    "    confusion = confusion_matrix(y_test, pred)\n",
    "    accuracy = accuracy_score(y_test, pred)\n",
    "    precision = precision_score(y_test, pred)\n",
    "    recall = recall_score(y_test, pred)\n",
    "    \n",
    "    print(f'오차 행렬: \\n{confusion}')\n",
    "    print(f'정확도: {accuracy}')\n",
    "    print(f'정밀도: {precision}')\n",
    "    print(f'재현율: {recall}')"
   ]
  },
  {
   "cell_type": "code",
   "execution_count": 53,
   "id": "31e38547",
   "metadata": {},
   "outputs": [],
   "source": [
    "from sklearn.model_selection import train_test_split\n",
    "from sklearn.metrics import accuracy_score\n",
    "from sklearn.preprocessing import LabelEncoder\n",
    "from sklearn.linear_model import LogisticRegression"
   ]
  },
  {
   "cell_type": "code",
   "execution_count": 50,
   "id": "649a7f69",
   "metadata": {},
   "outputs": [],
   "source": [
    "## Null 처리 함수\n",
    "def fillna(df):\n",
    "    df['Age'].fillna(df['Age'].mean(), inplace=True)\n",
    "    df['Cabin'].fillna('N', inplace=True)\n",
    "    df['Embarked'].fillna('N', inplace=True)\n",
    "    df['Fare'].fillna(0, inplace=True)\n",
    "    return df\n",
    "\n",
    "## 머신러닝에 불필요한 피처 제거\n",
    "def drop_features(df):\n",
    "    df.drop(['PassengerId', 'Name', 'Ticket'], axis=1, inplace=True)\n",
    "    return df\n",
    "\n",
    "## Label Encoding 수행\n",
    "def format_features(df):\n",
    "    df['Cabin'] = df['Cabin'].str[:1]\n",
    "    features = ['Cabin', 'Sex', 'Embarked']\n",
    "    for feature in features:\n",
    "        le = LabelEncoder()\n",
    "        le.fit(df[feature])\n",
    "        df[feature] = le.transform(df[feature])\n",
    "    return df\n",
    "\n",
    "def transform_features(df):\n",
    "    df = fillna(df)\n",
    "    df = drop_features(df)\n",
    "    df = format_features(df)\n",
    "    return df"
   ]
  },
  {
   "cell_type": "code",
   "execution_count": 57,
   "id": "40b941a6",
   "metadata": {},
   "outputs": [
    {
     "data": {
      "text/html": [
       "<div>\n",
       "<style scoped>\n",
       "    .dataframe tbody tr th:only-of-type {\n",
       "        vertical-align: middle;\n",
       "    }\n",
       "\n",
       "    .dataframe tbody tr th {\n",
       "        vertical-align: top;\n",
       "    }\n",
       "\n",
       "    .dataframe thead th {\n",
       "        text-align: right;\n",
       "    }\n",
       "</style>\n",
       "<table border=\"1\" class=\"dataframe\">\n",
       "  <thead>\n",
       "    <tr style=\"text-align: right;\">\n",
       "      <th></th>\n",
       "      <th>PassengerId</th>\n",
       "      <th>Survived</th>\n",
       "      <th>Pclass</th>\n",
       "      <th>Name</th>\n",
       "      <th>Sex</th>\n",
       "      <th>Age</th>\n",
       "      <th>SibSp</th>\n",
       "      <th>Parch</th>\n",
       "      <th>Ticket</th>\n",
       "      <th>Fare</th>\n",
       "      <th>Cabin</th>\n",
       "      <th>Embarked</th>\n",
       "    </tr>\n",
       "  </thead>\n",
       "  <tbody>\n",
       "    <tr>\n",
       "      <th>0</th>\n",
       "      <td>1</td>\n",
       "      <td>0</td>\n",
       "      <td>3</td>\n",
       "      <td>Braund, Mr. Owen Harris</td>\n",
       "      <td>male</td>\n",
       "      <td>22.0</td>\n",
       "      <td>1</td>\n",
       "      <td>0</td>\n",
       "      <td>A/5 21171</td>\n",
       "      <td>7.2500</td>\n",
       "      <td>NaN</td>\n",
       "      <td>S</td>\n",
       "    </tr>\n",
       "    <tr>\n",
       "      <th>1</th>\n",
       "      <td>2</td>\n",
       "      <td>1</td>\n",
       "      <td>1</td>\n",
       "      <td>Cumings, Mrs. John Bradley (Florence Briggs Th...</td>\n",
       "      <td>female</td>\n",
       "      <td>38.0</td>\n",
       "      <td>1</td>\n",
       "      <td>0</td>\n",
       "      <td>PC 17599</td>\n",
       "      <td>71.2833</td>\n",
       "      <td>C85</td>\n",
       "      <td>C</td>\n",
       "    </tr>\n",
       "    <tr>\n",
       "      <th>2</th>\n",
       "      <td>3</td>\n",
       "      <td>1</td>\n",
       "      <td>3</td>\n",
       "      <td>Heikkinen, Miss. Laina</td>\n",
       "      <td>female</td>\n",
       "      <td>26.0</td>\n",
       "      <td>0</td>\n",
       "      <td>0</td>\n",
       "      <td>STON/O2. 3101282</td>\n",
       "      <td>7.9250</td>\n",
       "      <td>NaN</td>\n",
       "      <td>S</td>\n",
       "    </tr>\n",
       "    <tr>\n",
       "      <th>3</th>\n",
       "      <td>4</td>\n",
       "      <td>1</td>\n",
       "      <td>1</td>\n",
       "      <td>Futrelle, Mrs. Jacques Heath (Lily May Peel)</td>\n",
       "      <td>female</td>\n",
       "      <td>35.0</td>\n",
       "      <td>1</td>\n",
       "      <td>0</td>\n",
       "      <td>113803</td>\n",
       "      <td>53.1000</td>\n",
       "      <td>C123</td>\n",
       "      <td>S</td>\n",
       "    </tr>\n",
       "    <tr>\n",
       "      <th>4</th>\n",
       "      <td>5</td>\n",
       "      <td>0</td>\n",
       "      <td>3</td>\n",
       "      <td>Allen, Mr. William Henry</td>\n",
       "      <td>male</td>\n",
       "      <td>35.0</td>\n",
       "      <td>0</td>\n",
       "      <td>0</td>\n",
       "      <td>373450</td>\n",
       "      <td>8.0500</td>\n",
       "      <td>NaN</td>\n",
       "      <td>S</td>\n",
       "    </tr>\n",
       "  </tbody>\n",
       "</table>\n",
       "</div>"
      ],
      "text/plain": [
       "   PassengerId  Survived  Pclass  \\\n",
       "0            1         0       3   \n",
       "1            2         1       1   \n",
       "2            3         1       3   \n",
       "3            4         1       1   \n",
       "4            5         0       3   \n",
       "\n",
       "                                                Name     Sex   Age  SibSp  \\\n",
       "0                            Braund, Mr. Owen Harris    male  22.0      1   \n",
       "1  Cumings, Mrs. John Bradley (Florence Briggs Th...  female  38.0      1   \n",
       "2                             Heikkinen, Miss. Laina  female  26.0      0   \n",
       "3       Futrelle, Mrs. Jacques Heath (Lily May Peel)  female  35.0      1   \n",
       "4                           Allen, Mr. William Henry    male  35.0      0   \n",
       "\n",
       "   Parch            Ticket     Fare Cabin Embarked  \n",
       "0      0         A/5 21171   7.2500   NaN        S  \n",
       "1      0          PC 17599  71.2833   C85        C  \n",
       "2      0  STON/O2. 3101282   7.9250   NaN        S  \n",
       "3      0            113803  53.1000  C123        S  \n",
       "4      0            373450   8.0500   NaN        S  "
      ]
     },
     "metadata": {},
     "output_type": "display_data"
    },
    {
     "data": {
      "text/html": [
       "<div>\n",
       "<style scoped>\n",
       "    .dataframe tbody tr th:only-of-type {\n",
       "        vertical-align: middle;\n",
       "    }\n",
       "\n",
       "    .dataframe tbody tr th {\n",
       "        vertical-align: top;\n",
       "    }\n",
       "\n",
       "    .dataframe thead th {\n",
       "        text-align: right;\n",
       "    }\n",
       "</style>\n",
       "<table border=\"1\" class=\"dataframe\">\n",
       "  <thead>\n",
       "    <tr style=\"text-align: right;\">\n",
       "      <th></th>\n",
       "      <th>Pclass</th>\n",
       "      <th>Sex</th>\n",
       "      <th>Age</th>\n",
       "      <th>SibSp</th>\n",
       "      <th>Parch</th>\n",
       "      <th>Fare</th>\n",
       "      <th>Cabin</th>\n",
       "      <th>Embarked</th>\n",
       "    </tr>\n",
       "  </thead>\n",
       "  <tbody>\n",
       "    <tr>\n",
       "      <th>0</th>\n",
       "      <td>3</td>\n",
       "      <td>1</td>\n",
       "      <td>22.000000</td>\n",
       "      <td>1</td>\n",
       "      <td>0</td>\n",
       "      <td>7.2500</td>\n",
       "      <td>7</td>\n",
       "      <td>3</td>\n",
       "    </tr>\n",
       "    <tr>\n",
       "      <th>1</th>\n",
       "      <td>1</td>\n",
       "      <td>0</td>\n",
       "      <td>38.000000</td>\n",
       "      <td>1</td>\n",
       "      <td>0</td>\n",
       "      <td>71.2833</td>\n",
       "      <td>2</td>\n",
       "      <td>0</td>\n",
       "    </tr>\n",
       "    <tr>\n",
       "      <th>2</th>\n",
       "      <td>3</td>\n",
       "      <td>0</td>\n",
       "      <td>26.000000</td>\n",
       "      <td>0</td>\n",
       "      <td>0</td>\n",
       "      <td>7.9250</td>\n",
       "      <td>7</td>\n",
       "      <td>3</td>\n",
       "    </tr>\n",
       "    <tr>\n",
       "      <th>3</th>\n",
       "      <td>1</td>\n",
       "      <td>0</td>\n",
       "      <td>35.000000</td>\n",
       "      <td>1</td>\n",
       "      <td>0</td>\n",
       "      <td>53.1000</td>\n",
       "      <td>2</td>\n",
       "      <td>3</td>\n",
       "    </tr>\n",
       "    <tr>\n",
       "      <th>4</th>\n",
       "      <td>3</td>\n",
       "      <td>1</td>\n",
       "      <td>35.000000</td>\n",
       "      <td>0</td>\n",
       "      <td>0</td>\n",
       "      <td>8.0500</td>\n",
       "      <td>7</td>\n",
       "      <td>3</td>\n",
       "    </tr>\n",
       "    <tr>\n",
       "      <th>...</th>\n",
       "      <td>...</td>\n",
       "      <td>...</td>\n",
       "      <td>...</td>\n",
       "      <td>...</td>\n",
       "      <td>...</td>\n",
       "      <td>...</td>\n",
       "      <td>...</td>\n",
       "      <td>...</td>\n",
       "    </tr>\n",
       "    <tr>\n",
       "      <th>886</th>\n",
       "      <td>2</td>\n",
       "      <td>1</td>\n",
       "      <td>27.000000</td>\n",
       "      <td>0</td>\n",
       "      <td>0</td>\n",
       "      <td>13.0000</td>\n",
       "      <td>7</td>\n",
       "      <td>3</td>\n",
       "    </tr>\n",
       "    <tr>\n",
       "      <th>887</th>\n",
       "      <td>1</td>\n",
       "      <td>0</td>\n",
       "      <td>19.000000</td>\n",
       "      <td>0</td>\n",
       "      <td>0</td>\n",
       "      <td>30.0000</td>\n",
       "      <td>1</td>\n",
       "      <td>3</td>\n",
       "    </tr>\n",
       "    <tr>\n",
       "      <th>888</th>\n",
       "      <td>3</td>\n",
       "      <td>0</td>\n",
       "      <td>29.699118</td>\n",
       "      <td>1</td>\n",
       "      <td>2</td>\n",
       "      <td>23.4500</td>\n",
       "      <td>7</td>\n",
       "      <td>3</td>\n",
       "    </tr>\n",
       "    <tr>\n",
       "      <th>889</th>\n",
       "      <td>1</td>\n",
       "      <td>1</td>\n",
       "      <td>26.000000</td>\n",
       "      <td>0</td>\n",
       "      <td>0</td>\n",
       "      <td>30.0000</td>\n",
       "      <td>2</td>\n",
       "      <td>0</td>\n",
       "    </tr>\n",
       "    <tr>\n",
       "      <th>890</th>\n",
       "      <td>3</td>\n",
       "      <td>1</td>\n",
       "      <td>32.000000</td>\n",
       "      <td>0</td>\n",
       "      <td>0</td>\n",
       "      <td>7.7500</td>\n",
       "      <td>7</td>\n",
       "      <td>2</td>\n",
       "    </tr>\n",
       "  </tbody>\n",
       "</table>\n",
       "<p>891 rows × 8 columns</p>\n",
       "</div>"
      ],
      "text/plain": [
       "     Pclass  Sex        Age  SibSp  Parch     Fare  Cabin  Embarked\n",
       "0         3    1  22.000000      1      0   7.2500      7         3\n",
       "1         1    0  38.000000      1      0  71.2833      2         0\n",
       "2         3    0  26.000000      0      0   7.9250      7         3\n",
       "3         1    0  35.000000      1      0  53.1000      2         3\n",
       "4         3    1  35.000000      0      0   8.0500      7         3\n",
       "..      ...  ...        ...    ...    ...      ...    ...       ...\n",
       "886       2    1  27.000000      0      0  13.0000      7         3\n",
       "887       1    0  19.000000      0      0  30.0000      1         3\n",
       "888       3    0  29.699118      1      2  23.4500      7         3\n",
       "889       1    1  26.000000      0      0  30.0000      2         0\n",
       "890       3    1  32.000000      0      0   7.7500      7         2\n",
       "\n",
       "[891 rows x 8 columns]"
      ]
     },
     "metadata": {},
     "output_type": "display_data"
    },
    {
     "name": "stdout",
     "output_type": "stream",
     "text": [
      "(891, 8)\n"
     ]
    }
   ],
   "source": [
    "# 로지스틱 회귀를 기반으로 타이타닉 생존자 예측\n",
    "tit_df = pd.read_csv('./필요데이터/titanic_train.csv')\n",
    "display(tit_df.head())\n",
    "\n",
    "y = tit_df['Survived']\n",
    "x = tit_df.drop(['Survived'], axis = 1)\n",
    "x = transform_features(x)\n",
    "display(x)\n",
    "print(x.shape)"
   ]
  },
  {
   "cell_type": "code",
   "execution_count": 70,
   "id": "2d8ed98a",
   "metadata": {},
   "outputs": [
    {
     "name": "stdout",
     "output_type": "stream",
     "text": [
      "[[0.8974367  0.1025633  0.        ]\n",
      " [0.50243031 0.49756969 0.        ]\n",
      " [0.87519803 0.12480197 0.        ]\n",
      " [0.96705431 0.03294569 0.        ]\n",
      " [0.91202844 0.08797156 0.        ]\n",
      " [0.6747154  0.3252846  0.        ]\n",
      " [0.48146714 0.51853286 1.        ]\n",
      " [0.40928427 0.59071573 1.        ]\n",
      " [0.86921299 0.13078701 0.        ]\n",
      " [0.19926685 0.80073315 1.        ]]\n",
      "오차 행렬: \n",
      "[[122  14]\n",
      " [ 29  58]]\n",
      "정확도: 0.8071748878923767\n",
      "정밀도: 0.8055555555555556\n",
      "재현율: 0.6666666666666666\n"
     ]
    }
   ],
   "source": [
    "# 학습용/테스트용 데이터 분할\n",
    "X_train, X_test, y_train, y_test = train_test_split(x, y)\n",
    "\n",
    "\n",
    "# 학습\n",
    "lr_clf = LogisticRegression(solver = 'liblinear')  \n",
    "        ## solver: 로지스틱 회귀의 최적화 알고리즘 유형 지정\n",
    "        ## solver = 'liblinear': 작은 데이터 셋 & 이진 분류의 경우 성능이 좋아지는 경향 있음\n",
    "        ## solver = 'lbfgs': 큰 데이터 셋 & 다중 분류의 경우 적합, default 값\n",
    "lr_clf.fit(X_train, y_train)\n",
    "\n",
    "# 예측\n",
    "pred_proba = lr_clf.predict_proba(X_test) # 0,1에 대한 예측 확률\n",
    "pred = lr_clf.predict(X_test) # 예측 확률이 높은 이진값을 반환\n",
    "\n",
    "print(np.concatenate([pred_proba, pred.reshape(-1,1)], axis = 1)[:10])\n",
    "\n",
    "\n",
    "# 평가\n",
    "get_clf_eval(y_test, pred)"
   ]
  },
  {
   "cell_type": "code",
   "execution_count": 76,
   "id": "f37d9ad9",
   "metadata": {},
   "outputs": [
    {
     "name": "stdout",
     "output_type": "stream",
     "text": [
      "[[1. 0.]\n",
      " [1. 0.]\n",
      " [1. 0.]\n",
      " [1. 0.]\n",
      " [1. 0.]\n",
      " [1. 0.]\n",
      " [0. 1.]\n",
      " [0. 1.]\n",
      " [1. 0.]\n",
      " [0. 1.]]\n",
      "[[0.]\n",
      " [1.]\n",
      " [0.]\n",
      " [0.]\n",
      " [0.]\n",
      " [1.]\n",
      " [1.]\n",
      " [1.]\n",
      " [0.]\n",
      " [1.]]\n",
      "오차 행렬: \n",
      "[[108  22]\n",
      " [ 28  65]]\n",
      "정확도: 0.7757847533632287\n",
      "정밀도: 0.7471264367816092\n",
      "재현율: 0.6989247311827957\n"
     ]
    }
   ],
   "source": [
    "# 예측2\n",
    "## 임곗값을 다르게 설정해보기\n",
    "\n",
    "from sklearn.preprocessing import Binarizer\n",
    "\n",
    "## 임곗값을 0.5로 설정\n",
    "\n",
    "x_example = pred_proba[:10]\n",
    "\n",
    "binarizer = Binarizer(threshold = 0.5)\n",
    "print(binarizer.fit_transform(x_example))\n",
    "\n",
    "## 임곗값을 0.3으로 설정\n",
    "x_example2 = pred_proba[:,1].reshape(-1, 1)\n",
    "c\n",
    "binarizer = Binarizer(threshold = 0.3)\n",
    "y_pred2 = binarizer.fit_transform(x_example2)\n",
    "print(y_pred2[:10])\n",
    "\n",
    "## 평가\n",
    "get_clf_eval(y_pred2, y_test)"
   ]
  },
  {
   "cell_type": "code",
   "execution_count": 85,
   "id": "20d584be",
   "metadata": {},
   "outputs": [
    {
     "name": "stdout",
     "output_type": "stream",
     "text": [
      "임곗값: 0.4\n",
      "오차 행렬: \n",
      "[[116  20]\n",
      " [ 29  58]]\n",
      "정확도: 0.7802690582959642\n",
      "정밀도: 0.7435897435897436\n",
      "재현율: 0.6666666666666666\n",
      "\n",
      "\n",
      "임곗값: 0.45\n",
      "오차 행렬: \n",
      "[[118  18]\n",
      " [ 29  58]]\n",
      "정확도: 0.7892376681614349\n",
      "정밀도: 0.7631578947368421\n",
      "재현율: 0.6666666666666666\n",
      "\n",
      "\n",
      "임곗값: 0.5\n",
      "오차 행렬: \n",
      "[[122  14]\n",
      " [ 29  58]]\n",
      "정확도: 0.8071748878923767\n",
      "정밀도: 0.8055555555555556\n",
      "재현율: 0.6666666666666666\n",
      "\n",
      "\n",
      "임곗값: 0.55\n",
      "오차 행렬: \n",
      "[[125  11]\n",
      " [ 30  57]]\n",
      "정확도: 0.8161434977578476\n",
      "정밀도: 0.8382352941176471\n",
      "재현율: 0.6551724137931034\n",
      "\n",
      "\n",
      "임곗값: 0.6\n",
      "오차 행렬: \n",
      "[[125  11]\n",
      " [ 33  54]]\n",
      "정확도: 0.8026905829596412\n",
      "정밀도: 0.8307692307692308\n",
      "재현율: 0.6206896551724138\n",
      "\n",
      "\n"
     ]
    }
   ],
   "source": [
    "# threshold에 따라 평가해주는 사용자 함수 생성\n",
    "\n",
    "threshold = [0.4, 0.45, 0.5, 0.55, 0.6]\n",
    "def get_clf_eval_by_threshold(y_test, pred_proba_c1, threshold):\n",
    "    for custom_threshold in threshold:\n",
    "        binarizer = Binarizer(threshold = custom_threshold).fit(pred_proba_c1)\n",
    "        custom_predict = binarizer.fit_transform(pred_proba_c1)\n",
    "        \n",
    "        print(f'임곗값: {custom_threshold}')\n",
    "        get_clf_eval(y_test, custom_predict)\n",
    "        print('\\n')\n",
    "\n",
    "get_clf_eval_by_threshold(y_test, pred_proba[:, 1].reshape(-1,1), threshold)    "
   ]
  },
  {
   "cell_type": "code",
   "execution_count": 86,
   "id": "a729c3a5",
   "metadata": {},
   "outputs": [],
   "source": [
    "from sklearn.metrics import precision_recall_curve"
   ]
  },
  {
   "cell_type": "code",
   "execution_count": 94,
   "id": "6e8b9270",
   "metadata": {},
   "outputs": [
    {
     "name": "stdout",
     "output_type": "stream",
     "text": [
      "반환된 임곗값 배열 shape: (203,)\n"
     ]
    }
   ],
   "source": [
    "# precision_recall_curve 인자는 (실제값, 클래스가 1인 예측값)이 들어감\n",
    "pred_proba_class1 = lr_clf.predict_proba(X_test)[:,1]\n",
    "\n",
    "\n",
    "# 정밀도, 재현율, 임곗값 반환(임곗값이 한개 더 많음)\n",
    "precision, recalls, thresholds = precision_recall_curve(y_test, pred_proba_class1)\n",
    "print(f'반환된 임곗값 배열 shape: {thresholds.shape}')\n"
   ]
  },
  {
   "cell_type": "code",
   "execution_count": 106,
   "id": "3aa95e5c",
   "metadata": {},
   "outputs": [],
   "source": [
    "import matplotlib.pyplot as plt\n",
    "import matplotlib.ticker as ticker\n",
    "\n",
    "%matplotlib inline"
   ]
  },
  {
   "cell_type": "code",
   "execution_count": 114,
   "id": "aa468f21",
   "metadata": {},
   "outputs": [
    {
     "data": {
      "image/png": "[encoded data removed]",
      "text/plain": [
       "<Figure size 576x432 with 1 Axes>"
      ]
     },
     "metadata": {
      "needs_background": "light"
     },
     "output_type": "display_data"
    }
   ],
   "source": [
    "# 시각화\n",
    "\n",
    "def precision_reall_curve_plot(y_test, pred_proba_class1):\n",
    "    precision, recall, threshold = precision_recall_curve(y_test, pred_proba_class1)\n",
    "    \n",
    "    plt.figure(figsize = (8,6))\n",
    "    plt.plot(threshold, precision[:-1], linestyle = '--', label = 'precision')\n",
    "    plt.plot(threshold, recall[:-1], label = 'recall')\n",
    "    plt.xticks(np.arange(0, 1.1, 0.1) )\n",
    "    plt.xlabel('Threshold')\n",
    "    plt.ylabel('Precision and Recall')\n",
    "    plt.legend()\n",
    "    plt.grid()\n",
    "    plt.show()\n",
    "    \n",
    "precision_reall_curve_plot(y_test, pred_proba_class1)"
   ]
  },
  {
   "cell_type": "markdown",
   "id": "fbcbe432",
   "metadata": {},
   "source": [
    "## f1 score"
   ]
  },
  {
   "cell_type": "code",
   "execution_count": 115,
   "id": "66f74813",
   "metadata": {},
   "outputs": [],
   "source": [
    "from sklearn.metrics import f1_score"
   ]
  },
  {
   "cell_type": "code",
   "execution_count": 116,
   "id": "96d86635",
   "metadata": {},
   "outputs": [
    {
     "data": {
      "text/plain": [
       "0.7295597484276728"
      ]
     },
     "execution_count": 116,
     "metadata": {},
     "output_type": "execute_result"
    }
   ],
   "source": [
    "f1 = f1_score(y_test, pred)\n",
    "f1"
   ]
  },
  {
   "cell_type": "code",
   "execution_count": 120,
   "id": "b26d5a27",
   "metadata": {},
   "outputs": [
    {
     "name": "stdout",
     "output_type": "stream",
     "text": [
      "임곗값: 0.3\n",
      "오차행렬:\n",
      "[[108  28]\n",
      " [ 22  65]]\n",
      "정확도: 0.7757847533632287\n",
      "정밀도: 0.6989247311827957\n",
      "재현율: 0.7471264367816092\n",
      "f1스코어: 0.7222222222222223\n",
      "\n",
      "\n",
      "임곗값: 0.35\n",
      "오차행렬:\n",
      "[[111  25]\n",
      " [ 25  62]]\n",
      "정확도: 0.7757847533632287\n",
      "정밀도: 0.7126436781609196\n",
      "재현율: 0.7126436781609196\n",
      "f1스코어: 0.7126436781609196\n",
      "\n",
      "\n",
      "임곗값: 0.4\n",
      "오차행렬:\n",
      "[[116  20]\n",
      " [ 29  58]]\n",
      "정확도: 0.7802690582959642\n",
      "정밀도: 0.7435897435897436\n",
      "재현율: 0.6666666666666666\n",
      "f1스코어: 0.7030303030303031\n",
      "\n",
      "\n",
      "임곗값: 0.45\n",
      "오차행렬:\n",
      "[[118  18]\n",
      " [ 29  58]]\n",
      "정확도: 0.7892376681614349\n",
      "정밀도: 0.7631578947368421\n",
      "재현율: 0.6666666666666666\n",
      "f1스코어: 0.7116564417177914\n",
      "\n",
      "\n",
      "임곗값: 0.5\n",
      "오차행렬:\n",
      "[[122  14]\n",
      " [ 29  58]]\n",
      "정확도: 0.8071748878923767\n",
      "정밀도: 0.8055555555555556\n",
      "재현율: 0.6666666666666666\n",
      "f1스코어: 0.7295597484276728\n",
      "\n",
      "\n",
      "임곗값: 0.55\n",
      "오차행렬:\n",
      "[[125  11]\n",
      " [ 30  57]]\n",
      "정확도: 0.8161434977578476\n",
      "정밀도: 0.8382352941176471\n",
      "재현율: 0.6551724137931034\n",
      "f1스코어: 0.735483870967742\n",
      "\n",
      "\n",
      "임곗값: 0.6\n",
      "오차행렬:\n",
      "[[125  11]\n",
      " [ 33  54]]\n",
      "정확도: 0.8026905829596412\n",
      "정밀도: 0.8307692307692308\n",
      "재현율: 0.6206896551724138\n",
      "f1스코어: 0.7105263157894737\n",
      "\n",
      "\n"
     ]
    }
   ],
   "source": [
    "def get_clf_eval(y_test, pred):\n",
    "    confusion = confusion_matrix(y_test, pred)\n",
    "    accuracy = accuracy_score(y_test, pred)\n",
    "    precision = precision_score(y_test, pred)\n",
    "    recall = recall_score(y_test, pred)\n",
    "    f1 = f1_score(y_test, pred)\n",
    "    \n",
    "    print(f'오차행렬:\\n{confusion}')\n",
    "    print(f'정확도: {accuracy}')\n",
    "    print(f'정밀도: {precision}')\n",
    "    print(f'재현율: {recall}')\n",
    "    print(f'f1스코어: {f1}')\n",
    "    \n",
    "threshold = [0.3, 0.35, 0.4, 0.45, 0.5, 0.55, 0.6]\n",
    "def get_clf_eval_by_threshold(y_test, pred_proba_c1, threshold):\n",
    "    for custom_threshold in threshold:\n",
    "        binarizer = Binarizer(threshold = custom_threshold).fit(pred_proba_c1)\n",
    "        custom_predict = binarizer.fit_transform(pred_proba_c1)\n",
    "        \n",
    "        print(f'임곗값: {custom_threshold}')\n",
    "        get_clf_eval(y_test, custom_predict)\n",
    "        print('\\n')\n",
    "\n",
    "get_clf_eval_by_threshold(y_test, pred_proba[:, 1].reshape(-1,1), threshold)  "
   ]
  },
  {
   "cell_type": "markdown",
   "id": "59618fe6",
   "metadata": {},
   "source": [
    "## ROC 곡선"
   ]
  },
  {
   "cell_type": "code",
   "execution_count": 131,
   "id": "6a90b67f",
   "metadata": {},
   "outputs": [],
   "source": [
    "from sklearn.metrics import roc_curve"
   ]
  },
  {
   "cell_type": "code",
   "execution_count": 132,
   "id": "0928fe9f",
   "metadata": {},
   "outputs": [
    {
     "data": {
      "text/plain": [
       "((70,), (70,), (70,))"
      ]
     },
     "execution_count": 132,
     "metadata": {},
     "output_type": "execute_result"
    }
   ],
   "source": [
    "pred_proba_Class1 = lr_clf.predict_proba(X_test)[:, 1]\n",
    "\n",
    "# roc_curve의 인자는 (실제값, 긍정 예측값), 반환값은 fpr(1-특이도), tpr(민감도), 임곗값\n",
    "fprs, tprs, thresholds = roc_curve(y_test, pred_proba_class1)\n",
    "fprs.shape, tprs.shape, thresholds.shape"
   ]
  },
  {
   "cell_type": "code",
   "execution_count": 138,
   "id": "f1d89b31",
   "metadata": {},
   "outputs": [
    {
     "data": {
      "image/png": "[encoded data removed]",
      "text/plain": [
       "<Figure size 432x432 with 1 Axes>"
      ]
     },
     "metadata": {
      "needs_background": "light"
     },
     "output_type": "display_data"
    }
   ],
   "source": [
    "# 시각화\n",
    "\n",
    "def roc_curve_plot(y_test, pred_proba_class1):\n",
    "    fprs, tprs, thresholds = roc_curve(y_test, pred_proba_class1)\n",
    "    \n",
    "    mpl.rc('font', family = 'Malgun Gothic')\n",
    "    plt.figure(figsize = (6,6))\n",
    "    plt.plot(fprs, tprs, label = 'ROC', color = 'orange')\n",
    "    plt.plot([0,1], [0, 1], 'k--')\n",
    "    plt.legend()\n",
    "    plt.show()\n",
    "\n",
    "roc_curve_plot(y_test, pred_proba_class1)"
   ]
  },
  {
   "cell_type": "markdown",
   "id": "94abfcf1",
   "metadata": {},
   "source": [
    "## AUC SCORE"
   ]
  },
  {
   "cell_type": "code",
   "execution_count": 140,
   "id": "aaa99b5d",
   "metadata": {},
   "outputs": [],
   "source": [
    "from sklearn.metrics import roc_auc_score"
   ]
  },
  {
   "cell_type": "code",
   "execution_count": 141,
   "id": "b81a322c",
   "metadata": {},
   "outputs": [
    {
     "data": {
      "text/plain": [
       "0.8497295469912103"
      ]
     },
     "execution_count": 141,
     "metadata": {},
     "output_type": "execute_result"
    }
   ],
   "source": [
    "roc_auc_score(y_test, pred_proba_class1)"
   ]
  },
  {
   "cell_type": "code",
   "execution_count": 142,
   "id": "545e4663",
   "metadata": {},
   "outputs": [],
   "source": [
    "# 최종 get_clf_eval 사용자 함수\n",
    "\n",
    "def get_clf_eval(y_test, pred = None, pred_proba_class1 = None):\n",
    "    confusion = confusion_matrix(y_test, pred)\n",
    "    accuracy = accuracy_score(y_test, pred)\n",
    "    recall = recall_score(y_test, pred)\n",
    "    precision = precision_score(y_test, pred)\n",
    "    f1 = f1_score(y_test, pred)\n",
    "    auc = roc_auc_score(y_test, pred_proba_class1)\n",
    "    \n",
    "    print(f'오차행렬:\\n{confusion}')\n",
    "    print(f'정확도: {accuracy}')\n",
    "    print(f'정밀도: {precision}')\n",
    "    print(f'재현율: {recall}')\n",
    "    print(f'f1스코어: {f1}')\n",
    "    print(f'auc 스코어: {auc}')"
   ]
  },
  {
   "cell_type": "markdown",
   "id": "2836c8f1",
   "metadata": {},
   "source": [
    "# 실습: 피마 인디언 당뇨병 예측"
   ]
  },
  {
   "cell_type": "code",
   "execution_count": 182,
   "id": "837b3cf3",
   "metadata": {},
   "outputs": [],
   "source": [
    "import pandas as pd\n",
    "import numpy as np\n",
    "import matplotlib as mpl\n",
    "import matplotlib.pyplot as plt\n",
    "from sklearn.preprocessing import MinMaxScaler\n",
    "from sklearn.model_selection import train_test_split\n",
    "from sklearn.linear_model import LogisticRegression\n",
    "from sklearn.metrics import confusion_matrix, accuracy_score, precision_score, recall_score, f1_score, roc_auc_score, precision_recall_curve"
   ]
  },
  {
   "cell_type": "code",
   "execution_count": 149,
   "id": "0ad21d3f",
   "metadata": {},
   "outputs": [
    {
     "data": {
      "text/html": [
       "<div>\n",
       "<style scoped>\n",
       "    .dataframe tbody tr th:only-of-type {\n",
       "        vertical-align: middle;\n",
       "    }\n",
       "\n",
       "    .dataframe tbody tr th {\n",
       "        vertical-align: top;\n",
       "    }\n",
       "\n",
       "    .dataframe thead th {\n",
       "        text-align: right;\n",
       "    }\n",
       "</style>\n",
       "<table border=\"1\" class=\"dataframe\">\n",
       "  <thead>\n",
       "    <tr style=\"text-align: right;\">\n",
       "      <th></th>\n",
       "      <th>Pregnancies</th>\n",
       "      <th>Glucose</th>\n",
       "      <th>BloodPressure</th>\n",
       "      <th>SkinThickness</th>\n",
       "      <th>Insulin</th>\n",
       "      <th>BMI</th>\n",
       "      <th>DiabetesPedigreeFunction</th>\n",
       "      <th>Age</th>\n",
       "      <th>Outcome</th>\n",
       "    </tr>\n",
       "  </thead>\n",
       "  <tbody>\n",
       "    <tr>\n",
       "      <th>0</th>\n",
       "      <td>6</td>\n",
       "      <td>148</td>\n",
       "      <td>72</td>\n",
       "      <td>35</td>\n",
       "      <td>0</td>\n",
       "      <td>33.6</td>\n",
       "      <td>0.627</td>\n",
       "      <td>50</td>\n",
       "      <td>1</td>\n",
       "    </tr>\n",
       "    <tr>\n",
       "      <th>1</th>\n",
       "      <td>1</td>\n",
       "      <td>85</td>\n",
       "      <td>66</td>\n",
       "      <td>29</td>\n",
       "      <td>0</td>\n",
       "      <td>26.6</td>\n",
       "      <td>0.351</td>\n",
       "      <td>31</td>\n",
       "      <td>0</td>\n",
       "    </tr>\n",
       "    <tr>\n",
       "      <th>2</th>\n",
       "      <td>8</td>\n",
       "      <td>183</td>\n",
       "      <td>64</td>\n",
       "      <td>0</td>\n",
       "      <td>0</td>\n",
       "      <td>23.3</td>\n",
       "      <td>0.672</td>\n",
       "      <td>32</td>\n",
       "      <td>1</td>\n",
       "    </tr>\n",
       "    <tr>\n",
       "      <th>3</th>\n",
       "      <td>1</td>\n",
       "      <td>89</td>\n",
       "      <td>66</td>\n",
       "      <td>23</td>\n",
       "      <td>94</td>\n",
       "      <td>28.1</td>\n",
       "      <td>0.167</td>\n",
       "      <td>21</td>\n",
       "      <td>0</td>\n",
       "    </tr>\n",
       "    <tr>\n",
       "      <th>4</th>\n",
       "      <td>0</td>\n",
       "      <td>137</td>\n",
       "      <td>40</td>\n",
       "      <td>35</td>\n",
       "      <td>168</td>\n",
       "      <td>43.1</td>\n",
       "      <td>2.288</td>\n",
       "      <td>33</td>\n",
       "      <td>1</td>\n",
       "    </tr>\n",
       "  </tbody>\n",
       "</table>\n",
       "</div>"
      ],
      "text/plain": [
       "   Pregnancies  Glucose  BloodPressure  SkinThickness  Insulin   BMI  \\\n",
       "0            6      148             72             35        0  33.6   \n",
       "1            1       85             66             29        0  26.6   \n",
       "2            8      183             64              0        0  23.3   \n",
       "3            1       89             66             23       94  28.1   \n",
       "4            0      137             40             35      168  43.1   \n",
       "\n",
       "   DiabetesPedigreeFunction  Age  Outcome  \n",
       "0                     0.627   50        1  \n",
       "1                     0.351   31        0  \n",
       "2                     0.672   32        1  \n",
       "3                     0.167   21        0  \n",
       "4                     2.288   33        1  "
      ]
     },
     "execution_count": 149,
     "metadata": {},
     "output_type": "execute_result"
    }
   ],
   "source": [
    "# 데이터 불러오기\n",
    "diabetes_data = pd.read_csv('./필요데이터/diabetes.csv')\n",
    "diabetes_data.head()"
   ]
  },
  {
   "cell_type": "code",
   "execution_count": 150,
   "id": "680bac9f",
   "metadata": {},
   "outputs": [
    {
     "name": "stdout",
     "output_type": "stream",
     "text": [
      "<class 'pandas.core.frame.DataFrame'>\n",
      "RangeIndex: 768 entries, 0 to 767\n",
      "Data columns (total 9 columns):\n",
      " #   Column                    Non-Null Count  Dtype  \n",
      "---  ------                    --------------  -----  \n",
      " 0   Pregnancies               768 non-null    int64  \n",
      " 1   Glucose                   768 non-null    int64  \n",
      " 2   BloodPressure             768 non-null    int64  \n",
      " 3   SkinThickness             768 non-null    int64  \n",
      " 4   Insulin                   768 non-null    int64  \n",
      " 5   BMI                       768 non-null    float64\n",
      " 6   DiabetesPedigreeFunction  768 non-null    float64\n",
      " 7   Age                       768 non-null    int64  \n",
      " 8   Outcome                   768 non-null    int64  \n",
      "dtypes: float64(2), int64(7)\n",
      "memory usage: 54.1 KB\n"
     ]
    }
   ],
   "source": [
    "# EDA\n",
    "diabetes_data.info()"
   ]
  },
  {
   "cell_type": "code",
   "execution_count": 151,
   "id": "60f8e029",
   "metadata": {},
   "outputs": [
    {
     "data": {
      "text/plain": [
       "0    500\n",
       "1    268\n",
       "Name: Outcome, dtype: int64"
      ]
     },
     "execution_count": 151,
     "metadata": {},
     "output_type": "execute_result"
    }
   ],
   "source": [
    "diabetes_data['Outcome'].value_counts()"
   ]
  },
  {
   "cell_type": "code",
   "execution_count": 161,
   "id": "fa08b27c",
   "metadata": {
    "scrolled": true
   },
   "outputs": [
    {
     "data": {
      "text/html": [
       "<div>\n",
       "<style scoped>\n",
       "    .dataframe tbody tr th:only-of-type {\n",
       "        vertical-align: middle;\n",
       "    }\n",
       "\n",
       "    .dataframe tbody tr th {\n",
       "        vertical-align: top;\n",
       "    }\n",
       "\n",
       "    .dataframe thead th {\n",
       "        text-align: right;\n",
       "    }\n",
       "</style>\n",
       "<table border=\"1\" class=\"dataframe\">\n",
       "  <thead>\n",
       "    <tr style=\"text-align: right;\">\n",
       "      <th></th>\n",
       "      <th>Pregnancies</th>\n",
       "      <th>Glucose</th>\n",
       "      <th>BloodPressure</th>\n",
       "      <th>SkinThickness</th>\n",
       "      <th>Insulin</th>\n",
       "      <th>BMI</th>\n",
       "      <th>DiabetesPedigreeFunction</th>\n",
       "      <th>Age</th>\n",
       "      <th>Outcome</th>\n",
       "    </tr>\n",
       "  </thead>\n",
       "  <tbody>\n",
       "    <tr>\n",
       "      <th>count</th>\n",
       "      <td>768.000000</td>\n",
       "      <td>768.000000</td>\n",
       "      <td>768.000000</td>\n",
       "      <td>768.000000</td>\n",
       "      <td>768.000000</td>\n",
       "      <td>768.000000</td>\n",
       "      <td>768.000000</td>\n",
       "      <td>768.000000</td>\n",
       "      <td>768.000000</td>\n",
       "    </tr>\n",
       "    <tr>\n",
       "      <th>mean</th>\n",
       "      <td>3.845052</td>\n",
       "      <td>120.894531</td>\n",
       "      <td>69.105469</td>\n",
       "      <td>20.536458</td>\n",
       "      <td>79.799479</td>\n",
       "      <td>31.992578</td>\n",
       "      <td>0.471876</td>\n",
       "      <td>33.240885</td>\n",
       "      <td>0.348958</td>\n",
       "    </tr>\n",
       "    <tr>\n",
       "      <th>std</th>\n",
       "      <td>3.369578</td>\n",
       "      <td>31.972618</td>\n",
       "      <td>19.355807</td>\n",
       "      <td>15.952218</td>\n",
       "      <td>115.244002</td>\n",
       "      <td>7.884160</td>\n",
       "      <td>0.331329</td>\n",
       "      <td>11.760232</td>\n",
       "      <td>0.476951</td>\n",
       "    </tr>\n",
       "    <tr>\n",
       "      <th>min</th>\n",
       "      <td>0.000000</td>\n",
       "      <td>0.000000</td>\n",
       "      <td>0.000000</td>\n",
       "      <td>0.000000</td>\n",
       "      <td>0.000000</td>\n",
       "      <td>0.000000</td>\n",
       "      <td>0.078000</td>\n",
       "      <td>21.000000</td>\n",
       "      <td>0.000000</td>\n",
       "    </tr>\n",
       "    <tr>\n",
       "      <th>25%</th>\n",
       "      <td>1.000000</td>\n",
       "      <td>99.000000</td>\n",
       "      <td>62.000000</td>\n",
       "      <td>0.000000</td>\n",
       "      <td>0.000000</td>\n",
       "      <td>27.300000</td>\n",
       "      <td>0.243750</td>\n",
       "      <td>24.000000</td>\n",
       "      <td>0.000000</td>\n",
       "    </tr>\n",
       "    <tr>\n",
       "      <th>50%</th>\n",
       "      <td>3.000000</td>\n",
       "      <td>117.000000</td>\n",
       "      <td>72.000000</td>\n",
       "      <td>23.000000</td>\n",
       "      <td>30.500000</td>\n",
       "      <td>32.000000</td>\n",
       "      <td>0.372500</td>\n",
       "      <td>29.000000</td>\n",
       "      <td>0.000000</td>\n",
       "    </tr>\n",
       "    <tr>\n",
       "      <th>75%</th>\n",
       "      <td>6.000000</td>\n",
       "      <td>140.250000</td>\n",
       "      <td>80.000000</td>\n",
       "      <td>32.000000</td>\n",
       "      <td>127.250000</td>\n",
       "      <td>36.600000</td>\n",
       "      <td>0.626250</td>\n",
       "      <td>41.000000</td>\n",
       "      <td>1.000000</td>\n",
       "    </tr>\n",
       "    <tr>\n",
       "      <th>max</th>\n",
       "      <td>17.000000</td>\n",
       "      <td>199.000000</td>\n",
       "      <td>122.000000</td>\n",
       "      <td>99.000000</td>\n",
       "      <td>846.000000</td>\n",
       "      <td>67.100000</td>\n",
       "      <td>2.420000</td>\n",
       "      <td>81.000000</td>\n",
       "      <td>1.000000</td>\n",
       "    </tr>\n",
       "  </tbody>\n",
       "</table>\n",
       "</div>"
      ],
      "text/plain": [
       "       Pregnancies     Glucose  BloodPressure  SkinThickness     Insulin  \\\n",
       "count   768.000000  768.000000     768.000000     768.000000  768.000000   \n",
       "mean      3.845052  120.894531      69.105469      20.536458   79.799479   \n",
       "std       3.369578   31.972618      19.355807      15.952218  115.244002   \n",
       "min       0.000000    0.000000       0.000000       0.000000    0.000000   \n",
       "25%       1.000000   99.000000      62.000000       0.000000    0.000000   \n",
       "50%       3.000000  117.000000      72.000000      23.000000   30.500000   \n",
       "75%       6.000000  140.250000      80.000000      32.000000  127.250000   \n",
       "max      17.000000  199.000000     122.000000      99.000000  846.000000   \n",
       "\n",
       "              BMI  DiabetesPedigreeFunction         Age     Outcome  \n",
       "count  768.000000                768.000000  768.000000  768.000000  \n",
       "mean    31.992578                  0.471876   33.240885    0.348958  \n",
       "std      7.884160                  0.331329   11.760232    0.476951  \n",
       "min      0.000000                  0.078000   21.000000    0.000000  \n",
       "25%     27.300000                  0.243750   24.000000    0.000000  \n",
       "50%     32.000000                  0.372500   29.000000    0.000000  \n",
       "75%     36.600000                  0.626250   41.000000    1.000000  \n",
       "max     67.100000                  2.420000   81.000000    1.000000  "
      ]
     },
     "execution_count": 161,
     "metadata": {},
     "output_type": "execute_result"
    }
   ],
   "source": [
    "diabetes_data.describe()"
   ]
  },
  {
   "cell_type": "code",
   "execution_count": 174,
   "id": "96a0d8a8",
   "metadata": {},
   "outputs": [
    {
     "data": {
      "image/png": "[encoded data removed]",
      "text/plain": [
       "<Figure size 1080x216 with 5 Axes>"
      ]
     },
     "metadata": {
      "needs_background": "light"
     },
     "output_type": "display_data"
    }
   ],
   "source": [
    "# 0 값을 많이 가지는 피처만 시각화 \n",
    "features = ['Glucose', 'BloodPressure', 'SkinThickness', 'Insulin', 'BMI']\n",
    "\n",
    "plt.figure(figsize = (15, 3))\n",
    "for i in range(len(features)):\n",
    "    plt.subplot(1,5, i + 1)\n",
    "    plt.hist(diabetes_data[features[i]], bins = 100)\n",
    "    pct = len(diabetes_data[diabetes_data[features[i]] == 0])/len(diabetes_data[features[i]])\n",
    "    plt.title(f'0 분포: {pct * 100:.2f}%')\n",
    "plt.show()\n"
   ]
  },
  {
   "cell_type": "code",
   "execution_count": 157,
   "id": "e897b269",
   "metadata": {},
   "outputs": [
    {
     "data": {
      "text/plain": [
       "(0    500\n",
       " 1    268\n",
       " Name: Outcome, dtype: int64,\n",
       " 0    400\n",
       " 1    214\n",
       " Name: Outcome, dtype: int64,\n",
       " 0    100\n",
       " 1     54\n",
       " Name: Outcome, dtype: int64)"
      ]
     },
     "execution_count": 157,
     "metadata": {},
     "output_type": "execute_result"
    }
   ],
   "source": [
    "# 모델링\n",
    "\n",
    "## 데이터 분할\n",
    "X = diabetes_data.iloc[:, :-1]\n",
    "y = diabetes_data.iloc[:, -1]\n",
    "\n",
    "X_train, X_test, y_train, y_test = train_test_split(X, y, test_size = 0.2, random_state = 156, stratify = y)\n",
    "     ## stratify = y : 원래 데이터분포에 맞게 계층적 추출하는 방법\n",
    "\n",
    "y.value_counts(), y_train.value_counts(), y_test.value_counts()"
   ]
  },
  {
   "cell_type": "code",
   "execution_count": 159,
   "id": "ff0f3136",
   "metadata": {},
   "outputs": [
    {
     "name": "stdout",
     "output_type": "stream",
     "text": [
      "오차행렬:\n",
      "[[87 13]\n",
      " [22 32]]\n",
      "정확도: 0.7727272727272727\n",
      "정밀도: 0.7111111111111111\n",
      "재현율: 0.5925925925925926\n",
      "f1스코어: 0.6464646464646464\n",
      "auc 스코어: 0.8083333333333333\n"
     ]
    }
   ],
   "source": [
    "# 학습\n",
    "lr_clf = LogisticRegression(solver = 'liblinear')\n",
    "\n",
    "lr_clf.fit(X_train, y_train)\n",
    "\n",
    "# 예측\n",
    "pred = lr_clf.predict(X_test)\n",
    "pred_proba = lr_clf.predict_proba(X_test)[:, 1]\n",
    "\n",
    "get_clf_eval(y_test, pred, pred_proba)"
   ]
  },
  {
   "cell_type": "code",
   "execution_count": 160,
   "id": "d9cf6423",
   "metadata": {},
   "outputs": [
    {
     "data": {
      "image/png": "[encoded data removed]",
      "text/plain": [
       "<Figure size 576x432 with 1 Axes>"
      ]
     },
     "metadata": {
      "needs_background": "light"
     },
     "output_type": "display_data"
    }
   ],
   "source": [
    "# 임곗값에 따른 정밀도-재현율 곡선 시각화\n",
    "\n",
    "precision_reall_curve_plot(y_test, pred_proba)\n",
    "      ## 임곗값이 0.45가 적절해보임"
   ]
  },
  {
   "cell_type": "code",
   "execution_count": 179,
   "id": "98f8c55f",
   "metadata": {
    "scrolled": true
   },
   "outputs": [
    {
     "name": "stdout",
     "output_type": "stream",
     "text": [
      "feature: Glucose\n",
      "평균값:121.6867627785059\n",
      "\n",
      "feature: BloodPressure\n",
      "평균값:72.40518417462484\n",
      "\n",
      "feature: SkinThickness\n",
      "평균값:29.153419593345657\n",
      "\n",
      "feature: Insulin\n",
      "평균값:155.5482233502538\n",
      "\n",
      "feature: BMI\n",
      "평균값:32.45746367239099\n",
      "\n"
     ]
    },
    {
     "data": {
      "text/html": [
       "<div>\n",
       "<style scoped>\n",
       "    .dataframe tbody tr th:only-of-type {\n",
       "        vertical-align: middle;\n",
       "    }\n",
       "\n",
       "    .dataframe tbody tr th {\n",
       "        vertical-align: top;\n",
       "    }\n",
       "\n",
       "    .dataframe thead th {\n",
       "        text-align: right;\n",
       "    }\n",
       "</style>\n",
       "<table border=\"1\" class=\"dataframe\">\n",
       "  <thead>\n",
       "    <tr style=\"text-align: right;\">\n",
       "      <th></th>\n",
       "      <th>Pregnancies</th>\n",
       "      <th>Glucose</th>\n",
       "      <th>BloodPressure</th>\n",
       "      <th>SkinThickness</th>\n",
       "      <th>Insulin</th>\n",
       "      <th>BMI</th>\n",
       "      <th>DiabetesPedigreeFunction</th>\n",
       "      <th>Age</th>\n",
       "      <th>Outcome</th>\n",
       "    </tr>\n",
       "  </thead>\n",
       "  <tbody>\n",
       "    <tr>\n",
       "      <th>count</th>\n",
       "      <td>768.000000</td>\n",
       "      <td>768.000000</td>\n",
       "      <td>768.000000</td>\n",
       "      <td>768.000000</td>\n",
       "      <td>768.000000</td>\n",
       "      <td>768.000000</td>\n",
       "      <td>768.000000</td>\n",
       "      <td>768.000000</td>\n",
       "      <td>768.000000</td>\n",
       "    </tr>\n",
       "    <tr>\n",
       "      <th>mean</th>\n",
       "      <td>3.845052</td>\n",
       "      <td>121.686763</td>\n",
       "      <td>72.405184</td>\n",
       "      <td>29.153420</td>\n",
       "      <td>155.548223</td>\n",
       "      <td>32.457464</td>\n",
       "      <td>0.471876</td>\n",
       "      <td>33.240885</td>\n",
       "      <td>0.348958</td>\n",
       "    </tr>\n",
       "    <tr>\n",
       "      <th>std</th>\n",
       "      <td>3.369578</td>\n",
       "      <td>30.435949</td>\n",
       "      <td>12.096346</td>\n",
       "      <td>8.790942</td>\n",
       "      <td>85.021108</td>\n",
       "      <td>6.875151</td>\n",
       "      <td>0.331329</td>\n",
       "      <td>11.760232</td>\n",
       "      <td>0.476951</td>\n",
       "    </tr>\n",
       "    <tr>\n",
       "      <th>min</th>\n",
       "      <td>0.000000</td>\n",
       "      <td>44.000000</td>\n",
       "      <td>24.000000</td>\n",
       "      <td>7.000000</td>\n",
       "      <td>14.000000</td>\n",
       "      <td>18.200000</td>\n",
       "      <td>0.078000</td>\n",
       "      <td>21.000000</td>\n",
       "      <td>0.000000</td>\n",
       "    </tr>\n",
       "    <tr>\n",
       "      <th>25%</th>\n",
       "      <td>1.000000</td>\n",
       "      <td>99.750000</td>\n",
       "      <td>64.000000</td>\n",
       "      <td>25.000000</td>\n",
       "      <td>121.500000</td>\n",
       "      <td>27.500000</td>\n",
       "      <td>0.243750</td>\n",
       "      <td>24.000000</td>\n",
       "      <td>0.000000</td>\n",
       "    </tr>\n",
       "    <tr>\n",
       "      <th>50%</th>\n",
       "      <td>3.000000</td>\n",
       "      <td>117.000000</td>\n",
       "      <td>72.202592</td>\n",
       "      <td>29.153420</td>\n",
       "      <td>155.548223</td>\n",
       "      <td>32.400000</td>\n",
       "      <td>0.372500</td>\n",
       "      <td>29.000000</td>\n",
       "      <td>0.000000</td>\n",
       "    </tr>\n",
       "    <tr>\n",
       "      <th>75%</th>\n",
       "      <td>6.000000</td>\n",
       "      <td>140.250000</td>\n",
       "      <td>80.000000</td>\n",
       "      <td>32.000000</td>\n",
       "      <td>155.548223</td>\n",
       "      <td>36.600000</td>\n",
       "      <td>0.626250</td>\n",
       "      <td>41.000000</td>\n",
       "      <td>1.000000</td>\n",
       "    </tr>\n",
       "    <tr>\n",
       "      <th>max</th>\n",
       "      <td>17.000000</td>\n",
       "      <td>199.000000</td>\n",
       "      <td>122.000000</td>\n",
       "      <td>99.000000</td>\n",
       "      <td>846.000000</td>\n",
       "      <td>67.100000</td>\n",
       "      <td>2.420000</td>\n",
       "      <td>81.000000</td>\n",
       "      <td>1.000000</td>\n",
       "    </tr>\n",
       "  </tbody>\n",
       "</table>\n",
       "</div>"
      ],
      "text/plain": [
       "       Pregnancies     Glucose  BloodPressure  SkinThickness     Insulin  \\\n",
       "count   768.000000  768.000000     768.000000     768.000000  768.000000   \n",
       "mean      3.845052  121.686763      72.405184      29.153420  155.548223   \n",
       "std       3.369578   30.435949      12.096346       8.790942   85.021108   \n",
       "min       0.000000   44.000000      24.000000       7.000000   14.000000   \n",
       "25%       1.000000   99.750000      64.000000      25.000000  121.500000   \n",
       "50%       3.000000  117.000000      72.202592      29.153420  155.548223   \n",
       "75%       6.000000  140.250000      80.000000      32.000000  155.548223   \n",
       "max      17.000000  199.000000     122.000000      99.000000  846.000000   \n",
       "\n",
       "              BMI  DiabetesPedigreeFunction         Age     Outcome  \n",
       "count  768.000000                768.000000  768.000000  768.000000  \n",
       "mean    32.457464                  0.471876   33.240885    0.348958  \n",
       "std      6.875151                  0.331329   11.760232    0.476951  \n",
       "min     18.200000                  0.078000   21.000000    0.000000  \n",
       "25%     27.500000                  0.243750   24.000000    0.000000  \n",
       "50%     32.400000                  0.372500   29.000000    0.000000  \n",
       "75%     36.600000                  0.626250   41.000000    1.000000  \n",
       "max     67.100000                  2.420000   81.000000    1.000000  "
      ]
     },
     "execution_count": 179,
     "metadata": {},
     "output_type": "execute_result"
    }
   ],
   "source": [
    "# 0값을 각 피처에서 0을 제외한 평균값으로 대체\n",
    "for feature in features:\n",
    "    mean_feature = diabetes_data[diabetes_data[feature] != 0][feature].mean()\n",
    "    print(f'feature: {feature}\\n평균값:{mean_feature}\\n')\n",
    "    \n",
    "    diabetes_data[feature] = diabetes_data[feature].replace(0, mean_feature)    \n",
    "    \n",
    "diabetes_data.describe()"
   ]
  },
  {
   "cell_type": "code",
   "execution_count": 201,
   "id": "aed8e70a",
   "metadata": {},
   "outputs": [
    {
     "data": {
      "image/png": "[encoded data removed]",
      "text/plain": [
       "<Figure size 576x432 with 1 Axes>"
      ]
     },
     "metadata": {
      "needs_background": "light"
     },
     "output_type": "display_data"
    }
   ],
   "source": [
    "X = diabetes_data.iloc[:, :-1]\n",
    "y = diabetes_data.iloc[:, -1]\n",
    "\n",
    "# minmax 정규화\n",
    "scaler = MinMaxScaler()\n",
    "\n",
    "x_scaled = scaler.fit_transform(X)\n",
    "\n",
    "\n",
    "# 데이터 분할\n",
    "X_train, X_test, y_train, y_test = train_test_split(X, y, test_size = 0.2, random_state = 156, stratify = y)\n",
    "\n",
    "# 학습\n",
    "lr_clf = LogisticRegression(solver = 'liblinear')\n",
    "lr_clf.fit(X_train, y_train)\n",
    "\n",
    "# 예측\n",
    "pred = lr_clf.predict(X_test)\n",
    "pred_proba = lr_clf.predict_proba(X_test)[:, 1]\n",
    "\n",
    "# 정밀도 재현율 곡선 \n",
    "precision_reall_curve_plot(y_test, pred_proba)\n"
   ]
  },
  {
   "cell_type": "code",
   "execution_count": 216,
   "id": "7ee03ab6",
   "metadata": {},
   "outputs": [
    {
     "name": "stdout",
     "output_type": "stream",
     "text": [
      "임곗값: 0.3\n",
      "오차행렬:\n",
      "[[65 35]\n",
      " [ 8 46]]\n",
      "정확도:  0.72\n",
      "정밀도:  0.57\n",
      "재현율:  0.85\n",
      "f1스코어:  0.68\n",
      "roc_auc스코어:  0.85\n",
      "\n",
      "\n",
      "임곗값: 0.33\n",
      "오차행렬:\n",
      "[[74 26]\n",
      " [10 44]]\n",
      "정확도:  0.77\n",
      "정밀도:  0.63\n",
      "재현율:  0.81\n",
      "f1스코어:  0.71\n",
      "roc_auc스코어:  0.85\n",
      "\n",
      "\n",
      "임곗값: 0.36\n",
      "오차행렬:\n",
      "[[78 22]\n",
      " [13 41]]\n",
      "정확도:  0.77\n",
      "정밀도:  0.65\n",
      "재현율:  0.76\n",
      "f1스코어:  0.70\n",
      "roc_auc스코어:  0.85\n",
      "\n",
      "\n",
      "임곗값: 0.4\n",
      "오차행렬:\n",
      "[[83 17]\n",
      " [17 37]]\n",
      "정확도:  0.78\n",
      "정밀도:  0.69\n",
      "재현율:  0.69\n",
      "f1스코어:  0.69\n",
      "roc_auc스코어:  0.85\n",
      "\n",
      "\n",
      "임곗값: 0.43\n",
      "오차행렬:\n",
      "[[84 16]\n",
      " [19 35]]\n",
      "정확도:  0.77\n",
      "정밀도:  0.69\n",
      "재현율:  0.65\n",
      "f1스코어:  0.67\n",
      "roc_auc스코어:  0.85\n",
      "\n",
      "\n",
      "임곗값: 0.46\n",
      "오차행렬:\n",
      "[[84 16]\n",
      " [20 34]]\n",
      "정확도:  0.77\n",
      "정밀도:  0.68\n",
      "재현율:  0.63\n",
      "f1스코어:  0.65\n",
      "roc_auc스코어:  0.85\n",
      "\n",
      "\n",
      "임곗값: 0.49\n",
      "오차행렬:\n",
      "[[88 12]\n",
      " [22 32]]\n",
      "정확도:  0.78\n",
      "정밀도:  0.73\n",
      "재현율:  0.59\n",
      "f1스코어:  0.65\n",
      "roc_auc스코어:  0.85\n",
      "\n",
      "\n"
     ]
    }
   ],
   "source": [
    "# 평가\n",
    "def get_clf_eval(y_test, pred, pred_proba):\n",
    "    confusion = confusion_matrix(y_test, pred)\n",
    "    accuracy = accuracy_score(y_test, pred)\n",
    "    precision = precision_score(y_test, pred)\n",
    "    recall = recall_score(y_test, pred)\n",
    "    f1 = f1_score(y_test, pred)\n",
    "    roc_auc = roc_auc_score(y_test, pred_proba)\n",
    "    \n",
    "    print(f'오차행렬:\\n{confusion}')\n",
    "    print(f'정확도: {accuracy: .2f}')\n",
    "    print(f'정밀도: {precision: .2f}')\n",
    "    print(f'재현율: {recall: .2f}')\n",
    "    print(f'f1스코어: {f1: .2f}')\n",
    "    print(f'roc_auc스코어: {roc_auc: .2f}')\n",
    "    \n",
    "def get_clf_eval_by_threshold(y_test, pred_proba_c1, threshold):\n",
    "    for custom_threshold in threshold:\n",
    "        binarizer = Binarizer(threshold = custom_threshold).fit(pred_proba_c1)\n",
    "        custom_predict = binarizer.fit_transform(pred_proba_c1)\n",
    "        \n",
    "        print(f'임곗값: {custom_threshold}')\n",
    "        get_clf_eval(y_test, custom_predict, pred_proba_c1)\n",
    "        print('\\n')\n",
    "\n",
    "\n",
    "threshold = [0.3, 0.33, 0.36, 0.4, 0.43, 0.46, 0.49]\n",
    "get_clf_eval_by_threshold(y_test, pred_proba.reshape(-1,1), threshold)"
   ]
  },
  {
   "cell_type": "markdown",
   "id": "30e3aa41",
   "metadata": {},
   "source": [
    "- 책과 다르게 0값을 채울 때, 0을 포함하지 않은 평균값으로 대체해주었는데, 이게 결론적으로 좋은 임곗값을 고르는 부분에서 책과 차이가 나는 부분인 것 같다.\n",
    "- 정밀도가 좀 낮게 나온편이긴 하지만, 재현율이 높고, f1스코어 역시 높기 때문에 제일 좋은 임곗값은 0.33인 것으로!"
   ]
  }
 ],
 "metadata": {
  "kernelspec": {
   "display_name": "Python 3 (ipykernel)",
   "language": "python",
   "name": "python3"
  },
  "language_info": {
   "codemirror_mode": {
    "name": "ipython",
    "version": 3
   },
   "file_extension": ".py",
   "mimetype": "text/x-python",
   "name": "python",
   "nbconvert_exporter": "python",
   "pygments_lexer": "ipython3",
   "version": "3.8.13"
  },
  "toc": {
   "base_numbering": 1,
   "nav_menu": {},
   "number_sections": true,
   "sideBar": true,
   "skip_h1_title": false,
   "title_cell": "Table of Contents",
   "title_sidebar": "Contents",
   "toc_cell": false,
   "toc_position": {
    "height": "calc(100% - 180px)",
    "left": "10px",
    "top": "150px",
    "width": "304.475px"
   },
   "toc_section_display": true,
   "toc_window_display": true
  }
 },
 "nbformat": 4,
 "nbformat_minor": 5
}

{
 "cells": [
  {
   "cell_type": "markdown",
   "id": "2b3256c6",
   "metadata": {},
   "source": [
    "# 실습: kaggle Mercari Price Sugestion Challenge"
   ]
  },
  {
   "cell_type": "markdown",
   "id": "6fa780cb",
   "metadata": {},
   "source": [
    "## 데이터 불러오기"
   ]
  },
  {
   "cell_type": "code",
   "execution_count": 1,
   "id": "f0ac9532",
   "metadata": {},
   "outputs": [],
   "source": [
    "import pandas as pd\n",
    "import numpy as np"
   ]
  },
  {
   "cell_type": "code",
   "execution_count": 4,
   "id": "0b4c1aa4",
   "metadata": {},
   "outputs": [
    {
     "data": {
      "text/html": [
       "<div>\n",
       "<style scoped>\n",
       "    .dataframe tbody tr th:only-of-type {\n",
       "        vertical-align: middle;\n",
       "    }\n",
       "\n",
       "    .dataframe tbody tr th {\n",
       "        vertical-align: top;\n",
       "    }\n",
       "\n",
       "    .dataframe thead th {\n",
       "        text-align: right;\n",
       "    }\n",
       "</style>\n",
       "<table border=\"1\" class=\"dataframe\">\n",
       "  <thead>\n",
       "    <tr style=\"text-align: right;\">\n",
       "      <th></th>\n",
       "      <th>train_id</th>\n",
       "      <th>name</th>\n",
       "      <th>item_condition_id</th>\n",
       "      <th>category_name</th>\n",
       "      <th>brand_name</th>\n",
       "      <th>price</th>\n",
       "      <th>shipping</th>\n",
       "      <th>item_description</th>\n",
       "    </tr>\n",
       "  </thead>\n",
       "  <tbody>\n",
       "    <tr>\n",
       "      <th>0</th>\n",
       "      <td>0</td>\n",
       "      <td>MLB Cincinnati Reds T Shirt Size XL</td>\n",
       "      <td>3</td>\n",
       "      <td>Men/Tops/T-shirts</td>\n",
       "      <td>NaN</td>\n",
       "      <td>10.0</td>\n",
       "      <td>1</td>\n",
       "      <td>No description yet</td>\n",
       "    </tr>\n",
       "    <tr>\n",
       "      <th>1</th>\n",
       "      <td>1</td>\n",
       "      <td>Razer BlackWidow Chroma Keyboard</td>\n",
       "      <td>3</td>\n",
       "      <td>Electronics/Computers &amp; Tablets/Components &amp; P...</td>\n",
       "      <td>Razer</td>\n",
       "      <td>52.0</td>\n",
       "      <td>0</td>\n",
       "      <td>This keyboard is in great condition and works ...</td>\n",
       "    </tr>\n",
       "    <tr>\n",
       "      <th>2</th>\n",
       "      <td>2</td>\n",
       "      <td>AVA-VIV Blouse</td>\n",
       "      <td>1</td>\n",
       "      <td>Women/Tops &amp; Blouses/Blouse</td>\n",
       "      <td>Target</td>\n",
       "      <td>10.0</td>\n",
       "      <td>1</td>\n",
       "      <td>Adorable top with a hint of lace and a key hol...</td>\n",
       "    </tr>\n",
       "    <tr>\n",
       "      <th>3</th>\n",
       "      <td>3</td>\n",
       "      <td>Leather Horse Statues</td>\n",
       "      <td>1</td>\n",
       "      <td>Home/Home Décor/Home Décor Accents</td>\n",
       "      <td>NaN</td>\n",
       "      <td>35.0</td>\n",
       "      <td>1</td>\n",
       "      <td>New with tags. Leather horses. Retail for [rm]...</td>\n",
       "    </tr>\n",
       "    <tr>\n",
       "      <th>4</th>\n",
       "      <td>4</td>\n",
       "      <td>24K GOLD plated rose</td>\n",
       "      <td>1</td>\n",
       "      <td>Women/Jewelry/Necklaces</td>\n",
       "      <td>NaN</td>\n",
       "      <td>44.0</td>\n",
       "      <td>0</td>\n",
       "      <td>Complete with certificate of authenticity</td>\n",
       "    </tr>\n",
       "  </tbody>\n",
       "</table>\n",
       "</div>"
      ],
      "text/plain": [
       "   train_id                                 name  item_condition_id  \\\n",
       "0         0  MLB Cincinnati Reds T Shirt Size XL                  3   \n",
       "1         1     Razer BlackWidow Chroma Keyboard                  3   \n",
       "2         2                       AVA-VIV Blouse                  1   \n",
       "3         3                Leather Horse Statues                  1   \n",
       "4         4                 24K GOLD plated rose                  1   \n",
       "\n",
       "                                       category_name brand_name  price  \\\n",
       "0                                  Men/Tops/T-shirts        NaN   10.0   \n",
       "1  Electronics/Computers & Tablets/Components & P...      Razer   52.0   \n",
       "2                        Women/Tops & Blouses/Blouse     Target   10.0   \n",
       "3                 Home/Home Décor/Home Décor Accents        NaN   35.0   \n",
       "4                            Women/Jewelry/Necklaces        NaN   44.0   \n",
       "\n",
       "   shipping                                   item_description  \n",
       "0         1                                 No description yet  \n",
       "1         0  This keyboard is in great condition and works ...  \n",
       "2         1  Adorable top with a hint of lace and a key hol...  \n",
       "3         1  New with tags. Leather horses. Retail for [rm]...  \n",
       "4         0          Complete with certificate of authenticity  "
      ]
     },
     "execution_count": 4,
     "metadata": {},
     "output_type": "execute_result"
    }
   ],
   "source": [
    "train_df = pd.read_table('./필요 데이터/Mercari_Price_Suggestion_Challenge/train.tsv')\n",
    "train_df.head()"
   ]
  },
  {
   "cell_type": "markdown",
   "id": "b0dfb4c3",
   "metadata": {},
   "source": [
    "- train_id: 아이디\n",
    "- name: 제품명\n",
    "- item_condition_id: 판매자가 제공하는 제품 상태\n",
    "- category_name: 제품 카테고리\n",
    "- brand_name: 브랜드 이름\n",
    "- price: 가격    ------> 예측 TARGET 값\n",
    "- shipping: 배송비 무료 여부(1은 무료(판매자 지불), 0은 유료)\n",
    "- item_description: 제품에 대한 설명"
   ]
  },
  {
   "cell_type": "markdown",
   "id": "b12dbee4",
   "metadata": {},
   "source": [
    "- 비정형 데이터인 item_description 등을 이용해서 price 값을 예측하는 회귀 실습을 해볼 것"
   ]
  },
  {
   "cell_type": "markdown",
   "id": "b3306653",
   "metadata": {},
   "source": [
    "## EDA"
   ]
  },
  {
   "cell_type": "markdown",
   "id": "a969a4e7",
   "metadata": {},
   "source": [
    "#### NULL값 확인"
   ]
  },
  {
   "cell_type": "code",
   "execution_count": 5,
   "id": "8ee0a774",
   "metadata": {},
   "outputs": [
    {
     "name": "stdout",
     "output_type": "stream",
     "text": [
      "<class 'pandas.core.frame.DataFrame'>\n",
      "RangeIndex: 1482535 entries, 0 to 1482534\n",
      "Data columns (total 8 columns):\n",
      " #   Column             Non-Null Count    Dtype  \n",
      "---  ------             --------------    -----  \n",
      " 0   train_id           1482535 non-null  int64  \n",
      " 1   name               1482535 non-null  object \n",
      " 2   item_condition_id  1482535 non-null  int64  \n",
      " 3   category_name      1476208 non-null  object \n",
      " 4   brand_name         849853 non-null   object \n",
      " 5   price              1482535 non-null  float64\n",
      " 6   shipping           1482535 non-null  int64  \n",
      " 7   item_description   1482531 non-null  object \n",
      "dtypes: float64(1), int64(3), object(4)\n",
      "memory usage: 90.5+ MB\n"
     ]
    }
   ],
   "source": [
    "train_df.info()"
   ]
  },
  {
   "cell_type": "markdown",
   "id": "ff729318",
   "metadata": {},
   "source": [
    "- 제품 카테고리, 브랜드이름이 NULL인 경우 존재"
   ]
  },
  {
   "cell_type": "markdown",
   "id": "26a75255",
   "metadata": {},
   "source": [
    "#### PRICE 분포 확인"
   ]
  },
  {
   "cell_type": "code",
   "execution_count": 7,
   "id": "1b70e326",
   "metadata": {},
   "outputs": [],
   "source": [
    "import seaborn as sns\n",
    "import matplotlib.pyplot as plt\n",
    "sns.set_theme(style = 'darkgrid')"
   ]
  },
  {
   "cell_type": "code",
   "execution_count": 12,
   "id": "ac9f2d07",
   "metadata": {},
   "outputs": [
    {
     "data": {
      "image/png": "[encoded data removed]",
      "text/plain": [
       "<Figure size 720x360 with 1 Axes>"
      ]
     },
     "metadata": {},
     "output_type": "display_data"
    }
   ],
   "source": [
    "# PRICE 분포 확인\n",
    "\n",
    "plt.figure(figsize = (10, 5))\n",
    "\n",
    "sns.histplot(train_df['price'], bins = 100, kde = True)\n",
    "\n",
    "plt.show()"
   ]
  },
  {
   "cell_type": "markdown",
   "id": "88369f53",
   "metadata": {},
   "source": [
    "- target 데이터인데 비교적 작은값으로 쏠려있는 경향이 있음 \n",
    "    -> 로그변환해보겠음"
   ]
  },
  {
   "cell_type": "code",
   "execution_count": 13,
   "id": "67350c76",
   "metadata": {},
   "outputs": [],
   "source": [
    "import numpy as np"
   ]
  },
  {
   "cell_type": "code",
   "execution_count": 15,
   "id": "d6664c1b",
   "metadata": {},
   "outputs": [
    {
     "data": {
      "image/png": "[encoded data removed]",
      "text/plain": [
       "<Figure size 720x360 with 1 Axes>"
      ]
     },
     "metadata": {},
     "output_type": "display_data"
    }
   ],
   "source": [
    "# PRICE 로그지수 변환\n",
    "\n",
    "\n",
    "plt.figure(figsize = (10, 5))\n",
    "\n",
    "sns.histplot(np.log1p(train_df['price']), bins = 100, kde = True)\n",
    "\n",
    "plt.show()"
   ]
  },
  {
   "cell_type": "markdown",
   "id": "27257958",
   "metadata": {},
   "source": [
    "- 정규분포와 비슷하게 분포하게 됨 -> 원본 데이터의 price도 로그변환하겠음"
   ]
  },
  {
   "cell_type": "code",
   "execution_count": 18,
   "id": "ad242b3a",
   "metadata": {},
   "outputs": [
    {
     "data": {
      "text/html": [
       "<div>\n",
       "<style scoped>\n",
       "    .dataframe tbody tr th:only-of-type {\n",
       "        vertical-align: middle;\n",
       "    }\n",
       "\n",
       "    .dataframe tbody tr th {\n",
       "        vertical-align: top;\n",
       "    }\n",
       "\n",
       "    .dataframe thead th {\n",
       "        text-align: right;\n",
       "    }\n",
       "</style>\n",
       "<table border=\"1\" class=\"dataframe\">\n",
       "  <thead>\n",
       "    <tr style=\"text-align: right;\">\n",
       "      <th></th>\n",
       "      <th>train_id</th>\n",
       "      <th>name</th>\n",
       "      <th>item_condition_id</th>\n",
       "      <th>category_name</th>\n",
       "      <th>brand_name</th>\n",
       "      <th>price</th>\n",
       "      <th>shipping</th>\n",
       "      <th>item_description</th>\n",
       "    </tr>\n",
       "  </thead>\n",
       "  <tbody>\n",
       "    <tr>\n",
       "      <th>0</th>\n",
       "      <td>0</td>\n",
       "      <td>MLB Cincinnati Reds T Shirt Size XL</td>\n",
       "      <td>3</td>\n",
       "      <td>Men/Tops/T-shirts</td>\n",
       "      <td>NaN</td>\n",
       "      <td>10.0</td>\n",
       "      <td>1</td>\n",
       "      <td>No description yet</td>\n",
       "    </tr>\n",
       "    <tr>\n",
       "      <th>1</th>\n",
       "      <td>1</td>\n",
       "      <td>Razer BlackWidow Chroma Keyboard</td>\n",
       "      <td>3</td>\n",
       "      <td>Electronics/Computers &amp; Tablets/Components &amp; P...</td>\n",
       "      <td>Razer</td>\n",
       "      <td>52.0</td>\n",
       "      <td>0</td>\n",
       "      <td>This keyboard is in great condition and works ...</td>\n",
       "    </tr>\n",
       "    <tr>\n",
       "      <th>2</th>\n",
       "      <td>2</td>\n",
       "      <td>AVA-VIV Blouse</td>\n",
       "      <td>1</td>\n",
       "      <td>Women/Tops &amp; Blouses/Blouse</td>\n",
       "      <td>Target</td>\n",
       "      <td>10.0</td>\n",
       "      <td>1</td>\n",
       "      <td>Adorable top with a hint of lace and a key hol...</td>\n",
       "    </tr>\n",
       "  </tbody>\n",
       "</table>\n",
       "</div>"
      ],
      "text/plain": [
       "   train_id                                 name  item_condition_id  \\\n",
       "0         0  MLB Cincinnati Reds T Shirt Size XL                  3   \n",
       "1         1     Razer BlackWidow Chroma Keyboard                  3   \n",
       "2         2                       AVA-VIV Blouse                  1   \n",
       "\n",
       "                                       category_name brand_name  price  \\\n",
       "0                                  Men/Tops/T-shirts        NaN   10.0   \n",
       "1  Electronics/Computers & Tablets/Components & P...      Razer   52.0   \n",
       "2                        Women/Tops & Blouses/Blouse     Target   10.0   \n",
       "\n",
       "   shipping                                   item_description  \n",
       "0         1                                 No description yet  \n",
       "1         0  This keyboard is in great condition and works ...  \n",
       "2         1  Adorable top with a hint of lace and a key hol...  "
      ]
     },
     "metadata": {},
     "output_type": "display_data"
    },
    {
     "data": {
      "text/html": [
       "<div>\n",
       "<style scoped>\n",
       "    .dataframe tbody tr th:only-of-type {\n",
       "        vertical-align: middle;\n",
       "    }\n",
       "\n",
       "    .dataframe tbody tr th {\n",
       "        vertical-align: top;\n",
       "    }\n",
       "\n",
       "    .dataframe thead th {\n",
       "        text-align: right;\n",
       "    }\n",
       "</style>\n",
       "<table border=\"1\" class=\"dataframe\">\n",
       "  <thead>\n",
       "    <tr style=\"text-align: right;\">\n",
       "      <th></th>\n",
       "      <th>train_id</th>\n",
       "      <th>name</th>\n",
       "      <th>item_condition_id</th>\n",
       "      <th>category_name</th>\n",
       "      <th>brand_name</th>\n",
       "      <th>price</th>\n",
       "      <th>shipping</th>\n",
       "      <th>item_description</th>\n",
       "    </tr>\n",
       "  </thead>\n",
       "  <tbody>\n",
       "    <tr>\n",
       "      <th>0</th>\n",
       "      <td>0</td>\n",
       "      <td>MLB Cincinnati Reds T Shirt Size XL</td>\n",
       "      <td>3</td>\n",
       "      <td>Men/Tops/T-shirts</td>\n",
       "      <td>NaN</td>\n",
       "      <td>2.397895</td>\n",
       "      <td>1</td>\n",
       "      <td>No description yet</td>\n",
       "    </tr>\n",
       "    <tr>\n",
       "      <th>1</th>\n",
       "      <td>1</td>\n",
       "      <td>Razer BlackWidow Chroma Keyboard</td>\n",
       "      <td>3</td>\n",
       "      <td>Electronics/Computers &amp; Tablets/Components &amp; P...</td>\n",
       "      <td>Razer</td>\n",
       "      <td>3.970292</td>\n",
       "      <td>0</td>\n",
       "      <td>This keyboard is in great condition and works ...</td>\n",
       "    </tr>\n",
       "    <tr>\n",
       "      <th>2</th>\n",
       "      <td>2</td>\n",
       "      <td>AVA-VIV Blouse</td>\n",
       "      <td>1</td>\n",
       "      <td>Women/Tops &amp; Blouses/Blouse</td>\n",
       "      <td>Target</td>\n",
       "      <td>2.397895</td>\n",
       "      <td>1</td>\n",
       "      <td>Adorable top with a hint of lace and a key hol...</td>\n",
       "    </tr>\n",
       "  </tbody>\n",
       "</table>\n",
       "</div>"
      ],
      "text/plain": [
       "   train_id                                 name  item_condition_id  \\\n",
       "0         0  MLB Cincinnati Reds T Shirt Size XL                  3   \n",
       "1         1     Razer BlackWidow Chroma Keyboard                  3   \n",
       "2         2                       AVA-VIV Blouse                  1   \n",
       "\n",
       "                                       category_name brand_name     price  \\\n",
       "0                                  Men/Tops/T-shirts        NaN  2.397895   \n",
       "1  Electronics/Computers & Tablets/Components & P...      Razer  3.970292   \n",
       "2                        Women/Tops & Blouses/Blouse     Target  2.397895   \n",
       "\n",
       "   shipping                                   item_description  \n",
       "0         1                                 No description yet  \n",
       "1         0  This keyboard is in great condition and works ...  \n",
       "2         1  Adorable top with a hint of lace and a key hol...  "
      ]
     },
     "metadata": {},
     "output_type": "display_data"
    }
   ],
   "source": [
    "display(train_df.head(3))\n",
    "\n",
    "# 로그변환\n",
    "train_df['price'] = np.log1p(train_df['price'])\n",
    "\n",
    "\n",
    "display(train_df.head(3))"
   ]
  },
  {
   "cell_type": "markdown",
   "id": "31ea6e81",
   "metadata": {},
   "source": [
    "#### 범주형 변수들 value 확인"
   ]
  },
  {
   "cell_type": "code",
   "execution_count": 19,
   "id": "a3cbb930",
   "metadata": {},
   "outputs": [
    {
     "data": {
      "text/plain": [
       "1    640549\n",
       "3    432161\n",
       "2    375479\n",
       "4     31962\n",
       "5      2384\n",
       "Name: item_condition_id, dtype: int64"
      ]
     },
     "execution_count": 19,
     "metadata": {},
     "output_type": "execute_result"
    }
   ],
   "source": [
    "train_df['item_condition_id'].value_counts()"
   ]
  },
  {
   "cell_type": "code",
   "execution_count": 20,
   "id": "ebc3df7f",
   "metadata": {},
   "outputs": [
    {
     "data": {
      "text/plain": [
       "0    819435\n",
       "1    663100\n",
       "Name: shipping, dtype: int64"
      ]
     },
     "execution_count": 20,
     "metadata": {},
     "output_type": "execute_result"
    }
   ],
   "source": [
    "train_df['shipping'].value_counts()"
   ]
  },
  {
   "cell_type": "markdown",
   "id": "9ee96f51",
   "metadata": {},
   "source": [
    "#### Item Description "
   ]
  },
  {
   "cell_type": "code",
   "execution_count": 23,
   "id": "2c9c1be6",
   "metadata": {},
   "outputs": [
    {
     "data": {
      "text/plain": [
       "82489"
      ]
     },
     "execution_count": 23,
     "metadata": {},
     "output_type": "execute_result"
    }
   ],
   "source": [
    "train_df[train_df['item_description'] == 'No description yet']['item_description'].count()"
   ]
  },
  {
   "cell_type": "markdown",
   "id": "3face4d6",
   "metadata": {},
   "source": [
    "- No description yet 이라 써있는 무의미한 설명이 8만건이 넘음\n",
    "- 적절하게 변경해줘야 함"
   ]
  },
  {
   "cell_type": "markdown",
   "id": "a3c0e275",
   "metadata": {},
   "source": [
    "#### Category Name"
   ]
  },
  {
   "cell_type": "code",
   "execution_count": 25,
   "id": "58141eb4",
   "metadata": {},
   "outputs": [
    {
     "data": {
      "text/plain": [
       "Women/Athletic Apparel/Pants, Tights, Leggings    60177\n",
       "Women/Tops & Blouses/T-Shirts                     46380\n",
       "Beauty/Makeup/Face                                34335\n",
       "Beauty/Makeup/Lips                                29910\n",
       "Electronics/Video Games & Consoles/Games          26557\n",
       "                                                  ...  \n",
       "Handmade/Dolls and Miniatures/Primitive               1\n",
       "Handmade/Pets/Tag                                     1\n",
       "Handmade/Patterns/Accessories                         1\n",
       "Home/Kids' Home Store/Nursery Furniture               1\n",
       "Handmade/Pets/Blanket                                 1\n",
       "Name: category_name, Length: 1287, dtype: int64"
      ]
     },
     "execution_count": 25,
     "metadata": {},
     "output_type": "execute_result"
    }
   ],
   "source": [
    "train_df['category_name'].value_counts()"
   ]
  },
  {
   "cell_type": "code",
   "execution_count": 32,
   "id": "79c772e7",
   "metadata": {},
   "outputs": [
    {
     "data": {
      "text/plain": [
       "2    1471819\n",
       "0       6327\n",
       "4       3059\n",
       "3       1330\n",
       "Name: category_num, dtype: int64"
      ]
     },
     "execution_count": 32,
     "metadata": {},
     "output_type": "execute_result"
    }
   ],
   "source": [
    "train_df['category_num'] = train_df['category_name'].apply(lambda x: str(x).count('/'))\n",
    "train_df['category_num'].value_counts()"
   ]
  },
  {
   "cell_type": "code",
   "execution_count": 33,
   "id": "e91eb66a",
   "metadata": {
    "scrolled": true
   },
   "outputs": [
    {
     "data": {
      "text/html": [
       "<div>\n",
       "<style scoped>\n",
       "    .dataframe tbody tr th:only-of-type {\n",
       "        vertical-align: middle;\n",
       "    }\n",
       "\n",
       "    .dataframe tbody tr th {\n",
       "        vertical-align: top;\n",
       "    }\n",
       "\n",
       "    .dataframe thead th {\n",
       "        text-align: right;\n",
       "    }\n",
       "</style>\n",
       "<table border=\"1\" class=\"dataframe\">\n",
       "  <thead>\n",
       "    <tr style=\"text-align: right;\">\n",
       "      <th></th>\n",
       "      <th>train_id</th>\n",
       "      <th>name</th>\n",
       "      <th>item_condition_id</th>\n",
       "      <th>category_name</th>\n",
       "      <th>brand_name</th>\n",
       "      <th>price</th>\n",
       "      <th>shipping</th>\n",
       "      <th>item_description</th>\n",
       "      <th>category_num</th>\n",
       "    </tr>\n",
       "  </thead>\n",
       "  <tbody>\n",
       "    <tr>\n",
       "      <th>239</th>\n",
       "      <td>239</td>\n",
       "      <td>Zagg invisible shield for IPad air</td>\n",
       "      <td>1</td>\n",
       "      <td>Electronics/Computers &amp; Tablets/iPad/Tablet/eB...</td>\n",
       "      <td>NaN</td>\n",
       "      <td>2.397895</td>\n",
       "      <td>1</td>\n",
       "      <td>Zag invisible shield for IPad air</td>\n",
       "      <td>4</td>\n",
       "    </tr>\n",
       "    <tr>\n",
       "      <th>742</th>\n",
       "      <td>742</td>\n",
       "      <td>iPad Pro Smart Cover</td>\n",
       "      <td>2</td>\n",
       "      <td>Electronics/Computers &amp; Tablets/iPad/Tablet/eB...</td>\n",
       "      <td>NaN</td>\n",
       "      <td>3.465736</td>\n",
       "      <td>0</td>\n",
       "      <td>iPad Pro Smart Cover in Lilac Made for iPad Pr...</td>\n",
       "      <td>4</td>\n",
       "    </tr>\n",
       "    <tr>\n",
       "      <th>1700</th>\n",
       "      <td>1700</td>\n",
       "      <td>LIKE NEW KOBO eReader Tablet Only [rm]!!</td>\n",
       "      <td>1</td>\n",
       "      <td>Electronics/Computers &amp; Tablets/iPad/Tablet/eB...</td>\n",
       "      <td>NaN</td>\n",
       "      <td>3.465736</td>\n",
       "      <td>0</td>\n",
       "      <td>Selling a tablet literally like new. No scratc...</td>\n",
       "      <td>4</td>\n",
       "    </tr>\n",
       "    <tr>\n",
       "      <th>2923</th>\n",
       "      <td>2923</td>\n",
       "      <td>Vuru tablet. 7 inch.</td>\n",
       "      <td>3</td>\n",
       "      <td>Electronics/Computers &amp; Tablets/iPad/Tablet/eB...</td>\n",
       "      <td>NaN</td>\n",
       "      <td>3.295837</td>\n",
       "      <td>0</td>\n",
       "      <td>Vuru tablet. Perfect for children. It does hav...</td>\n",
       "      <td>4</td>\n",
       "    </tr>\n",
       "    <tr>\n",
       "      <th>3394</th>\n",
       "      <td>3394</td>\n",
       "      <td>iPod 1st generation 80gb</td>\n",
       "      <td>5</td>\n",
       "      <td>Electronics/Computers &amp; Tablets/iPad/Tablet/eB...</td>\n",
       "      <td>Apple</td>\n",
       "      <td>3.044522</td>\n",
       "      <td>1</td>\n",
       "      <td>For parts or repair</td>\n",
       "      <td>4</td>\n",
       "    </tr>\n",
       "    <tr>\n",
       "      <th>...</th>\n",
       "      <td>...</td>\n",
       "      <td>...</td>\n",
       "      <td>...</td>\n",
       "      <td>...</td>\n",
       "      <td>...</td>\n",
       "      <td>...</td>\n",
       "      <td>...</td>\n",
       "      <td>...</td>\n",
       "      <td>...</td>\n",
       "    </tr>\n",
       "    <tr>\n",
       "      <th>1480808</th>\n",
       "      <td>1480808</td>\n",
       "      <td>Coach iPad case</td>\n",
       "      <td>3</td>\n",
       "      <td>Electronics/Computers &amp; Tablets/iPad/Tablet/eB...</td>\n",
       "      <td>NaN</td>\n",
       "      <td>3.688879</td>\n",
       "      <td>0</td>\n",
       "      <td>Good condition</td>\n",
       "      <td>4</td>\n",
       "    </tr>\n",
       "    <tr>\n",
       "      <th>1481238</th>\n",
       "      <td>1481238</td>\n",
       "      <td>Kindle</td>\n",
       "      <td>2</td>\n",
       "      <td>Electronics/Computers &amp; Tablets/iPad/Tablet/eB...</td>\n",
       "      <td>AmazonBasics</td>\n",
       "      <td>3.218876</td>\n",
       "      <td>0</td>\n",
       "      <td>No description yet</td>\n",
       "      <td>4</td>\n",
       "    </tr>\n",
       "    <tr>\n",
       "      <th>1481848</th>\n",
       "      <td>1481848</td>\n",
       "      <td>Samsung Tab 3</td>\n",
       "      <td>2</td>\n",
       "      <td>Electronics/Computers &amp; Tablets/iPad/Tablet/eB...</td>\n",
       "      <td>Samsung</td>\n",
       "      <td>3.583519</td>\n",
       "      <td>1</td>\n",
       "      <td>Hardly ever used. No damage still has screen p...</td>\n",
       "      <td>4</td>\n",
       "    </tr>\n",
       "    <tr>\n",
       "      <th>1482283</th>\n",
       "      <td>1482283</td>\n",
       "      <td>Kindle Fire HD</td>\n",
       "      <td>3</td>\n",
       "      <td>Electronics/Computers &amp; Tablets/iPad/Tablet/eB...</td>\n",
       "      <td>AmazonBasics</td>\n",
       "      <td>3.951244</td>\n",
       "      <td>0</td>\n",
       "      <td>This is a Kindle Fire HD. This is 7 inches. Wi...</td>\n",
       "      <td>4</td>\n",
       "    </tr>\n",
       "    <tr>\n",
       "      <th>1482387</th>\n",
       "      <td>1482387</td>\n",
       "      <td>IPAD PRO 8.7 INCH 32GB</td>\n",
       "      <td>1</td>\n",
       "      <td>Electronics/Computers &amp; Tablets/iPad/Tablet/eB...</td>\n",
       "      <td>Apple</td>\n",
       "      <td>6.234411</td>\n",
       "      <td>0</td>\n",
       "      <td>BRAND NEW IN BOX NEVER OPEN ,IPAD PRO 32GB,8.9...</td>\n",
       "      <td>4</td>\n",
       "    </tr>\n",
       "  </tbody>\n",
       "</table>\n",
       "<p>3059 rows × 9 columns</p>\n",
       "</div>"
      ],
      "text/plain": [
       "         train_id                                      name  \\\n",
       "239           239        Zagg invisible shield for IPad air   \n",
       "742           742                      iPad Pro Smart Cover   \n",
       "1700         1700  LIKE NEW KOBO eReader Tablet Only [rm]!!   \n",
       "2923         2923                      Vuru tablet. 7 inch.   \n",
       "3394         3394                  iPod 1st generation 80gb   \n",
       "...           ...                                       ...   \n",
       "1480808   1480808                           Coach iPad case   \n",
       "1481238   1481238                                    Kindle   \n",
       "1481848   1481848                             Samsung Tab 3   \n",
       "1482283   1482283                            Kindle Fire HD   \n",
       "1482387   1482387                    IPAD PRO 8.7 INCH 32GB   \n",
       "\n",
       "         item_condition_id                                      category_name  \\\n",
       "239                      1  Electronics/Computers & Tablets/iPad/Tablet/eB...   \n",
       "742                      2  Electronics/Computers & Tablets/iPad/Tablet/eB...   \n",
       "1700                     1  Electronics/Computers & Tablets/iPad/Tablet/eB...   \n",
       "2923                     3  Electronics/Computers & Tablets/iPad/Tablet/eB...   \n",
       "3394                     5  Electronics/Computers & Tablets/iPad/Tablet/eB...   \n",
       "...                    ...                                                ...   \n",
       "1480808                  3  Electronics/Computers & Tablets/iPad/Tablet/eB...   \n",
       "1481238                  2  Electronics/Computers & Tablets/iPad/Tablet/eB...   \n",
       "1481848                  2  Electronics/Computers & Tablets/iPad/Tablet/eB...   \n",
       "1482283                  3  Electronics/Computers & Tablets/iPad/Tablet/eB...   \n",
       "1482387                  1  Electronics/Computers & Tablets/iPad/Tablet/eB...   \n",
       "\n",
       "           brand_name     price  shipping  \\\n",
       "239               NaN  2.397895         1   \n",
       "742               NaN  3.465736         0   \n",
       "1700              NaN  3.465736         0   \n",
       "2923              NaN  3.295837         0   \n",
       "3394            Apple  3.044522         1   \n",
       "...               ...       ...       ...   \n",
       "1480808           NaN  3.688879         0   \n",
       "1481238  AmazonBasics  3.218876         0   \n",
       "1481848       Samsung  3.583519         1   \n",
       "1482283  AmazonBasics  3.951244         0   \n",
       "1482387         Apple  6.234411         0   \n",
       "\n",
       "                                          item_description  category_num  \n",
       "239                      Zag invisible shield for IPad air             4  \n",
       "742      iPad Pro Smart Cover in Lilac Made for iPad Pr...             4  \n",
       "1700     Selling a tablet literally like new. No scratc...             4  \n",
       "2923     Vuru tablet. Perfect for children. It does hav...             4  \n",
       "3394                                   For parts or repair             4  \n",
       "...                                                    ...           ...  \n",
       "1480808                                     Good condition             4  \n",
       "1481238                                 No description yet             4  \n",
       "1481848  Hardly ever used. No damage still has screen p...             4  \n",
       "1482283  This is a Kindle Fire HD. This is 7 inches. Wi...             4  \n",
       "1482387  BRAND NEW IN BOX NEVER OPEN ,IPAD PRO 32GB,8.9...             4  \n",
       "\n",
       "[3059 rows x 9 columns]"
      ]
     },
     "execution_count": 33,
     "metadata": {},
     "output_type": "execute_result"
    }
   ],
   "source": [
    "train_df[train_df['category_num'] == 4]"
   ]
  },
  {
   "cell_type": "markdown",
   "id": "56882979",
   "metadata": {},
   "source": [
    "- 카테고리를 '/'를 기준으로 대, 중, 소로 나눠보겠음"
   ]
  },
  {
   "cell_type": "code",
   "execution_count": 36,
   "id": "9f835351",
   "metadata": {},
   "outputs": [],
   "source": [
    "# '/' 기준으로 텍스트를 나누는 사용자함수 생성\n",
    "def split_cat(x):\n",
    "    try:\n",
    "        return x.split('/')\n",
    "    except:\n",
    "        return ['Other_Null', 'Other_Null', 'Other_Null']\n",
    "    "
   ]
  },
  {
   "cell_type": "code",
   "execution_count": 37,
   "id": "98f2286e",
   "metadata": {},
   "outputs": [
    {
     "data": {
      "text/html": [
       "<div>\n",
       "<style scoped>\n",
       "    .dataframe tbody tr th:only-of-type {\n",
       "        vertical-align: middle;\n",
       "    }\n",
       "\n",
       "    .dataframe tbody tr th {\n",
       "        vertical-align: top;\n",
       "    }\n",
       "\n",
       "    .dataframe thead th {\n",
       "        text-align: right;\n",
       "    }\n",
       "</style>\n",
       "<table border=\"1\" class=\"dataframe\">\n",
       "  <thead>\n",
       "    <tr style=\"text-align: right;\">\n",
       "      <th></th>\n",
       "      <th>train_id</th>\n",
       "      <th>name</th>\n",
       "      <th>item_condition_id</th>\n",
       "      <th>category_name</th>\n",
       "      <th>brand_name</th>\n",
       "      <th>price</th>\n",
       "      <th>shipping</th>\n",
       "      <th>item_description</th>\n",
       "      <th>category_num</th>\n",
       "      <th>cat_dae</th>\n",
       "      <th>cat_joong</th>\n",
       "      <th>cat_so</th>\n",
       "    </tr>\n",
       "  </thead>\n",
       "  <tbody>\n",
       "    <tr>\n",
       "      <th>0</th>\n",
       "      <td>0</td>\n",
       "      <td>MLB Cincinnati Reds T Shirt Size XL</td>\n",
       "      <td>3</td>\n",
       "      <td>Men/Tops/T-shirts</td>\n",
       "      <td>NaN</td>\n",
       "      <td>2.397895</td>\n",
       "      <td>1</td>\n",
       "      <td>No description yet</td>\n",
       "      <td>2</td>\n",
       "      <td>Men</td>\n",
       "      <td>Tops</td>\n",
       "      <td>T-shirts</td>\n",
       "    </tr>\n",
       "    <tr>\n",
       "      <th>1</th>\n",
       "      <td>1</td>\n",
       "      <td>Razer BlackWidow Chroma Keyboard</td>\n",
       "      <td>3</td>\n",
       "      <td>Electronics/Computers &amp; Tablets/Components &amp; P...</td>\n",
       "      <td>Razer</td>\n",
       "      <td>3.970292</td>\n",
       "      <td>0</td>\n",
       "      <td>This keyboard is in great condition and works ...</td>\n",
       "      <td>2</td>\n",
       "      <td>Electronics</td>\n",
       "      <td>Computers &amp; Tablets</td>\n",
       "      <td>Components &amp; Parts</td>\n",
       "    </tr>\n",
       "    <tr>\n",
       "      <th>2</th>\n",
       "      <td>2</td>\n",
       "      <td>AVA-VIV Blouse</td>\n",
       "      <td>1</td>\n",
       "      <td>Women/Tops &amp; Blouses/Blouse</td>\n",
       "      <td>Target</td>\n",
       "      <td>2.397895</td>\n",
       "      <td>1</td>\n",
       "      <td>Adorable top with a hint of lace and a key hol...</td>\n",
       "      <td>2</td>\n",
       "      <td>Women</td>\n",
       "      <td>Tops &amp; Blouses</td>\n",
       "      <td>Blouse</td>\n",
       "    </tr>\n",
       "    <tr>\n",
       "      <th>3</th>\n",
       "      <td>3</td>\n",
       "      <td>Leather Horse Statues</td>\n",
       "      <td>1</td>\n",
       "      <td>Home/Home Décor/Home Décor Accents</td>\n",
       "      <td>NaN</td>\n",
       "      <td>3.583519</td>\n",
       "      <td>1</td>\n",
       "      <td>New with tags. Leather horses. Retail for [rm]...</td>\n",
       "      <td>2</td>\n",
       "      <td>Home</td>\n",
       "      <td>Home Décor</td>\n",
       "      <td>Home Décor Accents</td>\n",
       "    </tr>\n",
       "    <tr>\n",
       "      <th>4</th>\n",
       "      <td>4</td>\n",
       "      <td>24K GOLD plated rose</td>\n",
       "      <td>1</td>\n",
       "      <td>Women/Jewelry/Necklaces</td>\n",
       "      <td>NaN</td>\n",
       "      <td>3.806662</td>\n",
       "      <td>0</td>\n",
       "      <td>Complete with certificate of authenticity</td>\n",
       "      <td>2</td>\n",
       "      <td>Women</td>\n",
       "      <td>Jewelry</td>\n",
       "      <td>Necklaces</td>\n",
       "    </tr>\n",
       "  </tbody>\n",
       "</table>\n",
       "</div>"
      ],
      "text/plain": [
       "   train_id                                 name  item_condition_id  \\\n",
       "0         0  MLB Cincinnati Reds T Shirt Size XL                  3   \n",
       "1         1     Razer BlackWidow Chroma Keyboard                  3   \n",
       "2         2                       AVA-VIV Blouse                  1   \n",
       "3         3                Leather Horse Statues                  1   \n",
       "4         4                 24K GOLD plated rose                  1   \n",
       "\n",
       "                                       category_name brand_name     price  \\\n",
       "0                                  Men/Tops/T-shirts        NaN  2.397895   \n",
       "1  Electronics/Computers & Tablets/Components & P...      Razer  3.970292   \n",
       "2                        Women/Tops & Blouses/Blouse     Target  2.397895   \n",
       "3                 Home/Home Décor/Home Décor Accents        NaN  3.583519   \n",
       "4                            Women/Jewelry/Necklaces        NaN  3.806662   \n",
       "\n",
       "   shipping                                   item_description  category_num  \\\n",
       "0         1                                 No description yet             2   \n",
       "1         0  This keyboard is in great condition and works ...             2   \n",
       "2         1  Adorable top with a hint of lace and a key hol...             2   \n",
       "3         1  New with tags. Leather horses. Retail for [rm]...             2   \n",
       "4         0          Complete with certificate of authenticity             2   \n",
       "\n",
       "       cat_dae            cat_joong              cat_so  \n",
       "0          Men                 Tops            T-shirts  \n",
       "1  Electronics  Computers & Tablets  Components & Parts  \n",
       "2        Women       Tops & Blouses              Blouse  \n",
       "3         Home           Home Décor  Home Décor Accents  \n",
       "4        Women              Jewelry           Necklaces  "
      ]
     },
     "execution_count": 37,
     "metadata": {},
     "output_type": "execute_result"
    }
   ],
   "source": [
    "train_df['cat_dae'], train_df['cat_joong'], train_df['cat_so'] = zip(*train_df['category_name'].apply(lambda x: split_cat(x)))\n",
    "train_df.head()"
   ]
  },
  {
   "cell_type": "code",
   "execution_count": 40,
   "id": "94b67773",
   "metadata": {},
   "outputs": [
    {
     "data": {
      "text/plain": [
       "Women                     664385\n",
       "Beauty                    207828\n",
       "Kids                      171689\n",
       "Electronics               122690\n",
       "Men                        93680\n",
       "Home                       67871\n",
       "Vintage & Collectibles     46530\n",
       "Other                      45351\n",
       "Handmade                   30842\n",
       "Sports & Outdoors          25342\n",
       "Other_Null                  6327\n",
       "Name: cat_dae, dtype: int64"
      ]
     },
     "execution_count": 40,
     "metadata": {},
     "output_type": "execute_result"
    }
   ],
   "source": [
    "train_df['cat_dae'].value_counts()"
   ]
  },
  {
   "cell_type": "code",
   "execution_count": 41,
   "id": "424b2eeb",
   "metadata": {},
   "outputs": [
    {
     "data": {
      "text/plain": [
       "Athletic Apparel        134383\n",
       "Makeup                  124624\n",
       "Tops & Blouses          106960\n",
       "Shoes                   100452\n",
       "Jewelry                  61763\n",
       "                         ...  \n",
       "Candles                     64\n",
       "Ceramics and Pottery        57\n",
       "Dolls and Miniatures        49\n",
       "Books and Zines             46\n",
       "Quilts                      31\n",
       "Name: cat_joong, Length: 114, dtype: int64"
      ]
     },
     "execution_count": 41,
     "metadata": {},
     "output_type": "execute_result"
    }
   ],
   "source": [
    "train_df['cat_joong'].value_counts()"
   ]
  },
  {
   "cell_type": "code",
   "execution_count": 42,
   "id": "8e7dd1a5",
   "metadata": {},
   "outputs": [
    {
     "data": {
      "text/plain": [
       "Pants, Tights, Leggings       60177\n",
       "Other                         50224\n",
       "Face                          50171\n",
       "T-Shirts                      46380\n",
       "Shoes                         32168\n",
       "                              ...  \n",
       "Storage Solutions                 1\n",
       "Map                               1\n",
       "International Publications        1\n",
       "St Patricks                       1\n",
       "Ephemera                          1\n",
       "Name: cat_so, Length: 871, dtype: int64"
      ]
     },
     "execution_count": 42,
     "metadata": {},
     "output_type": "execute_result"
    }
   ],
   "source": [
    "train_df['cat_so'].value_counts()"
   ]
  },
  {
   "cell_type": "markdown",
   "id": "489a6efe",
   "metadata": {},
   "source": [
    "- <span style = 'background-color: #ffdce0'>zip(* 사용자함수)를 활용하면 생성된 리스트의 각 요소를 여러 개의 칼럼으로 간단하게 분리 가능</span>\n",
    "- 카테고리 대, 중, 소를 나눔"
   ]
  },
  {
   "cell_type": "markdown",
   "id": "36d2395f",
   "metadata": {},
   "source": [
    "#### NULL 값 채우기\n",
    "- 카테고리 대, 중, 소에 채웠듯이 NULL값을 'Other Null'로 채우겠음"
   ]
  },
  {
   "cell_type": "code",
   "execution_count": 45,
   "id": "e3cadccf",
   "metadata": {},
   "outputs": [
    {
     "data": {
      "text/plain": [
       "train_id                  0\n",
       "name                      0\n",
       "item_condition_id         0\n",
       "category_name          6327\n",
       "brand_name           632682\n",
       "price                     0\n",
       "shipping                  0\n",
       "item_description          4\n",
       "category_num              0\n",
       "cat_dae                   0\n",
       "cat_joong                 0\n",
       "cat_so                    0\n",
       "dtype: int64"
      ]
     },
     "execution_count": 45,
     "metadata": {},
     "output_type": "execute_result"
    }
   ],
   "source": [
    "train_df.isnull().sum()"
   ]
  },
  {
   "cell_type": "code",
   "execution_count": 46,
   "id": "cf5f2703",
   "metadata": {},
   "outputs": [],
   "source": [
    "train_df['brand_name'] = train_df['brand_name'].fillna( 'Other Null')\n",
    "train_df['category_name'] = train_df['category_name'].fillna( 'Other Null')\n",
    "train_df['item_description'] = train_df['item_description'].fillna( 'Other Null')"
   ]
  },
  {
   "cell_type": "code",
   "execution_count": 47,
   "id": "03b047b3",
   "metadata": {},
   "outputs": [
    {
     "data": {
      "text/plain": [
       "train_id             0\n",
       "name                 0\n",
       "item_condition_id    0\n",
       "category_name        0\n",
       "brand_name           0\n",
       "price                0\n",
       "shipping             0\n",
       "item_description     0\n",
       "category_num         0\n",
       "cat_dae              0\n",
       "cat_joong            0\n",
       "cat_so               0\n",
       "dtype: int64"
      ]
     },
     "execution_count": 47,
     "metadata": {},
     "output_type": "execute_result"
    }
   ],
   "source": [
    "train_df.isnull().sum()"
   ]
  },
  {
   "cell_type": "code",
   "execution_count": 48,
   "id": "90232d21",
   "metadata": {},
   "outputs": [],
   "source": [
    "train_df.drop('category_num', axis = 1, inplace = True)"
   ]
  },
  {
   "cell_type": "markdown",
   "id": "869ef041",
   "metadata": {},
   "source": [
    "## 피처벡터화\n",
    "- price를 예측하는 회귀모델링이고, 선형회귀의 경우 범주형 변수를 원-핫 인코딩이 선호됨\n",
    "- 비교적 짧은 텍스트는 Count 기반 벡터화, 긴 텍스트는 TFIDF 기반 벡터화 적용하도록 함"
   ]
  },
  {
   "cell_type": "markdown",
   "id": "302bb07d",
   "metadata": {},
   "source": [
    "#### Item Description "
   ]
  },
  {
   "cell_type": "code",
   "execution_count": 60,
   "id": "887369bf",
   "metadata": {},
   "outputs": [
    {
     "data": {
      "text/plain": [
       "145.7113889385411"
      ]
     },
     "execution_count": 60,
     "metadata": {},
     "output_type": "execute_result"
    }
   ],
   "source": [
    "# 평균 텍스트 길이 재보기\n",
    "\n",
    "train_df['item_description'].str.len().mean()"
   ]
  },
  {
   "cell_type": "markdown",
   "id": "a886eee4",
   "metadata": {},
   "source": [
    "- <span style = 'background-color: #f1f8ff'>TFIDF 기반 텍스트 벡터화 </span> 진행"
   ]
  },
  {
   "cell_type": "markdown",
   "id": "fa00b91e",
   "metadata": {},
   "source": [
    "#### Name"
   ]
  },
  {
   "cell_type": "code",
   "execution_count": 55,
   "id": "799f2901",
   "metadata": {},
   "outputs": [
    {
     "data": {
      "text/plain": [
       "1225273"
      ]
     },
     "execution_count": 55,
     "metadata": {},
     "output_type": "execute_result"
    }
   ],
   "source": [
    "train_df['name'].nunique()"
   ]
  },
  {
   "cell_type": "markdown",
   "id": "6af8a807",
   "metadata": {},
   "source": [
    "- 범주형자료이긴 하나, 전체 상품명이 1,225,273개나 될만큼 많이 존재함\n",
    "- 따라서 원-핫 인코딩이 아닌 <span style = 'background-color: #f1f8ff'>Count 기반 텍스트 벡터화</span> 하겠음"
   ]
  },
  {
   "cell_type": "code",
   "execution_count": 61,
   "id": "4cd26330",
   "metadata": {},
   "outputs": [],
   "source": [
    "from sklearn.feature_extraction.text import CountVectorizer, TfidfVectorizer"
   ]
  },
  {
   "cell_type": "code",
   "execution_count": 62,
   "id": "62c295f2",
   "metadata": {},
   "outputs": [],
   "source": [
    "count_vect = CountVectorizer()\n",
    "name = count_vect.fit_transform(train_df['name'])\n",
    "\n",
    "\n",
    "tfidf_vect = TfidfVectorizer(max_features = 50000, ngram_range = (1,3), stop_words = 'english')\n",
    "description = tfidf_vect.fit_transform(train_df['item_description'])"
   ]
  },
  {
   "cell_type": "code",
   "execution_count": 63,
   "id": "55e5cd92",
   "metadata": {},
   "outputs": [
    {
     "data": {
      "text/plain": [
       "((1482535, 105757), (1482535, 50000))"
      ]
     },
     "execution_count": 63,
     "metadata": {},
     "output_type": "execute_result"
    }
   ],
   "source": [
    "name.shape, description.shape"
   ]
  },
  {
   "cell_type": "markdown",
   "id": "632feb72",
   "metadata": {},
   "source": [
    "- 피처벡터화된 행렬은 <span style = 'background-color: #ffdce0'>희소행렬</span> 상태"
   ]
  },
  {
   "cell_type": "markdown",
   "id": "6eb80f9f",
   "metadata": {},
   "source": [
    "## 원핫 인코딩"
   ]
  },
  {
   "cell_type": "markdown",
   "id": "f129a717",
   "metadata": {},
   "source": [
    "####  Brand Name"
   ]
  },
  {
   "cell_type": "code",
   "execution_count": 56,
   "id": "8b54cf57",
   "metadata": {},
   "outputs": [
    {
     "data": {
      "text/plain": [
       "4810"
      ]
     },
     "execution_count": 56,
     "metadata": {},
     "output_type": "execute_result"
    }
   ],
   "source": [
    "train_df['brand_name'].nunique()"
   ]
  },
  {
   "cell_type": "markdown",
   "id": "9bdb125d",
   "metadata": {},
   "source": [
    "- 범주형 자료이고, 전체 브랜드 이름이 4810여개 됨\n",
    "- 원핫인코딩을하기에 너무 많아보이지만, 이 실습 예제에서 ML 모델 구축 상 문제가 없다고 함\n",
    "- 따라서, <span style = 'background-color: #f1f8ff'>원- 핫 인코딩</span> 진행"
   ]
  },
  {
   "cell_type": "markdown",
   "id": "038250ac",
   "metadata": {},
   "source": [
    "#### 카테고리 대, 중, 소"
   ]
  },
  {
   "cell_type": "code",
   "execution_count": 57,
   "id": "29f04fdb",
   "metadata": {},
   "outputs": [
    {
     "data": {
      "text/plain": [
       "(871, 11, 114)"
      ]
     },
     "execution_count": 57,
     "metadata": {},
     "output_type": "execute_result"
    }
   ],
   "source": [
    "train_df['cat_so'].nunique(), train_df['cat_dae'].nunique(), train_df['cat_joong'].nunique()"
   ]
  },
  {
   "cell_type": "markdown",
   "id": "37fd35f1",
   "metadata": {},
   "source": [
    "- <span style = 'background-color: #f1f8ff'>원- 핫 인코딩</span> 진행"
   ]
  },
  {
   "cell_type": "markdown",
   "id": "ec398c57",
   "metadata": {},
   "source": [
    "#### Shipping"
   ]
  },
  {
   "cell_type": "code",
   "execution_count": 58,
   "id": "c1f6fadb",
   "metadata": {},
   "outputs": [
    {
     "data": {
      "text/plain": [
       "2"
      ]
     },
     "execution_count": 58,
     "metadata": {},
     "output_type": "execute_result"
    }
   ],
   "source": [
    "train_df['shipping'].nunique()"
   ]
  },
  {
   "cell_type": "markdown",
   "id": "5daaaf36",
   "metadata": {},
   "source": [
    "- <span style = 'background-color: #f1f8ff'>원- 핫 인코딩</span> 진행"
   ]
  },
  {
   "cell_type": "markdown",
   "id": "801368e4",
   "metadata": {},
   "source": [
    "#### Item Condition"
   ]
  },
  {
   "cell_type": "code",
   "execution_count": 59,
   "id": "a03dabab",
   "metadata": {},
   "outputs": [
    {
     "data": {
      "text/plain": [
       "5"
      ]
     },
     "execution_count": 59,
     "metadata": {},
     "output_type": "execute_result"
    }
   ],
   "source": [
    "train_df['item_condition_id'].nunique()"
   ]
  },
  {
   "cell_type": "markdown",
   "id": "1ed3e417",
   "metadata": {},
   "source": [
    "- <span style = 'background-color: #f1f8ff'>원- 핫 인코딩</span> 진행"
   ]
  },
  {
   "cell_type": "markdown",
   "id": "8d00bdc7",
   "metadata": {},
   "source": [
    "- 텍스트 컬럼을 벡터화하면 희소행렬로 변환됨\n",
    "- 인코딩될 카테고리 대, 중, 소, 아이템품질, 배송무료여부, 브랜드 이름도 모두 피처 벡터화된 행렬과 결합되어 ML 모델을 실행하는 데이터셋으로 재구성되어야 함\n",
    "<br>\n",
    "- 따라서,<span style = 'background-color: #ffdce0'>원핫인코딩될 컬럼들을 밀집행렬 형태가 아니라, 희소행렬 형태로 인코딩을 적용한 뒤 결합</span>하도록 함!\n",
    "\n",
    "- <span style = 'background-color: #ffdce0'><b>원핫인코딩에는 OneHotEncoder의 LabelBinarizer 클래스를 활용 </b>\n",
    "    - <b>sparse_output = True로 파라미터 설정</b>해주면 됨</span>\n",
    "    - sparse_output = False로 했더니 메모리 에러났음ㅎㅎ"
   ]
  },
  {
   "cell_type": "code",
   "execution_count": 65,
   "id": "bfc11d31",
   "metadata": {},
   "outputs": [],
   "source": [
    "from sklearn.preprocessing import LabelBinarizer"
   ]
  },
  {
   "cell_type": "code",
   "execution_count": 67,
   "id": "1897a9ed",
   "metadata": {},
   "outputs": [],
   "source": [
    "# 브랜드이름\n",
    "lb_brand_name = LabelBinarizer(sparse_output = True)\n",
    "brand_name = lb_brand_name.fit_transform(train_df['brand_name'])\n",
    "\n",
    "# 아이템 품질\n",
    "lb_item_condition_id = LabelBinarizer(sparse_output = True)\n",
    "item_condition_id = lb_item_condition_id.fit_transform(train_df['item_condition_id'])\n",
    "\n",
    "# 무료배송 여부\n",
    "lb_shipping = LabelBinarizer(sparse_output = True)\n",
    "shipping = lb_shipping.fit_transform(train_df['shipping'])\n",
    "\n",
    "\n",
    "# 카테고리\n",
    "lb_cat_dae = LabelBinarizer(sparse_output = True)\n",
    "cat_dae = lb_cat_dae.fit_transform(train_df['cat_dae'])\n",
    "\n",
    "lb_cat_joong = LabelBinarizer(sparse_output = True)\n",
    "cat_joong = lb_cat_joong.fit_transform(train_df['cat_joong'])\n",
    "\n",
    "lb_cat_so = LabelBinarizer(sparse_output = True)\n",
    "cat_so = lb_cat_so.fit_transform(train_df['cat_so'])  "
   ]
  },
  {
   "cell_type": "code",
   "execution_count": 71,
   "id": "896d66a9",
   "metadata": {},
   "outputs": [
    {
     "data": {
      "text/plain": [
       "(1482535, 4810)"
      ]
     },
     "execution_count": 71,
     "metadata": {},
     "output_type": "execute_result"
    }
   ],
   "source": [
    "brand_name.shape"
   ]
  },
  {
   "cell_type": "code",
   "execution_count": 72,
   "id": "5883811e",
   "metadata": {},
   "outputs": [],
   "source": [
    "from scipy.sparse import hstack\n",
    "import gc"
   ]
  },
  {
   "cell_type": "code",
   "execution_count": 74,
   "id": "2301592a",
   "metadata": {},
   "outputs": [
    {
     "name": "stdout",
     "output_type": "stream",
     "text": [
      "<class 'scipy.sparse.csr.csr_matrix'> (1482535, 161569)\n"
     ]
    },
    {
     "data": {
      "text/plain": [
       "3618"
      ]
     },
     "execution_count": 74,
     "metadata": {},
     "output_type": "execute_result"
    }
   ],
   "source": [
    "# 변환된 컬럼 합치기\n",
    "\n",
    "sparse_matrix_list = (name, description,\n",
    "                      brand_name, item_condition_id, shipping, \n",
    "                      cat_dae, cat_joong, cat_so)\n",
    "\n",
    "X_features_sparse = hstack(sparse_matrix_list).tocsr()\n",
    "\n",
    "# csr 형식의 희소행렬임\n",
    "print(type(X_features_sparse), X_features_sparse.shape)\n",
    "\n",
    "\n",
    "# 결합 데이터는 많은 용량을 차지하고, 모델에 데이터셋을 적용할 때 다양한 조합으로 적용할 예정\n",
    "# 이므로 삭제하도록함.\n",
    "del X_features_sparse\n",
    "gc.collect()"
   ]
  },
  {
   "cell_type": "markdown",
   "id": "010db2ec",
   "metadata": {},
   "source": [
    "### 릿지 회귀모델 구축 및 평가\n",
    "- 모델 평가는 rmsle(Root Mean Square Logarithmic Error)방식으로 진행\n",
    "    - RMSLE는 RMSE와 유사하나 오류 값에 로그를 취해 RMSE를 구하는 방식임\n",
    "    - 낮은 가격보다 높은 가격에서 오류가 발생할 경우 오류값이 더 커지는 것을 억제하기 위해 도입함\n",
    "    \n",
    "- 주의할 점은, PRICE 데이터의 왜곡이 심해서 로그변환을 시켰다는 점임.\n",
    "- 예측도 로그변환된 형태로 나오기 때문에 지수로 역변환하는 과정이 필요함"
   ]
  },
  {
   "cell_type": "code",
   "execution_count": 103,
   "id": "656bc821",
   "metadata": {},
   "outputs": [],
   "source": [
    "def rmsle(y, y_pred):\n",
    "    return np.sqrt(np.mean(np.power(np.log1p(y) - np.log1p(y_pred),2)))\n",
    "\n",
    "def evaluate_org_price(y_test, preds):\n",
    "    preds_exmpm = np.expm1(preds)\n",
    "    y_test_exmpm = np.expm1(y_test)\n",
    "    \n",
    "    rmsle_result = rmsle(y_test_exmpm, preds_exmpm)\n",
    "    return rmsle_result"
   ]
  },
  {
   "cell_type": "code",
   "execution_count": 104,
   "id": "bcb5cd2f",
   "metadata": {},
   "outputs": [],
   "source": [
    "import gc\n",
    "from scipy.sparse import hstack\n",
    "from sklearn.model_selection import train_test_split"
   ]
  },
  {
   "cell_type": "code",
   "execution_count": 105,
   "id": "a8344615",
   "metadata": {},
   "outputs": [],
   "source": [
    "def model_train_predict(model, matrix_list):\n",
    "    X = hstack(matrix_list).tocsr()\n",
    "    \n",
    "    X_train, X_test, y_train, y_test = train_test_split(X, train_df['price'],\n",
    "                                                        test_size = 0.2,\n",
    "                                                        random_state = 156)\n",
    "    \n",
    "    model.fit(X_train, y_train)\n",
    "    \n",
    "    preds = model.predict(X_test)\n",
    "    \n",
    "    del X, X_train, y_train, X_test,\n",
    "    gc.collect()\n",
    "    \n",
    "    return preds, y_test"
   ]
  },
  {
   "cell_type": "code",
   "execution_count": 106,
   "id": "6d4b597b",
   "metadata": {},
   "outputs": [],
   "source": [
    "from sklearn.linear_model import Ridge"
   ]
  },
  {
   "cell_type": "code",
   "execution_count": 109,
   "id": "3a2f6a7b",
   "metadata": {},
   "outputs": [
    {
     "name": "stdout",
     "output_type": "stream",
     "text": [
      "0.5017095679031606\n",
      "0.4712217018820502\n"
     ]
    }
   ],
   "source": [
    "# description을 포함하지 않았을 때\n",
    "ridge = Ridge(solver = 'lsqr', fit_intercept = False)\n",
    "\n",
    "sparse_matrix_list = (name,\n",
    "                      brand_name, item_condition_id, shipping, \n",
    "                      cat_dae, cat_joong, cat_so)\n",
    "\n",
    "preds, y_test = model_train_predict(ridge, sparse_matrix_list)\n",
    "print(evaluate_org_price(y_test, preds))\n",
    "\n",
    "\n",
    "# description을 포함했을 때\n",
    "ridge = Ridge(solver = 'lsqr', fit_intercept = False)\n",
    "\n",
    "sparse_matrix_list = (name, description,\n",
    "                      brand_name, item_condition_id, shipping, \n",
    "                      cat_dae, cat_joong, cat_so)\n",
    "\n",
    "preds, y_test = model_train_predict(ridge, sparse_matrix_list)\n",
    "print(evaluate_org_price(y_test, preds))"
   ]
  },
  {
   "cell_type": "markdown",
   "id": "53ce7a88",
   "metadata": {},
   "source": [
    "### LightGBM 회귀모델 구축과 앙상블"
   ]
  },
  {
   "cell_type": "code",
   "execution_count": 114,
   "id": "9b490c14",
   "metadata": {},
   "outputs": [
    {
     "name": "stdout",
     "output_type": "stream",
     "text": [
      "0.48292474583971523\n"
     ]
    }
   ],
   "source": [
    "from lightgbm import LGBMRegressor\n",
    "\n",
    "lgbm_model = LGBMRegressor(n_estimators = 300, \n",
    "                           learning_rate = 0.05, \n",
    "                           num_leaves = 125,\n",
    "                           random_state = 156)\n",
    "\n",
    "sparse_matrix_list = (name, description,\n",
    "                      brand_name, item_condition_id, shipping, \n",
    "                      cat_dae, cat_joong, cat_so)\n",
    "\n",
    "lgbm_preds, lgbm_y_test = model_train_predict(lgbm_model, sparse_matrix_list)\n",
    "print(evaluate_org_price(lgbm_preds, lgbm_y_test))"
   ]
  },
  {
   "cell_type": "code",
   "execution_count": 115,
   "id": "c6d9186e",
   "metadata": {},
   "outputs": [
    {
     "name": "stdout",
     "output_type": "stream",
     "text": [
      "0.4621422193230805\n"
     ]
    }
   ],
   "source": [
    "preds_ensemble = 0.45 * lgbm_preds + 0.55 * preds\n",
    "\n",
    "print(evaluate_org_price(y_test, preds_ensemble))"
   ]
  }
 ],
 "metadata": {
  "kernelspec": {
   "display_name": "Python 3 (ipykernel)",
   "language": "python",
   "name": "python3"
  },
  "language_info": {
   "codemirror_mode": {
    "name": "ipython",
    "version": 3
   },
   "file_extension": ".py",
   "mimetype": "text/x-python",
   "name": "python",
   "nbconvert_exporter": "python",
   "pygments_lexer": "ipython3",
   "version": "3.8.13"
  },
  "toc": {
   "base_numbering": 1,
   "nav_menu": {},
   "number_sections": true,
   "sideBar": true,
   "skip_h1_title": false,
   "title_cell": "Table of Contents",
   "title_sidebar": "Contents",
   "toc_cell": false,
   "toc_position": {
    "height": "calc(100% - 180px)",
    "left": "10px",
    "top": "150px",
    "width": "205.95px"
   },
   "toc_section_display": true,
   "toc_window_display": true
  }
 },
 "nbformat": 4,
 "nbformat_minor": 5
}

{
 "cells": [
  {
   "cell_type": "markdown",
   "id": "9acb089e",
   "metadata": {},
   "source": [
    "# 텍스트 전처리"
   ]
  },
  {
   "cell_type": "code",
   "execution_count": 112,
   "id": "8e06ba37",
   "metadata": {},
   "outputs": [],
   "source": [
    "import nltk\n",
    "import warnings\n",
    "warnings.filterwarnings('ignore')"
   ]
  },
  {
   "cell_type": "markdown",
   "id": "ee78e53d",
   "metadata": {},
   "source": [
    "# 텍스트 정규화"
   ]
  },
  {
   "cell_type": "markdown",
   "id": "1d08ca1d",
   "metadata": {},
   "source": [
    "## 텍스트 토큰화"
   ]
  },
  {
   "cell_type": "markdown",
   "id": "aaa51492",
   "metadata": {},
   "source": [
    "### 문장 토큰화"
   ]
  },
  {
   "cell_type": "code",
   "execution_count": 12,
   "id": "8029dfad",
   "metadata": {},
   "outputs": [],
   "source": [
    "from nltk import sent_tokenize"
   ]
  },
  {
   "cell_type": "code",
   "execution_count": 113,
   "id": "37abfe54",
   "metadata": {},
   "outputs": [
    {
     "data": {
      "text/plain": [
       "['His barber kept his word.',\n",
       " 'But keeping such a huge secret to himself was driving him crazy.',\n",
       " 'Finally, the barber went up a mountain and almost to the edge of a cliff.',\n",
       " 'He dug a hole in the midst of some reeds.',\n",
       " 'He looked about, to mae sure no one was near.']"
      ]
     },
     "execution_count": 113,
     "metadata": {},
     "output_type": "execute_result"
    }
   ],
   "source": [
    "text = 'His barber kept his word. But keeping such a huge secret to himself was driving him crazy. Finally, the barber went up a mountain and almost to the edge of a cliff. He dug a hole in the midst of some reeds. He looked about, to mae sure no one was near.'\n",
    "\n",
    "sentence_li = sent_tokenize(text)\n",
    "sentence_li"
   ]
  },
  {
   "cell_type": "code",
   "execution_count": 6,
   "id": "dc058d9e",
   "metadata": {
    "collapsed": true
   },
   "outputs": [
    {
     "name": "stdout",
     "output_type": "stream",
     "text": [
      "Collecting kss\n",
      "  Downloading kss-4.4.0.tar.gz (73 kB)\n",
      "Collecting emoji==1.2.0\n",
      "  Downloading emoji-1.2.0-py3-none-any.whl (131 kB)\n",
      "Requirement already satisfied: regex in c:\\users\\new\\anaconda3\\envs\\cakd7\\lib\\site-packages (from kss) (2022.9.13)\n",
      "Collecting pecab\n",
      "  Downloading pecab-1.0.8.tar.gz (26.4 MB)\n",
      "Requirement already satisfied: networkx in c:\\users\\new\\appdata\\roaming\\python\\python38\\site-packages (from kss) (2.8.7)\n",
      "Requirement already satisfied: numpy in c:\\users\\new\\appdata\\roaming\\python\\python38\\site-packages (from pecab->kss) (1.19.5)\n",
      "Collecting pyarrow\n",
      "  Downloading pyarrow-10.0.1-cp38-cp38-win_amd64.whl (20.3 MB)\n",
      "Collecting pytest\n",
      "  Downloading pytest-7.2.1-py3-none-any.whl (317 kB)\n",
      "Requirement already satisfied: colorama in c:\\users\\new\\anaconda3\\envs\\cakd7\\lib\\site-packages (from pytest->pecab->kss) (0.4.4)\n",
      "Collecting exceptiongroup>=1.0.0rc8\n",
      "  Downloading exceptiongroup-1.1.0-py3-none-any.whl (14 kB)\n",
      "Collecting iniconfig\n",
      "  Downloading iniconfig-2.0.0-py3-none-any.whl (5.9 kB)\n",
      "Requirement already satisfied: attrs>=19.2.0 in c:\\users\\new\\anaconda3\\envs\\cakd7\\lib\\site-packages (from pytest->pecab->kss) (21.4.0)\n",
      "Requirement already satisfied: packaging in c:\\users\\new\\anaconda3\\envs\\cakd7\\lib\\site-packages (from pytest->pecab->kss) (21.3)\n",
      "Collecting tomli>=1.0.0\n",
      "  Downloading tomli-2.0.1-py3-none-any.whl (12 kB)\n",
      "Collecting pluggy<2.0,>=0.12\n",
      "  Downloading pluggy-1.0.0-py2.py3-none-any.whl (13 kB)\n",
      "Requirement already satisfied: pyparsing!=3.0.5,>=2.0.2 in c:\\users\\new\\anaconda3\\envs\\cakd7\\lib\\site-packages (from packaging->pytest->pecab->kss) (3.0.4)\n",
      "Building wheels for collected packages: kss, pecab\n",
      "  Building wheel for kss (setup.py): started\n",
      "  Building wheel for kss (setup.py): finished with status 'done'\n",
      "  Created wheel for kss: filename=kss-4.4.0-py3-none-any.whl size=50762 sha256=2aa7bdb9db3b4fe80924bbb009e26f37fbb49cb1f407399f20a5c74c8115614d\n",
      "  Stored in directory: c:\\users\\new\\appdata\\local\\pip\\cache\\wheels\\9a\\37\\ef\\2b007670d374e379be38ed12533c286265af44944a8b6b95d3\n",
      "  Building wheel for pecab (setup.py): started\n",
      "  Building wheel for pecab (setup.py): finished with status 'done'\n",
      "  Created wheel for pecab: filename=pecab-1.0.8-py3-none-any.whl size=26646665 sha256=efe47208c215598e25d9053d7a193c4d6474426734f2c2c05b563992849b088d\n",
      "  Stored in directory: c:\\users\\new\\appdata\\local\\pip\\cache\\wheels\\a9\\98\\a3\\085a909aa25805f321467a3af3b80d43b6094ed335b4818775\n",
      "Successfully built kss pecab\n",
      "Installing collected packages: tomli, pluggy, iniconfig, exceptiongroup, pytest, pyarrow, emoji, pecab, kss\n",
      "Successfully installed emoji-1.2.0 exceptiongroup-1.1.0 iniconfig-2.0.0 kss-4.4.0 pecab-1.0.8 pluggy-1.0.0 pyarrow-10.0.1 pytest-7.2.1 tomli-2.0.1\n"
     ]
    }
   ],
   "source": [
    "# !pip install kss"
   ]
  },
  {
   "cell_type": "code",
   "execution_count": 14,
   "id": "ed34a917",
   "metadata": {},
   "outputs": [],
   "source": [
    "from kss import split_sentences"
   ]
  },
  {
   "cell_type": "code",
   "execution_count": 17,
   "id": "f5fec305",
   "metadata": {},
   "outputs": [
    {
     "data": {
      "text/plain": [
       "['His barber kept his word.',\n",
       " 'But keeping such a huge secret to himself was driving him crazy.',\n",
       " 'Finally, the barber went up a mountain and almost to the edge of a cliff.',\n",
       " 'He dug a hole in the midst of some reeds.',\n",
       " 'He looked about, to mae sure no one was near.']"
      ]
     },
     "execution_count": 17,
     "metadata": {},
     "output_type": "execute_result"
    }
   ],
   "source": [
    "text_ko = \"딥러닝 자연어 처리가 재미있기는 합니다. 그런데 문제는 영어보다 한국어로 할 때 너무 어려워요. 농담 아니에요. 이제 해보면 알걸요?\"\n",
    "\n",
    "sentence_ko = split_sentences(text)\n",
    "sentence_ko"
   ]
  },
  {
   "cell_type": "markdown",
   "id": "2675cce7",
   "metadata": {},
   "source": [
    "### 단어 토큰화"
   ]
  },
  {
   "cell_type": "code",
   "execution_count": 18,
   "id": "9d304b0b",
   "metadata": {},
   "outputs": [],
   "source": [
    "from nltk import word_tokenize"
   ]
  },
  {
   "cell_type": "code",
   "execution_count": 19,
   "id": "1fd0ee99",
   "metadata": {},
   "outputs": [
    {
     "name": "stdout",
     "output_type": "stream",
     "text": [
      "[['His', 'barber', 'kept', 'his', 'word', '.'], ['But', 'keeping', 'such', 'a', 'huge', 'secret', 'to', 'himself', 'was', 'driving', 'him', 'crazy', '.'], ['Finally', ',', 'the', 'barber', 'went', 'up', 'a', 'mountain', 'and', 'almost', 'to', 'the', 'edge', 'of', 'a', 'cliff', '.'], ['He', 'dug', 'a', 'hole', 'in', 'the', 'midst', 'of', 'some', 'reeds', '.'], ['He', 'looked', 'about', ',', 'to', 'mae', 'sure', 'no', 'one', 'was', 'near', '.']]\n"
     ]
    }
   ],
   "source": [
    "words = []\n",
    "for sentence in sentence_li:\n",
    "    words.append(word_tokenize(sentence))\n",
    "\n",
    "print(words)"
   ]
  },
  {
   "cell_type": "markdown",
   "id": "873622ee",
   "metadata": {},
   "source": [
    "#### 문장, 단어 토큰화 사용자함수 생성"
   ]
  },
  {
   "cell_type": "code",
   "execution_count": 114,
   "id": "e3344283",
   "metadata": {},
   "outputs": [],
   "source": [
    "def tokenize(text, sent_sep = True):\n",
    "    # 문장 -> 단어 토큰화\n",
    "    sentences = sent_tokenize(text)\n",
    "    \n",
    "    # 단어 토큰화\n",
    "    words = []\n",
    "    for sentence in sentences:\n",
    "        if sent_sep:\n",
    "            words.append(word_tokenize(sentence))\n",
    "        else:\n",
    "            for word in word_tokenize(sentence):\n",
    "                words.append(word)\n",
    "    \n",
    "    return words"
   ]
  },
  {
   "cell_type": "code",
   "execution_count": 21,
   "id": "78f13c2a",
   "metadata": {
    "scrolled": true
   },
   "outputs": [
    {
     "name": "stdout",
     "output_type": "stream",
     "text": [
      "[['His', 'barber', 'kept', 'his', 'word', '.'], ['But', 'keeping', 'such', 'a', 'huge', 'secret', 'to', 'himself', 'was', 'driving', 'him', 'crazy', '.'], ['Finally', ',', 'the', 'barber', 'went', 'up', 'a', 'mountain', 'and', 'almost', 'to', 'the', 'edge', 'of', 'a', 'cliff', '.'], ['He', 'dug', 'a', 'hole', 'in', 'the', 'midst', 'of', 'some', 'reeds', '.'], ['He', 'looked', 'about', ',', 'to', 'mae', 'sure', 'no', 'one', 'was', 'near', '.']]\n"
     ]
    }
   ],
   "source": [
    "print(tokenize(text))"
   ]
  },
  {
   "cell_type": "code",
   "execution_count": 22,
   "id": "b3718c8f",
   "metadata": {},
   "outputs": [
    {
     "name": "stdout",
     "output_type": "stream",
     "text": [
      "[['딥러닝', '자연어', '처리가', '재미있기는', '합니다', '.'], ['그런데', '문제는', '영어보다', '한국어로', '할', '때', '너무', '어려워요', '.'], ['농담', '아니에요', '.'], ['이제', '해보면', '알걸요', '?']]\n"
     ]
    }
   ],
   "source": [
    "print(tokenize(text_ko))"
   ]
  },
  {
   "cell_type": "markdown",
   "id": "d8192553",
   "metadata": {},
   "source": [
    "### 단어 토큰화된 리스트에서 단어를 순서대로 n개씩 묶기\n",
    "- 리스트 형식으로 되어 있어야 함"
   ]
  },
  {
   "cell_type": "code",
   "execution_count": 41,
   "id": "afbe0408",
   "metadata": {},
   "outputs": [],
   "source": [
    "from nltk.util import ngrams, bigrams"
   ]
  },
  {
   "cell_type": "code",
   "execution_count": 52,
   "id": "098e60f2",
   "metadata": {},
   "outputs": [
    {
     "name": "stdout",
     "output_type": "stream",
     "text": [
      "[('His', 'barber', 'kept'), ('barber', 'kept', 'his'), ('kept', 'his', 'word'), ('his', 'word', '.'), ('word', '.', 'But'), ('.', 'But', 'keeping'), ('But', 'keeping', 'such'), ('keeping', 'such', 'a'), ('such', 'a', 'huge'), ('a', 'huge', 'secret'), ('huge', 'secret', 'to'), ('secret', 'to', 'himself'), ('to', 'himself', 'was'), ('himself', 'was', 'driving'), ('was', 'driving', 'him'), ('driving', 'him', 'crazy'), ('him', 'crazy', '.'), ('crazy', '.', 'Finally'), ('.', 'Finally', ','), ('Finally', ',', 'the'), (',', 'the', 'barber'), ('the', 'barber', 'went'), ('barber', 'went', 'up'), ('went', 'up', 'a'), ('up', 'a', 'mountain'), ('a', 'mountain', 'and'), ('mountain', 'and', 'almost'), ('and', 'almost', 'to'), ('almost', 'to', 'the'), ('to', 'the', 'edge'), ('the', 'edge', 'of'), ('edge', 'of', 'a'), ('of', 'a', 'cliff'), ('a', 'cliff', '.'), ('cliff', '.', 'He'), ('.', 'He', 'dug'), ('He', 'dug', 'a'), ('dug', 'a', 'hole'), ('a', 'hole', 'in'), ('hole', 'in', 'the'), ('in', 'the', 'midst'), ('the', 'midst', 'of'), ('midst', 'of', 'some'), ('of', 'some', 'reeds'), ('some', 'reeds', '.'), ('reeds', '.', 'He'), ('.', 'He', 'looked'), ('He', 'looked', 'about'), ('looked', 'about', ','), ('about', ',', 'to'), (',', 'to', 'mae'), ('to', 'mae', 'sure'), ('mae', 'sure', 'no'), ('sure', 'no', 'one'), ('no', 'one', 'was'), ('one', 'was', 'near'), ('was', 'near', '.')]\n",
      "[('His', 'barber'), ('barber', 'kept'), ('kept', 'his'), ('his', 'word'), ('word', '.'), ('.', 'But'), ('But', 'keeping'), ('keeping', 'such'), ('such', 'a'), ('a', 'huge'), ('huge', 'secret'), ('secret', 'to'), ('to', 'himself'), ('himself', 'was'), ('was', 'driving'), ('driving', 'him'), ('him', 'crazy'), ('crazy', '.'), ('.', 'Finally'), ('Finally', ','), (',', 'the'), ('the', 'barber'), ('barber', 'went'), ('went', 'up'), ('up', 'a'), ('a', 'mountain'), ('mountain', 'and'), ('and', 'almost'), ('almost', 'to'), ('to', 'the'), ('the', 'edge'), ('edge', 'of'), ('of', 'a'), ('a', 'cliff'), ('cliff', '.'), ('.', 'He'), ('He', 'dug'), ('dug', 'a'), ('a', 'hole'), ('hole', 'in'), ('in', 'the'), ('the', 'midst'), ('midst', 'of'), ('of', 'some'), ('some', 'reeds'), ('reeds', '.'), ('.', 'He'), ('He', 'looked'), ('looked', 'about'), ('about', ','), (',', 'to'), ('to', 'mae'), ('mae', 'sure'), ('sure', 'no'), ('no', 'one'), ('one', 'was'), ('was', 'near'), ('near', '.')]\n"
     ]
    }
   ],
   "source": [
    "words = tokenize(text, sent_sep = False)\n",
    "\n",
    "# ngram\n",
    "print(list(ngrams(words, 3)))\n",
    "\n",
    "# bigram\n",
    "print(list(bigrams(words)))"
   ]
  },
  {
   "cell_type": "markdown",
   "id": "0fe201a8",
   "metadata": {},
   "source": [
    "### 품사 태깅"
   ]
  },
  {
   "cell_type": "code",
   "execution_count": 24,
   "id": "f8e9ad1b",
   "metadata": {},
   "outputs": [],
   "source": [
    "from nltk.tag import pos_tag"
   ]
  },
  {
   "cell_type": "code",
   "execution_count": 25,
   "id": "58057456",
   "metadata": {},
   "outputs": [
    {
     "name": "stdout",
     "output_type": "stream",
     "text": [
      "[[('His', 'PRP$'), ('barber', 'NN'), ('kept', 'VBD'), ('his', 'PRP$'), ('word', 'NN'), ('.', '.')], [('But', 'CC'), ('keeping', 'VBG'), ('such', 'JJ'), ('a', 'DT'), ('huge', 'JJ'), ('secret', 'NN'), ('to', 'TO'), ('himself', 'PRP'), ('was', 'VBD'), ('driving', 'VBG'), ('him', 'PRP'), ('crazy', 'JJ'), ('.', '.')], [('Finally', 'RB'), (',', ','), ('the', 'DT'), ('barber', 'NN'), ('went', 'VBD'), ('up', 'RP'), ('a', 'DT'), ('mountain', 'NN'), ('and', 'CC'), ('almost', 'RB'), ('to', 'TO'), ('the', 'DT'), ('edge', 'NN'), ('of', 'IN'), ('a', 'DT'), ('cliff', 'NN'), ('.', '.')], [('He', 'PRP'), ('dug', 'VBD'), ('a', 'DT'), ('hole', 'NN'), ('in', 'IN'), ('the', 'DT'), ('midst', 'NN'), ('of', 'IN'), ('some', 'DT'), ('reeds', 'NNS'), ('.', '.')], [('He', 'PRP'), ('looked', 'VBD'), ('about', 'RB'), (',', ','), ('to', 'TO'), ('mae', 'VB'), ('sure', 'JJ'), ('no', 'DT'), ('one', 'NN'), ('was', 'VBD'), ('near', 'IN'), ('.', '.')]]\n"
     ]
    }
   ],
   "source": [
    "words = tokenize(text, sent_sep = True)\n",
    "\n",
    "tags = []\n",
    "for word in words:\n",
    "    tags.append(pos_tag(word))\n",
    "    \n",
    "print(tags)"
   ]
  },
  {
   "cell_type": "markdown",
   "id": "fbd56e36",
   "metadata": {},
   "source": [
    "#### okt"
   ]
  },
  {
   "cell_type": "code",
   "execution_count": 26,
   "id": "0fe936b5",
   "metadata": {},
   "outputs": [],
   "source": [
    "import konlpy\n",
    "from konlpy.tag import Okt"
   ]
  },
  {
   "cell_type": "code",
   "execution_count": 28,
   "id": "f91e61c4",
   "metadata": {
    "scrolled": true
   },
   "outputs": [
    {
     "name": "stdout",
     "output_type": "stream",
     "text": [
      "딥러닝 자연어 처리가 재미있기는 합니다. 그런데 문제는 영어보다 한국어로 할 때 너무 어려워요. 농담 아니에요. 이제 해보면 알걸요?\n",
      "[('딥', 'Noun'), ('러닝', 'Noun'), ('자연어', 'Noun'), ('처리', 'Noun'), ('가', 'Josa'), ('재미있기는', 'Adjective'), ('합니다', 'Verb'), ('.', 'Punctuation'), ('그런데', 'Conjunction'), ('문제', 'Noun'), ('는', 'Josa'), ('영어', 'Noun'), ('보다', 'Josa'), ('한국어', 'Noun'), ('로', 'Josa'), ('할', 'Verb'), ('때', 'Noun'), ('너무', 'Adverb'), ('어려워요', 'Adjective'), ('.', 'Punctuation'), ('농담', 'Noun'), ('아니에요', 'Adjective'), ('.', 'Punctuation'), ('이제', 'Noun'), ('해보면', 'Verb'), ('알걸', 'Noun'), ('요', 'Josa'), ('?', 'Punctuation')]\n"
     ]
    }
   ],
   "source": [
    "okt = Okt()\n",
    "\n",
    "# 품사 태깅\n",
    "tags_ko =okt.pos(text_ko)\n",
    "\n",
    "print(text_ko)\n",
    "print(tags_ko)"
   ]
  },
  {
   "cell_type": "code",
   "execution_count": 33,
   "id": "8d6ca0e0",
   "metadata": {
    "scrolled": true
   },
   "outputs": [
    {
     "name": "stdout",
     "output_type": "stream",
     "text": [
      "['딥', '러닝', '자연어', '처리', '가', '재미있기는', '합니다', '.', '그런데', '문제', '는', '영어', '보다', '한국어', '로', '할', '때', '너무', '어려워요', '.', '농담', '아니에요', '.', '이제', '해보면', '알걸', '요', '?']\n",
      "['딥', '러닝', '자연어', '처리', '가', '재미있기는', '합니다', '.', '그런데', '문제', '는', '영어', '보다', '한국어', '로', '할', '때', '너무', '어려워요', '.', '농담', '아니에요', '.', '이제', '해보면', '알걸', '요', '?']\n",
      "['딥', '러닝', '자연어', '처리', '가', '재미있다', '하다', '.', '그런데', '문제', '는', '영어', '보다', '한국어', '로', '하다', '때', '너무', '어렵다', '.', '농담', '아니다', '.', '이제', '해보다', '알걸', '요', '?']\n",
      "['딥', '러닝', '자연어', '처리', '가', '재미있다', '하다', '.', '그런데', '문제', '는', '영어', '보다', '한국어', '로', '하다', '때', '너무', '어렵다', '.', '농담', '아니다', '.', '이제', '해보다', '알걸', '요', '?']\n"
     ]
    }
   ],
   "source": [
    "# 텍스트를 형태소 단위로 나누기\n",
    "morph = okt.morphs(text_ko)\n",
    "print(morph)\n",
    "\n",
    "morph_norm = okt.morphs(text_ko, norm = True)\n",
    "print(morph_norm)\n",
    "\n",
    "morph_stem = okt.morphs(text_ko, stem = True)\n",
    "print(morph_stem)\n",
    "\n",
    "morph_all = okt.morphs(text_ko, norm = True, stem = True)\n",
    "print(morph_all)"
   ]
  },
  {
   "cell_type": "code",
   "execution_count": 34,
   "id": "051abfee",
   "metadata": {},
   "outputs": [
    {
     "name": "stdout",
     "output_type": "stream",
     "text": [
      "['딥', '러닝', '자연어', '처리', '문제', '영어', '한국어', '때', '농담', '이제', '알걸']\n"
     ]
    }
   ],
   "source": [
    "# 명사만 뽑아내기\n",
    "nouns = okt.nouns(text_ko)\n",
    "print(nouns)"
   ]
  },
  {
   "cell_type": "code",
   "execution_count": 36,
   "id": "ed734c69",
   "metadata": {
    "scrolled": true
   },
   "outputs": [
    {
     "name": "stdout",
     "output_type": "stream",
     "text": [
      "['딥러닝', '딥러닝 자연어', '딥러닝 자연어 처리', '문제', '영어', '한국어', '농담', '이제', '이제 해보면 알걸', '러닝', '자연어', '처리', '알걸']\n"
     ]
    }
   ],
   "source": [
    "# 어절 뽑아내기\n",
    "phrase = okt.phrases(text_ko)\n",
    "print(phrase)"
   ]
  },
  {
   "cell_type": "markdown",
   "id": "3f1b7d81",
   "metadata": {},
   "source": [
    "#### hannanum"
   ]
  },
  {
   "cell_type": "code",
   "execution_count": 53,
   "id": "1ab122ae",
   "metadata": {},
   "outputs": [],
   "source": [
    "from konlpy.tag import Hannanum"
   ]
  },
  {
   "cell_type": "code",
   "execution_count": 54,
   "id": "0518c303",
   "metadata": {},
   "outputs": [
    {
     "name": "stdout",
     "output_type": "stream",
     "text": [
      "[('딥러닝', 'N'), ('자연어', 'N'), ('처리', 'N'), ('가', 'J'), ('재미있', 'P'), ('기', 'E'), ('는', 'J'), ('하', 'P'), ('ㅂ니다', 'E'), ('.', 'S'), ('그런데', 'M'), ('문제', 'N'), ('는', 'J'), ('영어', 'N'), ('보다', 'J'), ('한국어', 'N'), ('로', 'J'), ('하', 'P'), ('ㄹ', 'E'), ('때', 'N'), ('너무', 'M'), ('어렵', 'P'), ('어', 'E'), ('요', 'J'), ('.', 'S'), ('농담', 'N'), ('아니', 'P'), ('에요', 'E'), ('.', 'S'), ('이제', 'M'), ('하', 'P'), ('어', 'E'), ('보', 'P'), ('면', 'E'), ('알걸요', 'N'), ('?', 'S')]\n"
     ]
    }
   ],
   "source": [
    "han = Hannanum()\n",
    "\n",
    "# 품사 태깅\n",
    "han_ko = han.pos(text_ko)\n",
    "print(han_ko)"
   ]
  },
  {
   "cell_type": "code",
   "execution_count": 55,
   "id": "c96ca6ea",
   "metadata": {},
   "outputs": [
    {
     "name": "stdout",
     "output_type": "stream",
     "text": [
      "['딥러닝', '자연어', '처리', '문제', '영어', '한국어', '때', '농담', '알걸요']\n"
     ]
    }
   ],
   "source": [
    "# 명사만 뽑아내기\n",
    "han_n = han.nouns(text_ko)\n",
    "print(han_n)"
   ]
  },
  {
   "cell_type": "code",
   "execution_count": 59,
   "id": "c71f4f90",
   "metadata": {},
   "outputs": [
    {
     "name": "stdout",
     "output_type": "stream",
     "text": [
      "['딥러닝', '자연어', '처리', '가', '재미있', '기', '는', '하', 'ㅂ니다', '.', '그런데', '문제', '는', '영어', '보다', '한국어', '로', '하', 'ㄹ', '때', '너무', '어렵', '어', '요', '.', '농담', '아니', '에요', '.', '이제', '하', '어', '보', '면', '알걸요', '?']\n"
     ]
    }
   ],
   "source": [
    "# 텍스트 형태소로 나누기\n",
    "han_morph = han.morphs(text_ko)\n",
    "print(han_morph)"
   ]
  },
  {
   "cell_type": "markdown",
   "id": "32bf790a",
   "metadata": {},
   "source": [
    "#### kkma"
   ]
  },
  {
   "cell_type": "code",
   "execution_count": 60,
   "id": "960e5a6e",
   "metadata": {},
   "outputs": [],
   "source": [
    "from konlpy.tag import Kkma"
   ]
  },
  {
   "cell_type": "code",
   "execution_count": 63,
   "id": "0d4c0e4e",
   "metadata": {},
   "outputs": [
    {
     "name": "stdout",
     "output_type": "stream",
     "text": [
      "['딥 러닝 자연어 처리가 재미있기는 합니다.', '그런 데 문제는 영어보다 한국어로 할 때 너무 어려워요.', '농담 아니에요.', '이제 해보면 알걸요?']\n",
      "딥러닝 자연어 처리가 재미있기는 합니다. 그런데 문제는 영어보다 한국어로 할 때 너무 어려워요. 농담 아니에요. 이제 해보면 알걸요?\n"
     ]
    }
   ],
   "source": [
    "kkm = Kkma()\n",
    "\n",
    "# 문장 나누기\n",
    "kkm_sentences = kkm.sentences(text_ko)\n",
    "print(kkm_sentences)\n",
    "  ## 잘보면, 띄어쓰기가 달라져 있다\n",
    "    \n",
    "print(text_ko)"
   ]
  },
  {
   "cell_type": "code",
   "execution_count": 64,
   "id": "bb5b0276",
   "metadata": {},
   "outputs": [
    {
     "name": "stdout",
     "output_type": "stream",
     "text": [
      "[('딥', 'NNG'), ('러닝', 'NNG'), ('자연어', 'NNG'), ('처리', 'NNG'), ('가', 'JKS'), ('재미있', 'VA'), ('기', 'ETN'), ('는', 'JX'), ('하', 'VV'), ('ㅂ니다', 'EFN'), ('.', 'SF'), ('그러', 'VV'), ('ㄴ', 'ETD'), ('데', 'NNB'), ('문제', 'NNG'), ('는', 'JX'), ('영어', 'NNG'), ('보다', 'JKM'), ('한국어', 'NNG'), ('로', 'JKM'), ('하', 'VV'), ('ㄹ', 'ETD'), ('때', 'NNG'), ('너무', 'MAG'), ('어렵', 'VA'), ('어요', 'EFN'), ('.', 'SF'), ('농담', 'NNG'), ('아니', 'VCN'), ('에요', 'EFN'), ('.', 'SF'), ('이제', 'MAG'), ('해보', 'VV'), ('면', 'ECE'), ('알', 'VV'), ('ㄹ걸요', 'EFN'), ('?', 'SF')]\n"
     ]
    }
   ],
   "source": [
    "# 품사태깅\n",
    "kkm_pos = kkm.pos(text_ko)\n",
    "print(kkm_pos)"
   ]
  },
  {
   "cell_type": "code",
   "execution_count": 66,
   "id": "fce161dd",
   "metadata": {},
   "outputs": [
    {
     "name": "stdout",
     "output_type": "stream",
     "text": [
      "['딥', '러닝', '자연어', '처리', '가', '재미있', '기', '는', '하', 'ㅂ니다', '.', '그러', 'ㄴ', '데', '문제', '는', '영어', '보다', '한국어', '로', '하', 'ㄹ', '때', '너무', '어렵', '어요', '.', '농담', '아니', '에요', '.', '이제', '해보', '면', '알', 'ㄹ걸요', '?']\n"
     ]
    }
   ],
   "source": [
    "# 텍스트를 형태소 단위로 나누기 \n",
    "kkm_morph = kkm.morphs(text_ko)\n",
    "print(kkm_morph)"
   ]
  },
  {
   "cell_type": "code",
   "execution_count": 67,
   "id": "26fe1da9",
   "metadata": {},
   "outputs": [
    {
     "name": "stdout",
     "output_type": "stream",
     "text": [
      "['딥', '딥러닝', '러닝', '자연어', '처리', '데', '문제', '영어', '한국어', '때', '농담']\n"
     ]
    }
   ],
   "source": [
    "# 명사 뽑아내기\n",
    "kkm_n = kkm.nouns(text_ko)\n",
    "print(kkm_n)"
   ]
  },
  {
   "cell_type": "markdown",
   "id": "57541ce0",
   "metadata": {},
   "source": [
    "## 스톱워드 제거"
   ]
  },
  {
   "cell_type": "code",
   "execution_count": 68,
   "id": "c59b95c3",
   "metadata": {},
   "outputs": [
    {
     "name": "stderr",
     "output_type": "stream",
     "text": [
      "[nltk_data] Downloading package stopwords to\n",
      "[nltk_data]     C:\\Users\\NEW\\AppData\\Roaming\\nltk_data...\n",
      "[nltk_data]   Package stopwords is already up-to-date!\n"
     ]
    },
    {
     "data": {
      "text/plain": [
       "True"
      ]
     },
     "execution_count": 68,
     "metadata": {},
     "output_type": "execute_result"
    }
   ],
   "source": [
    "nltk.download('stopwords')"
   ]
  },
  {
   "cell_type": "code",
   "execution_count": 72,
   "id": "9a2edf50",
   "metadata": {},
   "outputs": [
    {
     "name": "stdout",
     "output_type": "stream",
     "text": [
      "['i', 'me', 'my', 'myself', 'we', 'our', 'ours', 'ourselves', 'you', \"you're\", \"you've\", \"you'll\", \"you'd\", 'your', 'yours', 'yourself', 'yourselves', 'he', 'him', 'his', 'himself', 'she', \"she's\", 'her', 'hers', 'herself', 'it', \"it's\", 'its', 'itself', 'they', 'them', 'their', 'theirs', 'themselves', 'what', 'which', 'who', 'whom', 'this', 'that', \"that'll\", 'these', 'those', 'am', 'is', 'are', 'was', 'were', 'be', 'been', 'being', 'have', 'has', 'had', 'having', 'do', 'does', 'did', 'doing', 'a', 'an', 'the', 'and', 'but', 'if', 'or', 'because', 'as', 'until', 'while', 'of', 'at', 'by', 'for', 'with', 'about', 'against', 'between', 'into', 'through', 'during', 'before', 'after', 'above', 'below', 'to', 'from', 'up', 'down', 'in', 'out', 'on', 'off', 'over', 'under', 'again', 'further', 'then', 'once', 'here', 'there', 'when', 'where', 'why', 'how', 'all', 'any', 'both', 'each', 'few', 'more', 'most', 'other', 'some', 'such', 'no', 'nor', 'not', 'only', 'own', 'same', 'so', 'than', 'too', 'very', 's', 't', 'can', 'will', 'just', 'don', \"don't\", 'should', \"should've\", 'now', 'd', 'll', 'm', 'o', 're', 've', 'y', 'ain', 'aren', \"aren't\", 'couldn', \"couldn't\", 'didn', \"didn't\", 'doesn', \"doesn't\", 'hadn', \"hadn't\", 'hasn', \"hasn't\", 'haven', \"haven't\", 'isn', \"isn't\", 'ma', 'mightn', \"mightn't\", 'mustn', \"mustn't\", 'needn', \"needn't\", 'shan', \"shan't\", 'shouldn', \"shouldn't\", 'wasn', \"wasn't\", 'weren', \"weren't\", 'won', \"won't\", 'wouldn', \"wouldn't\"]\n"
     ]
    }
   ],
   "source": [
    "nltk_stop = nltk.corpus.stopwords.words('english')\n",
    "print(nltk_stop)"
   ]
  },
  {
   "cell_type": "code",
   "execution_count": 76,
   "id": "79cf58ad",
   "metadata": {},
   "outputs": [
    {
     "name": "stdout",
     "output_type": "stream",
     "text": [
      "['His', 'barber', 'kept', 'his', 'word', '.', 'But', 'keeping', 'such', 'a', 'huge', 'secret', 'to', 'himself', 'was', 'driving', 'him', 'crazy', '.', 'Finally', ',', 'the', 'barber', 'went', 'up', 'a', 'mountain', 'and', 'almost', 'to', 'the', 'edge', 'of', 'a', 'cliff', '.', 'He', 'dug', 'a', 'hole', 'in', 'the', 'midst', 'of', 'some', 'reeds', '.', 'He', 'looked', 'about', ',', 'to', 'mae', 'sure', 'no', 'one', 'was', 'near', '.']\n",
      "[His]는 불용어이므로 삭제되었습니다.\n",
      "[his]는 불용어이므로 삭제되었습니다.\n",
      "[But]는 불용어이므로 삭제되었습니다.\n",
      "[such]는 불용어이므로 삭제되었습니다.\n",
      "[to]는 불용어이므로 삭제되었습니다.\n",
      "[was]는 불용어이므로 삭제되었습니다.\n",
      "[him]는 불용어이므로 삭제되었습니다.\n",
      "[the]는 불용어이므로 삭제되었습니다.\n",
      "[up]는 불용어이므로 삭제되었습니다.\n",
      "[and]는 불용어이므로 삭제되었습니다.\n",
      "[to]는 불용어이므로 삭제되었습니다.\n",
      "[of]는 불용어이므로 삭제되었습니다.\n",
      "[He]는 불용어이므로 삭제되었습니다.\n",
      "[a]는 불용어이므로 삭제되었습니다.\n",
      "[in]는 불용어이므로 삭제되었습니다.\n",
      "[of]는 불용어이므로 삭제되었습니다.\n",
      "[He]는 불용어이므로 삭제되었습니다.\n",
      "[about]는 불용어이므로 삭제되었습니다.\n",
      "[to]는 불용어이므로 삭제되었습니다.\n",
      "[no]는 불용어이므로 삭제되었습니다.\n",
      "[was]는 불용어이므로 삭제되었습니다.\n",
      "['barber', 'kept', 'word', '.', 'keeping', 'huge', 'secret', 'himself', 'driving', 'crazy', '.', 'Finally', ',', 'barber', 'went', 'a', 'mountain', 'almost', 'the', 'edge', 'a', 'cliff', '.', 'dug', 'a', 'hole', 'the', 'midst', 'some', 'reeds', '.', 'looked', ',', 'mae', 'sure', 'one', 'near', '.']\n"
     ]
    }
   ],
   "source": [
    "# 불용어 제거\n",
    "\n",
    "words = tokenize(text, sent_sep = False)\n",
    "print(words)\n",
    "\n",
    "for word in words:\n",
    "    if word.lower() in nltk_stop:\n",
    "        words.remove(word)\n",
    "        print(f'[{word}]는 불용어이므로 삭제되었습니다.')\n",
    "print(words)"
   ]
  },
  {
   "cell_type": "markdown",
   "id": "b01ca76d",
   "metadata": {},
   "source": [
    "## 표제어 추출(Lematization)\n",
    "- 기본 사전형 단어 추출\n",
    "- 어근 추출(stemming)과의 차이점은 품사 정보를 보존하여 반환한다는 점"
   ]
  },
  {
   "cell_type": "code",
   "execution_count": 115,
   "id": "59cfa7ae",
   "metadata": {},
   "outputs": [],
   "source": [
    "from nltk.stem import WordNetLemmatizer\n",
    "from nltk.tag import pos_tag"
   ]
  },
  {
   "cell_type": "code",
   "execution_count": 116,
   "id": "09f49aba",
   "metadata": {},
   "outputs": [
    {
     "name": "stderr",
     "output_type": "stream",
     "text": [
      "[nltk_data] Downloading package wordnet to\n",
      "[nltk_data]     C:\\Users\\NEW\\AppData\\Roaming\\nltk_data...\n",
      "[nltk_data]   Package wordnet is already up-to-date!\n"
     ]
    },
    {
     "data": {
      "text/plain": [
       "True"
      ]
     },
     "execution_count": 116,
     "metadata": {},
     "output_type": "execute_result"
    }
   ],
   "source": [
    "nltk.download('wordnet')"
   ]
  },
  {
   "cell_type": "code",
   "execution_count": 89,
   "id": "ed33059d",
   "metadata": {},
   "outputs": [
    {
     "name": "stdout",
     "output_type": "stream",
     "text": [
      "[('His', 'PRP$'), ('barber', 'NN'), ('kept', 'VBD'), ('his', 'PRP$'), ('word', 'NN')]\n",
      "[('His', 'p'), ('barber', 'n'), ('kept', 'v'), ('his', 'p'), ('word', 'n')]\n"
     ]
    }
   ],
   "source": [
    "# 만들어둔 사용자함수로 단어 토큰화\n",
    "words =  tokenize(text, sent_sep = False)\n",
    "\n",
    "# 품사 태깅\n",
    "words_pos = pos_tag(words)\n",
    "print(words_pos[:5])\n",
    "\n",
    "# wordnetlemmatizer가 인식할 수 있는 품사 태그로 바꾸기\n",
    "words_pos_new = [(word, tag[0].lower()) for word, tag in words_pos]\n",
    "print(words_pos_new[:5])\n"
   ]
  },
  {
   "cell_type": "code",
   "execution_count": 94,
   "id": "896f5d12",
   "metadata": {
    "scrolled": false
   },
   "outputs": [
    {
     "name": "stdout",
     "output_type": "stream",
     "text": [
      "수정 전: kept \n",
      "수정 후: keep\n",
      "\n",
      "수정 전: keeping \n",
      "수정 후: keep\n",
      "\n",
      "수정 전: was \n",
      "수정 후: be\n",
      "\n",
      "수정 전: driving \n",
      "수정 후: drive\n",
      "\n",
      "수정 전: went \n",
      "수정 후: go\n",
      "\n",
      "수정 전: dug \n",
      "수정 후: dig\n",
      "\n",
      "수정 전: reeds \n",
      "수정 후: reed\n",
      "\n",
      "수정 전: looked \n",
      "수정 후: look\n",
      "\n",
      "수정 전: was \n",
      "수정 후: be\n",
      "\n"
     ]
    }
   ],
   "source": [
    "wn = WordNetLemmatizer()\n",
    "\n",
    "for word, tag in words_pos_new:\n",
    "    try: \n",
    "        lemma_word = wn.lemmatize(word, tag)\n",
    "        if word != lemma_word:\n",
    "            print(f'수정 전: {word} \\n수정 후: {lemma_word}\\n')\n",
    "    except:\n",
    "        pass"
   ]
  },
  {
   "cell_type": "markdown",
   "id": "4962e0b9",
   "metadata": {},
   "source": [
    "## 어근 추출(Stemming)\n",
    "- 형태학적 분석을 단순화한 버전\n",
    "- 정해진 규칙만 보고 어미를 자르는 어림짐작의 작업\n",
    "- 따라서 어간 추출 후 사전에 존재하지 않는 단어가 나올 수 있음<br>\n",
    " ex) the going -> the go, having -> hav 등"
   ]
  },
  {
   "cell_type": "code",
   "execution_count": 111,
   "id": "d9ebc43e",
   "metadata": {},
   "outputs": [],
   "source": [
    "from nltk.stem import LancasterStemmer"
   ]
  },
  {
   "cell_type": "code",
   "execution_count": 106,
   "id": "cb349417",
   "metadata": {},
   "outputs": [],
   "source": [
    "# 단어 토큰화\n",
    "words = tokenize(text, sent_sep = False)\n",
    "\n",
    "# 단어 토큰 품사 태깅\n",
    "words_pos_v = [(word, tag[0].lower()) for word, tag in pos_tag(words) if tag[0].lower() == 'v']"
   ]
  },
  {
   "cell_type": "code",
   "execution_count": 107,
   "id": "1b34ef16",
   "metadata": {},
   "outputs": [
    {
     "data": {
      "text/plain": [
       "[('kept', 'v'),\n",
       " ('keeping', 'v'),\n",
       " ('was', 'v'),\n",
       " ('driving', 'v'),\n",
       " ('went', 'v'),\n",
       " ('dug', 'v'),\n",
       " ('looked', 'v'),\n",
       " ('mae', 'v'),\n",
       " ('was', 'v')]"
      ]
     },
     "execution_count": 107,
     "metadata": {},
     "output_type": "execute_result"
    }
   ],
   "source": [
    "words_pos_v"
   ]
  },
  {
   "cell_type": "code",
   "execution_count": 110,
   "id": "1232c388",
   "metadata": {
    "scrolled": true
   },
   "outputs": [
    {
     "name": "stdout",
     "output_type": "stream",
     "text": [
      "수정 전: kept\n",
      "수정 후: kept\n",
      "\n",
      "수정 전: keeping\n",
      "수정 후: keep\n",
      "\n",
      "수정 전: was\n",
      "수정 후: was\n",
      "\n",
      "수정 전: driving\n",
      "수정 후: driv\n",
      "\n",
      "수정 전: went\n",
      "수정 후: went\n",
      "\n",
      "수정 전: dug\n",
      "수정 후: dug\n",
      "\n",
      "수정 전: looked\n",
      "수정 후: look\n",
      "\n",
      "수정 전: mae\n",
      "수정 후: mae\n",
      "\n",
      "수정 전: was\n",
      "수정 후: was\n",
      "\n"
     ]
    }
   ],
   "source": [
    "# 어근 추출\n",
    "\n",
    "lancaster = LancasterStemmer()\n",
    "\n",
    "for word, tag in words_pos_v:\n",
    "    word_stem = lancaster.stem(word)\n",
    "    print(f'수정 전: {word}\\n수정 후: {word_stem}\\n' )\n",
    "\n",
    "# 썩 성능이,,, 좋지 않다,, ㅋㅋ,,"
   ]
  }
 ],
 "metadata": {
  "kernelspec": {
   "display_name": "Python 3 (ipykernel)",
   "language": "python",
   "name": "python3"
  },
  "language_info": {
   "codemirror_mode": {
    "name": "ipython",
    "version": 3
   },
   "file_extension": ".py",
   "mimetype": "text/x-python",
   "name": "python",
   "nbconvert_exporter": "python",
   "pygments_lexer": "ipython3",
   "version": "3.8.13"
  },
  "toc": {
   "base_numbering": 1,
   "nav_menu": {},
   "number_sections": true,
   "sideBar": true,
   "skip_h1_title": false,
   "title_cell": "Table of Contents",
   "title_sidebar": "Contents",
   "toc_cell": false,
   "toc_position": {
    "height": "calc(100% - 180px)",
    "left": "10px",
    "top": "150px",
    "width": "165.75px"
   },
   "toc_section_display": true,
   "toc_window_display": true
  }
 },
 "nbformat": 4,
 "nbformat_minor": 5
}

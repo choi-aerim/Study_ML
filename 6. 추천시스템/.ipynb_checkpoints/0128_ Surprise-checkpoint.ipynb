{
 "cells": [
  {
   "cell_type": "markdown",
   "id": "c58dd8dd",
   "metadata": {},
   "source": [
    "# Surprise"
   ]
  },
  {
   "cell_type": "markdown",
   "id": "0b9c37b1",
   "metadata": {},
   "source": [
    "## 기초"
   ]
  },
  {
   "cell_type": "markdown",
   "id": "33dbc22a",
   "metadata": {},
   "source": [
    "### 데이터불러오기"
   ]
  },
  {
   "cell_type": "code",
   "execution_count": 7,
   "id": "0a4ce5ad",
   "metadata": {},
   "outputs": [],
   "source": [
    "import pandas as pd\n",
    "from surprise import Dataset, Reader\n",
    "from surprise.model_selection import train_test_split\n",
    "from surprise import SVD\n",
    "from surprise import accuracy"
   ]
  },
  {
   "cell_type": "code",
   "execution_count": 8,
   "id": "44b7fdb6",
   "metadata": {},
   "outputs": [
    {
     "data": {
      "text/html": [
       "<div>\n",
       "<style scoped>\n",
       "    .dataframe tbody tr th:only-of-type {\n",
       "        vertical-align: middle;\n",
       "    }\n",
       "\n",
       "    .dataframe tbody tr th {\n",
       "        vertical-align: top;\n",
       "    }\n",
       "\n",
       "    .dataframe thead th {\n",
       "        text-align: right;\n",
       "    }\n",
       "</style>\n",
       "<table border=\"1\" class=\"dataframe\">\n",
       "  <thead>\n",
       "    <tr style=\"text-align: right;\">\n",
       "      <th></th>\n",
       "      <th>userId</th>\n",
       "      <th>movieId</th>\n",
       "      <th>rating</th>\n",
       "      <th>timestamp</th>\n",
       "    </tr>\n",
       "  </thead>\n",
       "  <tbody>\n",
       "    <tr>\n",
       "      <th>0</th>\n",
       "      <td>1</td>\n",
       "      <td>1</td>\n",
       "      <td>4.0</td>\n",
       "      <td>964982703</td>\n",
       "    </tr>\n",
       "    <tr>\n",
       "      <th>1</th>\n",
       "      <td>1</td>\n",
       "      <td>3</td>\n",
       "      <td>4.0</td>\n",
       "      <td>964981247</td>\n",
       "    </tr>\n",
       "    <tr>\n",
       "      <th>2</th>\n",
       "      <td>1</td>\n",
       "      <td>6</td>\n",
       "      <td>4.0</td>\n",
       "      <td>964982224</td>\n",
       "    </tr>\n",
       "    <tr>\n",
       "      <th>3</th>\n",
       "      <td>1</td>\n",
       "      <td>47</td>\n",
       "      <td>5.0</td>\n",
       "      <td>964983815</td>\n",
       "    </tr>\n",
       "    <tr>\n",
       "      <th>4</th>\n",
       "      <td>1</td>\n",
       "      <td>50</td>\n",
       "      <td>5.0</td>\n",
       "      <td>964982931</td>\n",
       "    </tr>\n",
       "  </tbody>\n",
       "</table>\n",
       "</div>"
      ],
      "text/plain": [
       "   userId  movieId  rating  timestamp\n",
       "0       1        1     4.0  964982703\n",
       "1       1        3     4.0  964981247\n",
       "2       1        6     4.0  964982224\n",
       "3       1       47     5.0  964983815\n",
       "4       1       50     5.0  964982931"
      ]
     },
     "metadata": {},
     "output_type": "display_data"
    },
    {
     "data": {
      "text/plain": [
       "<surprise.dataset.DatasetAutoFolds at 0x244b35ef8b0>"
      ]
     },
     "execution_count": 8,
     "metadata": {},
     "output_type": "execute_result"
    }
   ],
   "source": [
    "df = pd.read_csv('./필요 데이터/ml-latest-small/ratings.csv')\n",
    "display(df.head())\n",
    "\n",
    "# surprise 데이터로 변환\n",
    "reader = Reader(rating_scale = (0.5, 5))\n",
    "data = Dataset.load_from_df(df[['userId', 'movieId', 'rating']], reader = reader)\n",
    "data"
   ]
  },
  {
   "cell_type": "markdown",
   "id": "049ee315",
   "metadata": {},
   "source": [
    "### 학습용/검증용 데이터 나누기"
   ]
  },
  {
   "cell_type": "code",
   "execution_count": 10,
   "id": "aa509f54",
   "metadata": {},
   "outputs": [],
   "source": [
    "trainset, testset = train_test_split(data, test_size = 0.25, random_state = 0)"
   ]
  },
  {
   "cell_type": "markdown",
   "id": "3ea38062",
   "metadata": {},
   "source": [
    "### 추천을 위한 예측 알고리즘으로 학습/예측/평가"
   ]
  },
  {
   "cell_type": "markdown",
   "id": "f78cb96c",
   "metadata": {},
   "source": [
    "#### 학습"
   ]
  },
  {
   "cell_type": "code",
   "execution_count": 13,
   "id": "fa4616d7",
   "metadata": {},
   "outputs": [
    {
     "data": {
      "text/plain": [
       "<surprise.prediction_algorithms.matrix_factorization.SVD at 0x244b88aca60>"
      ]
     },
     "execution_count": 13,
     "metadata": {},
     "output_type": "execute_result"
    }
   ],
   "source": [
    "algo = SVD(random_state = 0)\n",
    "algo.fit(trainset)"
   ]
  },
  {
   "cell_type": "markdown",
   "id": "9cf53a8d",
   "metadata": {},
   "source": [
    "#### 예측"
   ]
  },
  {
   "cell_type": "code",
   "execution_count": 21,
   "id": "3c214d8b",
   "metadata": {
    "scrolled": true
   },
   "outputs": [
    {
     "data": {
      "text/plain": [
       "[Prediction(uid=63, iid=2000, r_ui=3.0, est=3.8949096605218374, details={'was_impossible': False}),\n",
       " Prediction(uid=31, iid=788, r_ui=2.0, est=3.3976098704249553, details={'was_impossible': False}),\n",
       " Prediction(uid=159, iid=6373, r_ui=4.0, est=2.843880098254117, details={'was_impossible': False}),\n",
       " Prediction(uid=105, iid=81564, r_ui=3.0, est=4.001264995957212, details={'was_impossible': False}),\n",
       " Prediction(uid=394, iid=480, r_ui=3.0, est=3.2445349452393972, details={'was_impossible': False})]"
      ]
     },
     "execution_count": 21,
     "metadata": {},
     "output_type": "execute_result"
    }
   ],
   "source": [
    "pred_all = algo.test(testset)\n",
    "pred_all[:5]"
   ]
  },
  {
   "cell_type": "code",
   "execution_count": 18,
   "id": "34248a2b",
   "metadata": {},
   "outputs": [
    {
     "data": {
      "text/plain": [
       "Prediction(uid='63', iid='2000', r_ui=None, est=3.5002644558160445, details={'was_impossible': False})"
      ]
     },
     "execution_count": 18,
     "metadata": {},
     "output_type": "execute_result"
    }
   ],
   "source": [
    "uij = str(testset[0][0])\n",
    "iij = str(testset[0][1])\n",
    "\n",
    "pred = algo.predict(uij, iij)\n",
    "pred"
   ]
  },
  {
   "cell_type": "code",
   "execution_count": 20,
   "id": "21738757",
   "metadata": {},
   "outputs": [
    {
     "data": {
      "text/plain": [
       "3.5002644558160445"
      ]
     },
     "execution_count": 20,
     "metadata": {},
     "output_type": "execute_result"
    }
   ],
   "source": [
    "pred.est"
   ]
  },
  {
   "cell_type": "markdown",
   "id": "dbfcbad2",
   "metadata": {},
   "source": [
    "#### 평가"
   ]
  },
  {
   "cell_type": "code",
   "execution_count": 22,
   "id": "77315769",
   "metadata": {},
   "outputs": [
    {
     "name": "stdout",
     "output_type": "stream",
     "text": [
      "RMSE: 0.8692\n"
     ]
    },
    {
     "data": {
      "text/plain": [
       "0.8691518972016722"
      ]
     },
     "execution_count": 22,
     "metadata": {},
     "output_type": "execute_result"
    }
   ],
   "source": [
    "accuracy.rmse(pred_all)"
   ]
  },
  {
   "cell_type": "markdown",
   "id": "ddf28a4d",
   "metadata": {},
   "source": [
    "#### 하이퍼파라미터 튜닝"
   ]
  },
  {
   "cell_type": "code",
   "execution_count": 31,
   "id": "874e9826",
   "metadata": {},
   "outputs": [
    {
     "name": "stdout",
     "output_type": "stream",
     "text": [
      "Evaluating RMSE, MAE of algorithm SVD on 5 split(s).\n",
      "\n",
      "                  Fold 1  Fold 2  Fold 3  Fold 4  Fold 5  Mean    Std     \n",
      "RMSE (testset)    0.8785  0.8758  0.8690  0.8689  0.8808  0.8746  0.0049  \n",
      "MAE (testset)     0.6748  0.6732  0.6685  0.6663  0.6764  0.6718  0.0038  \n",
      "Fit time          3.84    3.49    3.58    3.88    3.87    3.73    0.16    \n",
      "Test time         0.77    0.75    0.82    0.73    0.72    0.76    0.04    \n"
     ]
    },
    {
     "data": {
      "text/plain": [
       "{'test_rmse': array([0.87849279, 0.87576235, 0.86904492, 0.86889099, 0.88077967]),\n",
       " 'test_mae': array([0.67477762, 0.67316262, 0.66851386, 0.66633319, 0.67638842]),\n",
       " 'fit_time': (3.835999011993408,\n",
       "  3.488994598388672,\n",
       "  3.577996253967285,\n",
       "  3.8790056705474854,\n",
       "  3.870992660522461),\n",
       " 'test_time': (0.769000768661499,\n",
       "  0.7540028095245361,\n",
       "  0.8209991455078125,\n",
       "  0.7349927425384521,\n",
       "  0.715003252029419)}"
      ]
     },
     "execution_count": 31,
     "metadata": {},
     "output_type": "execute_result"
    }
   ],
   "source": [
    "# 교차검증 활용\n",
    "\n",
    "from surprise.model_selection import cross_validate\n",
    "\n",
    "## 추천 알고리즘 지정\n",
    "algo = SVD(random_state = 0)\n",
    "\n",
    "## 교차 검증\n",
    "cross_validate(algo, data, cv = 5, measures = ['RMSE', 'MAE'], verbose = True)"
   ]
  },
  {
   "cell_type": "code",
   "execution_count": 38,
   "id": "ad3da2e2",
   "metadata": {},
   "outputs": [
    {
     "name": "stdout",
     "output_type": "stream",
     "text": [
      "0.870663067882038\n",
      "0.6691296694225844\n",
      "{'n_epochs': 20, 'n_factors': 50}\n",
      "{'n_epochs': 20, 'n_factors': 50}\n"
     ]
    }
   ],
   "source": [
    "# gridsearchCV 활용\n",
    "\n",
    "from surprise.model_selection import GridSearchCV\n",
    "\n",
    "params = {'n_epochs': [20, 40, 60], 'n_factors': [50, 100, 200]}\n",
    "\n",
    "grid_clf = GridSearchCV(SVD, param_grid = params, cv = 5, measures = ['rmse', 'mae'])\n",
    "grid_clf.fit(data)\n",
    "\n",
    "print(grid_clf.best_score['rmse'])\n",
    "print(grid_clf.best_score['mae'])\n",
    "print(grid_clf.best_params['rmse'])\n",
    "print(grid_clf.best_params['mae'])"
   ]
  },
  {
   "cell_type": "markdown",
   "id": "4d11cccd",
   "metadata": {},
   "source": [
    "## 실습: Surprise를 이용한 개인화 영화 추천시스템 구축\n",
    "- 잠재요인 협업 필터링 기반의 개인화된 영화 추천 구현\n",
    "- 특정 사용자가 아직 평점을 매기지 않은 영화 중에서 개인 취향에 가장 적절한 영화 추천하기"
   ]
  },
  {
   "cell_type": "code",
   "execution_count": 48,
   "id": "6097024b",
   "metadata": {},
   "outputs": [],
   "source": [
    "from surprise import Dataset, Reader\n",
    "from surprise import SVD\n",
    "from surprise.model_selection import train_test_split, GridSearchCV\n",
    "from surprise.accuracy import rmse, mae"
   ]
  },
  {
   "cell_type": "markdown",
   "id": "ca43eaec",
   "metadata": {},
   "source": [
    "### 데이터 불러오기"
   ]
  },
  {
   "cell_type": "code",
   "execution_count": 42,
   "id": "4936623e",
   "metadata": {},
   "outputs": [],
   "source": [
    "import pandas as pd\n",
    "import numpy as np"
   ]
  },
  {
   "cell_type": "code",
   "execution_count": 43,
   "id": "7ba044f4",
   "metadata": {},
   "outputs": [
    {
     "data": {
      "text/html": [
       "<div>\n",
       "<style scoped>\n",
       "    .dataframe tbody tr th:only-of-type {\n",
       "        vertical-align: middle;\n",
       "    }\n",
       "\n",
       "    .dataframe tbody tr th {\n",
       "        vertical-align: top;\n",
       "    }\n",
       "\n",
       "    .dataframe thead th {\n",
       "        text-align: right;\n",
       "    }\n",
       "</style>\n",
       "<table border=\"1\" class=\"dataframe\">\n",
       "  <thead>\n",
       "    <tr style=\"text-align: right;\">\n",
       "      <th></th>\n",
       "      <th>userId</th>\n",
       "      <th>movieId</th>\n",
       "      <th>rating</th>\n",
       "      <th>timestamp</th>\n",
       "    </tr>\n",
       "  </thead>\n",
       "  <tbody>\n",
       "    <tr>\n",
       "      <th>0</th>\n",
       "      <td>1</td>\n",
       "      <td>1</td>\n",
       "      <td>4.0</td>\n",
       "      <td>964982703</td>\n",
       "    </tr>\n",
       "    <tr>\n",
       "      <th>1</th>\n",
       "      <td>1</td>\n",
       "      <td>3</td>\n",
       "      <td>4.0</td>\n",
       "      <td>964981247</td>\n",
       "    </tr>\n",
       "    <tr>\n",
       "      <th>2</th>\n",
       "      <td>1</td>\n",
       "      <td>6</td>\n",
       "      <td>4.0</td>\n",
       "      <td>964982224</td>\n",
       "    </tr>\n",
       "  </tbody>\n",
       "</table>\n",
       "</div>"
      ],
      "text/plain": [
       "   userId  movieId  rating  timestamp\n",
       "0       1        1     4.0  964982703\n",
       "1       1        3     4.0  964981247\n",
       "2       1        6     4.0  964982224"
      ]
     },
     "execution_count": 43,
     "metadata": {},
     "output_type": "execute_result"
    }
   ],
   "source": [
    "rating_df = pd.read_csv('./필요 데이터/ml-latest-small/ratings.csv')\n",
    "rating_df.head(3)"
   ]
  },
  {
   "cell_type": "code",
   "execution_count": 56,
   "id": "938779a4",
   "metadata": {},
   "outputs": [
    {
     "data": {
      "text/plain": [
       "(0.5, 5.0)"
      ]
     },
     "execution_count": 56,
     "metadata": {},
     "output_type": "execute_result"
    }
   ],
   "source": [
    "np.min(rating_df['rating']), np.max(rating_df['rating'])"
   ]
  },
  {
   "cell_type": "code",
   "execution_count": 65,
   "id": "5439cf2f",
   "metadata": {},
   "outputs": [
    {
     "data": {
      "text/plain": [
       "<surprise.dataset.DatasetAutoFolds at 0x244c0cf48e0>"
      ]
     },
     "execution_count": 65,
     "metadata": {},
     "output_type": "execute_result"
    }
   ],
   "source": [
    "reader = Reader(rating_scale = (0.5, 5))\n",
    "rating_ = Dataset.load_from_df(rating_df[['userId','movieId', 'rating']], reader = reader)\n",
    "rating_"
   ]
  },
  {
   "cell_type": "markdown",
   "id": "7b09ecc5",
   "metadata": {},
   "source": [
    "### 데이터 다시 불러오기 및 데이터셋 전체를 학습용 데이터로 분류\n",
    "- surprise 라이브러리는 학습 전에 trainset 클래스객체로 변환하지 않으면 fit()을 통한 학습이 불가능함\n",
    "- 데이터 전체를 학습용 데이터로 변환하기 위해서는 DatasetAutoFolds 클래스를 통해 객체를 생성한 뒤, build_full_trainset() 메서드를 호출하면 됨"
   ]
  },
  {
   "cell_type": "code",
   "execution_count": 66,
   "id": "5e19e83a",
   "metadata": {},
   "outputs": [],
   "source": [
    "from surprise.dataset import DatasetAutoFolds"
   ]
  },
  {
   "cell_type": "code",
   "execution_count": 73,
   "id": "7fac13c6",
   "metadata": {},
   "outputs": [],
   "source": [
    "# 데이터셋 불러오기\n",
    "rating_df = pd.read_csv('./필요 데이터/ml-latest-small/ratings.csv')\n",
    "\n",
    "# 헤더 없이 저장\n",
    "rating_df.to_csv('./필요 데이터/ml-latest-small/ratings_noh.csv', index =  False, header = False)"
   ]
  },
  {
   "cell_type": "code",
   "execution_count": 82,
   "id": "a32fe573",
   "metadata": {},
   "outputs": [
    {
     "data": {
      "text/plain": [
       "<surprise.trainset.Trainset at 0x244c3195d90>"
      ]
     },
     "execution_count": 82,
     "metadata": {},
     "output_type": "execute_result"
    }
   ],
   "source": [
    "reader = Reader(line_format = 'user item rating timestamp', \n",
    "                sep = ',', rating_scale = (0.5,5))\n",
    "\n",
    "fold_data = DatasetAutoFolds('./필요 데이터/ml-latest-small/ratings_noh.csv', reader = reader)\n",
    "trainset = fold_data.build_full_trainset()\n",
    "trainset"
   ]
  },
  {
   "cell_type": "markdown",
   "id": "2e27c290",
   "metadata": {},
   "source": [
    "### 학습"
   ]
  },
  {
   "cell_type": "code",
   "execution_count": 89,
   "id": "ce86f74e",
   "metadata": {},
   "outputs": [
    {
     "data": {
      "text/plain": [
       "<surprise.prediction_algorithms.matrix_factorization.SVD at 0x244c3238be0>"
      ]
     },
     "execution_count": 89,
     "metadata": {},
     "output_type": "execute_result"
    }
   ],
   "source": [
    "algo = SVD(n_factors = 50, n_epochs = 20, random_state = 0)\n",
    "\n",
    "algo.fit(trainset)"
   ]
  },
  {
   "cell_type": "markdown",
   "id": "7074664e",
   "metadata": {},
   "source": [
    "### 테스트"
   ]
  },
  {
   "cell_type": "code",
   "execution_count": 87,
   "id": "6467f3d0",
   "metadata": {},
   "outputs": [
    {
     "data": {
      "text/html": [
       "<div>\n",
       "<style scoped>\n",
       "    .dataframe tbody tr th:only-of-type {\n",
       "        vertical-align: middle;\n",
       "    }\n",
       "\n",
       "    .dataframe tbody tr th {\n",
       "        vertical-align: top;\n",
       "    }\n",
       "\n",
       "    .dataframe thead th {\n",
       "        text-align: right;\n",
       "    }\n",
       "</style>\n",
       "<table border=\"1\" class=\"dataframe\">\n",
       "  <thead>\n",
       "    <tr style=\"text-align: right;\">\n",
       "      <th></th>\n",
       "      <th>movieId</th>\n",
       "    </tr>\n",
       "  </thead>\n",
       "  <tbody>\n",
       "    <tr>\n",
       "      <th>1073</th>\n",
       "      <td>41</td>\n",
       "    </tr>\n",
       "    <tr>\n",
       "      <th>1074</th>\n",
       "      <td>187</td>\n",
       "    </tr>\n",
       "    <tr>\n",
       "      <th>1075</th>\n",
       "      <td>223</td>\n",
       "    </tr>\n",
       "    <tr>\n",
       "      <th>1076</th>\n",
       "      <td>371</td>\n",
       "    </tr>\n",
       "    <tr>\n",
       "      <th>1077</th>\n",
       "      <td>627</td>\n",
       "    </tr>\n",
       "  </tbody>\n",
       "</table>\n",
       "</div>"
      ],
      "text/plain": [
       "      movieId\n",
       "1073       41\n",
       "1074      187\n",
       "1075      223\n",
       "1076      371\n",
       "1077      627"
      ]
     },
     "execution_count": 87,
     "metadata": {},
     "output_type": "execute_result"
    }
   ],
   "source": [
    "userId = 9\n",
    "\n",
    "# userid가 9인 사람의 평점\n",
    "rating_df[rating_df['userId'] == userId][['movieId']].head()"
   ]
  },
  {
   "cell_type": "code",
   "execution_count": 90,
   "id": "0fbb22da",
   "metadata": {},
   "outputs": [
    {
     "data": {
      "text/plain": [
       "Prediction(uid='9', iid='42', r_ui=None, est=3.130146490888994, details={'was_impossible': False})"
      ]
     },
     "execution_count": 90,
     "metadata": {},
     "output_type": "execute_result"
    }
   ],
   "source": [
    "# movieid가 42일 때 예측 평점\n",
    "algo.predict(uid = '9', iid = '42')"
   ]
  },
  {
   "cell_type": "markdown",
   "id": "5ae87110",
   "metadata": {},
   "source": [
    "### 추천 시스템"
   ]
  },
  {
   "cell_type": "code",
   "execution_count": 92,
   "id": "5bf14a63",
   "metadata": {},
   "outputs": [
    {
     "data": {
      "text/html": [
       "<div>\n",
       "<style scoped>\n",
       "    .dataframe tbody tr th:only-of-type {\n",
       "        vertical-align: middle;\n",
       "    }\n",
       "\n",
       "    .dataframe tbody tr th {\n",
       "        vertical-align: top;\n",
       "    }\n",
       "\n",
       "    .dataframe thead th {\n",
       "        text-align: right;\n",
       "    }\n",
       "</style>\n",
       "<table border=\"1\" class=\"dataframe\">\n",
       "  <thead>\n",
       "    <tr style=\"text-align: right;\">\n",
       "      <th></th>\n",
       "      <th>userId</th>\n",
       "      <th>movieId</th>\n",
       "      <th>rating</th>\n",
       "      <th>timestamp</th>\n",
       "    </tr>\n",
       "  </thead>\n",
       "  <tbody>\n",
       "    <tr>\n",
       "      <th>0</th>\n",
       "      <td>1</td>\n",
       "      <td>1</td>\n",
       "      <td>4.0</td>\n",
       "      <td>964982703</td>\n",
       "    </tr>\n",
       "    <tr>\n",
       "      <th>1</th>\n",
       "      <td>1</td>\n",
       "      <td>3</td>\n",
       "      <td>4.0</td>\n",
       "      <td>964981247</td>\n",
       "    </tr>\n",
       "    <tr>\n",
       "      <th>2</th>\n",
       "      <td>1</td>\n",
       "      <td>6</td>\n",
       "      <td>4.0</td>\n",
       "      <td>964982224</td>\n",
       "    </tr>\n",
       "    <tr>\n",
       "      <th>3</th>\n",
       "      <td>1</td>\n",
       "      <td>47</td>\n",
       "      <td>5.0</td>\n",
       "      <td>964983815</td>\n",
       "    </tr>\n",
       "    <tr>\n",
       "      <th>4</th>\n",
       "      <td>1</td>\n",
       "      <td>50</td>\n",
       "      <td>5.0</td>\n",
       "      <td>964982931</td>\n",
       "    </tr>\n",
       "    <tr>\n",
       "      <th>...</th>\n",
       "      <td>...</td>\n",
       "      <td>...</td>\n",
       "      <td>...</td>\n",
       "      <td>...</td>\n",
       "    </tr>\n",
       "    <tr>\n",
       "      <th>100831</th>\n",
       "      <td>610</td>\n",
       "      <td>166534</td>\n",
       "      <td>4.0</td>\n",
       "      <td>1493848402</td>\n",
       "    </tr>\n",
       "    <tr>\n",
       "      <th>100832</th>\n",
       "      <td>610</td>\n",
       "      <td>168248</td>\n",
       "      <td>5.0</td>\n",
       "      <td>1493850091</td>\n",
       "    </tr>\n",
       "    <tr>\n",
       "      <th>100833</th>\n",
       "      <td>610</td>\n",
       "      <td>168250</td>\n",
       "      <td>5.0</td>\n",
       "      <td>1494273047</td>\n",
       "    </tr>\n",
       "    <tr>\n",
       "      <th>100834</th>\n",
       "      <td>610</td>\n",
       "      <td>168252</td>\n",
       "      <td>5.0</td>\n",
       "      <td>1493846352</td>\n",
       "    </tr>\n",
       "    <tr>\n",
       "      <th>100835</th>\n",
       "      <td>610</td>\n",
       "      <td>170875</td>\n",
       "      <td>3.0</td>\n",
       "      <td>1493846415</td>\n",
       "    </tr>\n",
       "  </tbody>\n",
       "</table>\n",
       "<p>100836 rows × 4 columns</p>\n",
       "</div>"
      ],
      "text/plain": [
       "        userId  movieId  rating   timestamp\n",
       "0            1        1     4.0   964982703\n",
       "1            1        3     4.0   964981247\n",
       "2            1        6     4.0   964982224\n",
       "3            1       47     5.0   964983815\n",
       "4            1       50     5.0   964982931\n",
       "...        ...      ...     ...         ...\n",
       "100831     610   166534     4.0  1493848402\n",
       "100832     610   168248     5.0  1493850091\n",
       "100833     610   168250     5.0  1494273047\n",
       "100834     610   168252     5.0  1493846352\n",
       "100835     610   170875     3.0  1493846415\n",
       "\n",
       "[100836 rows x 4 columns]"
      ]
     },
     "execution_count": 92,
     "metadata": {},
     "output_type": "execute_result"
    }
   ],
   "source": [
    "rating_df"
   ]
  },
  {
   "cell_type": "code",
   "execution_count": 94,
   "id": "faafdc35",
   "metadata": {},
   "outputs": [
    {
     "data": {
      "text/html": [
       "<div>\n",
       "<style scoped>\n",
       "    .dataframe tbody tr th:only-of-type {\n",
       "        vertical-align: middle;\n",
       "    }\n",
       "\n",
       "    .dataframe tbody tr th {\n",
       "        vertical-align: top;\n",
       "    }\n",
       "\n",
       "    .dataframe thead th {\n",
       "        text-align: right;\n",
       "    }\n",
       "</style>\n",
       "<table border=\"1\" class=\"dataframe\">\n",
       "  <thead>\n",
       "    <tr style=\"text-align: right;\">\n",
       "      <th></th>\n",
       "      <th>movieId</th>\n",
       "      <th>title</th>\n",
       "      <th>genres</th>\n",
       "    </tr>\n",
       "  </thead>\n",
       "  <tbody>\n",
       "    <tr>\n",
       "      <th>0</th>\n",
       "      <td>1</td>\n",
       "      <td>Toy Story (1995)</td>\n",
       "      <td>Adventure|Animation|Children|Comedy|Fantasy</td>\n",
       "    </tr>\n",
       "    <tr>\n",
       "      <th>1</th>\n",
       "      <td>2</td>\n",
       "      <td>Jumanji (1995)</td>\n",
       "      <td>Adventure|Children|Fantasy</td>\n",
       "    </tr>\n",
       "    <tr>\n",
       "      <th>2</th>\n",
       "      <td>3</td>\n",
       "      <td>Grumpier Old Men (1995)</td>\n",
       "      <td>Comedy|Romance</td>\n",
       "    </tr>\n",
       "  </tbody>\n",
       "</table>\n",
       "</div>"
      ],
      "text/plain": [
       "   movieId                    title  \\\n",
       "0        1         Toy Story (1995)   \n",
       "1        2           Jumanji (1995)   \n",
       "2        3  Grumpier Old Men (1995)   \n",
       "\n",
       "                                        genres  \n",
       "0  Adventure|Animation|Children|Comedy|Fantasy  \n",
       "1                   Adventure|Children|Fantasy  \n",
       "2                               Comedy|Romance  "
      ]
     },
     "execution_count": 94,
     "metadata": {},
     "output_type": "execute_result"
    }
   ],
   "source": [
    "movies_df = pd.read_csv('./필요 데이터/ml-latest-small/movies.csv')\n",
    "movies_df.head(3)"
   ]
  },
  {
   "cell_type": "code",
   "execution_count": 103,
   "id": "39d1816f",
   "metadata": {},
   "outputs": [],
   "source": [
    "# 사용자가 보지 않은 영화id 리스트 반환\n",
    "def get_unseen_surprise(ratings_df, movies_df, userId):\n",
    "    seen_movies_idxes = rating_df[ratings_df['userId'] == userId]['movieId']\n",
    "    \n",
    "    all_movies_idxes = movies_df['movieId'].tolist()\n",
    "    unseen_movies_idxes = [idx for idx in all_movies_idxes if idx not in seen_movies_idxes]\n",
    "    \n",
    "    return unseen_movies_idxes"
   ]
  },
  {
   "cell_type": "code",
   "execution_count": 175,
   "id": "6de206ab",
   "metadata": {},
   "outputs": [],
   "source": [
    "# 추천시스템\n",
    "\n",
    "def recommend_unseen_movies_by_surprise(algo, userId, movies_df, unseen_movies, top_n = 20):\n",
    "    # 보지 않은 영화들의 예측 평점 리스트 확인\n",
    "    preds = [algo.predict(uid = str(userId), iid = str(unseen_movie)) for unseen_movie in unseen_movies]\n",
    "    \n",
    "    # 예측 평점을 top_n개 순으로 내림차순 정렬\n",
    "    sorted_movie_preds = sorted(preds, reverse = True, \n",
    "                                key = lambda x: x.est)[:top_n]\n",
    "    \n",
    "    # 반환\n",
    "    movie_id = [int(i.iid) for i in sorted_movie_preds]\n",
    "    print(movie_id)\n",
    "    movie_title = [movies_df[movies_df['movieId'] == id_]['title'].iloc[0] for id_ in movie_id]\n",
    "    movie_preds = [float(i.est) for i in sorted_movie_preds]\n",
    "    \n",
    "    recommend_df = pd.DataFrame(movie_preds, index = movie_title, columns = ['예측 평점'])\n",
    "    return recommend_df\n",
    "    "
   ]
  },
  {
   "cell_type": "code",
   "execution_count": 176,
   "id": "77a115d0",
   "metadata": {},
   "outputs": [
    {
     "name": "stdout",
     "output_type": "stream",
     "text": [
      "[858, 260, 296, 1196, 1198, 50, 1210, 4993, 1213, 1242, 593, 47, 1233, 56782, 741, 318, 2324, 6787, 58559, 1291]\n"
     ]
    },
    {
     "data": {
      "text/html": [
       "<div>\n",
       "<style scoped>\n",
       "    .dataframe tbody tr th:only-of-type {\n",
       "        vertical-align: middle;\n",
       "    }\n",
       "\n",
       "    .dataframe tbody tr th {\n",
       "        vertical-align: top;\n",
       "    }\n",
       "\n",
       "    .dataframe thead th {\n",
       "        text-align: right;\n",
       "    }\n",
       "</style>\n",
       "<table border=\"1\" class=\"dataframe\">\n",
       "  <thead>\n",
       "    <tr style=\"text-align: right;\">\n",
       "      <th></th>\n",
       "      <th>예측 평점</th>\n",
       "    </tr>\n",
       "  </thead>\n",
       "  <tbody>\n",
       "    <tr>\n",
       "      <th>Godfather, The (1972)</th>\n",
       "      <td>4.306302</td>\n",
       "    </tr>\n",
       "    <tr>\n",
       "      <th>Star Wars: Episode IV - A New Hope (1977)</th>\n",
       "      <td>4.281664</td>\n",
       "    </tr>\n",
       "    <tr>\n",
       "      <th>Pulp Fiction (1994)</th>\n",
       "      <td>4.278153</td>\n",
       "    </tr>\n",
       "    <tr>\n",
       "      <th>Star Wars: Episode V - The Empire Strikes Back (1980)</th>\n",
       "      <td>4.226074</td>\n",
       "    </tr>\n",
       "    <tr>\n",
       "      <th>Raiders of the Lost Ark (Indiana Jones and the Raiders of the Lost Ark) (1981)</th>\n",
       "      <td>4.205267</td>\n",
       "    </tr>\n",
       "    <tr>\n",
       "      <th>Usual Suspects, The (1995)</th>\n",
       "      <td>4.191810</td>\n",
       "    </tr>\n",
       "    <tr>\n",
       "      <th>Star Wars: Episode VI - Return of the Jedi (1983)</th>\n",
       "      <td>4.122016</td>\n",
       "    </tr>\n",
       "    <tr>\n",
       "      <th>Lord of the Rings: The Fellowship of the Ring, The (2001)</th>\n",
       "      <td>4.118003</td>\n",
       "    </tr>\n",
       "    <tr>\n",
       "      <th>Goodfellas (1990)</th>\n",
       "      <td>4.108010</td>\n",
       "    </tr>\n",
       "    <tr>\n",
       "      <th>Glory (1989)</th>\n",
       "      <td>4.083465</td>\n",
       "    </tr>\n",
       "    <tr>\n",
       "      <th>Silence of the Lambs, The (1991)</th>\n",
       "      <td>4.078872</td>\n",
       "    </tr>\n",
       "    <tr>\n",
       "      <th>Seven (a.k.a. Se7en) (1995)</th>\n",
       "      <td>4.074808</td>\n",
       "    </tr>\n",
       "    <tr>\n",
       "      <th>Boot, Das (Boat, The) (1981)</th>\n",
       "      <td>4.073127</td>\n",
       "    </tr>\n",
       "    <tr>\n",
       "      <th>There Will Be Blood (2007)</th>\n",
       "      <td>4.070335</td>\n",
       "    </tr>\n",
       "    <tr>\n",
       "      <th>Ghost in the Shell (Kôkaku kidôtai) (1995)</th>\n",
       "      <td>4.070020</td>\n",
       "    </tr>\n",
       "    <tr>\n",
       "      <th>Shawshank Redemption, The (1994)</th>\n",
       "      <td>4.068483</td>\n",
       "    </tr>\n",
       "    <tr>\n",
       "      <th>Life Is Beautiful (La Vita è bella) (1997)</th>\n",
       "      <td>4.066305</td>\n",
       "    </tr>\n",
       "    <tr>\n",
       "      <th>All the President's Men (1976)</th>\n",
       "      <td>4.061656</td>\n",
       "    </tr>\n",
       "    <tr>\n",
       "      <th>Dark Knight, The (2008)</th>\n",
       "      <td>4.057276</td>\n",
       "    </tr>\n",
       "    <tr>\n",
       "      <th>Indiana Jones and the Last Crusade (1989)</th>\n",
       "      <td>4.056337</td>\n",
       "    </tr>\n",
       "  </tbody>\n",
       "</table>\n",
       "</div>"
      ],
      "text/plain": [
       "                                                       예측 평점\n",
       "Godfather, The (1972)                               4.306302\n",
       "Star Wars: Episode IV - A New Hope (1977)           4.281664\n",
       "Pulp Fiction (1994)                                 4.278153\n",
       "Star Wars: Episode V - The Empire Strikes Back ...  4.226074\n",
       "Raiders of the Lost Ark (Indiana Jones and the ...  4.205267\n",
       "Usual Suspects, The (1995)                          4.191810\n",
       "Star Wars: Episode VI - Return of the Jedi (1983)   4.122016\n",
       "Lord of the Rings: The Fellowship of the Ring, ...  4.118003\n",
       "Goodfellas (1990)                                   4.108010\n",
       "Glory (1989)                                        4.083465\n",
       "Silence of the Lambs, The (1991)                    4.078872\n",
       "Seven (a.k.a. Se7en) (1995)                         4.074808\n",
       "Boot, Das (Boat, The) (1981)                        4.073127\n",
       "There Will Be Blood (2007)                          4.070335\n",
       "Ghost in the Shell (Kôkaku kidôtai) (1995)          4.070020\n",
       "Shawshank Redemption, The (1994)                    4.068483\n",
       "Life Is Beautiful (La Vita è bella) (1997)          4.066305\n",
       "All the President's Men (1976)                      4.061656\n",
       "Dark Knight, The (2008)                             4.057276\n",
       "Indiana Jones and the Last Crusade (1989)           4.056337"
      ]
     },
     "execution_count": 176,
     "metadata": {},
     "output_type": "execute_result"
    }
   ],
   "source": [
    "unseen_movies = get_unseen_surprise(rating_df, movies_df, 9)\n",
    "recommend_unseen_movies_by_surprise(algo, 9, movies_df, unseen_movies, top_n = 20)"
   ]
  }
 ],
 "metadata": {
  "kernelspec": {
   "display_name": "Python 3 (ipykernel)",
   "language": "python",
   "name": "python3"
  },
  "language_info": {
   "codemirror_mode": {
    "name": "ipython",
    "version": 3
   },
   "file_extension": ".py",
   "mimetype": "text/x-python",
   "name": "python",
   "nbconvert_exporter": "python",
   "pygments_lexer": "ipython3",
   "version": "3.8.13"
  },
  "toc": {
   "base_numbering": 1,
   "nav_menu": {},
   "number_sections": true,
   "sideBar": true,
   "skip_h1_title": false,
   "title_cell": "Table of Contents",
   "title_sidebar": "Contents",
   "toc_cell": false,
   "toc_position": {},
   "toc_section_display": true,
   "toc_window_display": false
  }
 },
 "nbformat": 4,
 "nbformat_minor": 5
}
